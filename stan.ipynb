{
 "cells": [
  {
   "cell_type": "code",
   "execution_count": null,
   "metadata": {},
   "outputs": [],
   "source": [
    "import requests\n",
    "import pandas as pd\n",
    "\n",
    "token = \"eyJvcmciOiI1ZTU1NGUxOTI3NGE5NjAwMDEyYTNlYjEiLCJpZCI6IjcxZGFmYmI1NGZkYTQ4NjI5ZGU0Mjk5OTM1ZDlmMzdmIiwiaCI6Im11cm11cjEyOCJ9\"\n",
    "headers = {\"Authorization\": token}\n",
    "\n",
    "request = requests.get(url='https://api.dataplatform.knmi.nl/edr/collections/observations/instances/unvalidated/locations/06201?datetime=2023-11-01T04%3A10%3A00Z%2F2023-11-03T04%3A10%3A00Z&parameter-name=t_dryb_10', headers=headers)\n",
    "jsonre = request.json()\n",
    "jsonre\n",
    "\n",
    "r = requests.get(f\"https://api.dataplatform.knmi.nl/edr/collections/observations\", headers=headers)\n",
    "r.raise_for_status()\n",
    "r.json()\n",
    "'https://api.dataplatform.knmi.nl/edr/collections/observations/instances/unvalidated/locations'"
   ]
  },
  {
   "cell_type": "code",
   "execution_count": 100,
   "metadata": {},
   "outputs": [
    {
     "data": {
      "text/html": [
       "<div>\n",
       "<style scoped>\n",
       "    .dataframe tbody tr th:only-of-type {\n",
       "        vertical-align: middle;\n",
       "    }\n",
       "\n",
       "    .dataframe tbody tr th {\n",
       "        vertical-align: top;\n",
       "    }\n",
       "\n",
       "    .dataframe thead th {\n",
       "        text-align: right;\n",
       "    }\n",
       "</style>\n",
       "<table border=\"1\" class=\"dataframe\">\n",
       "  <thead>\n",
       "    <tr style=\"text-align: right;\">\n",
       "      <th></th>\n",
       "      <th>Naam</th>\n",
       "      <th>id</th>\n",
       "    </tr>\n",
       "  </thead>\n",
       "  <tbody>\n",
       "    <tr>\n",
       "      <th>47</th>\n",
       "      <td>vlissingen aws</td>\n",
       "      <td>06310</td>\n",
       "    </tr>\n",
       "  </tbody>\n",
       "</table>\n",
       "</div>"
      ],
      "text/plain": [
       "              Naam     id\n",
       "47  vlissingen aws  06310"
      ]
     },
     "execution_count": 100,
     "metadata": {},
     "output_type": "execute_result"
    }
   ],
   "source": [
    "token = \"eyJvcmciOiI1ZTU1NGUxOTI3NGE5NjAwMDEyYTNlYjEiLCJpZCI6IjcxZGFmYmI1NGZkYTQ4NjI5ZGU0Mjk5OTM1ZDlmMzdmIiwiaCI6Im11cm11cjEyOCJ9\"\n",
    "headers = {\"Authorization\": token}\n",
    "\n",
    "request = requests.get(url='https://api.dataplatform.knmi.nl/edr/collections/observations/instances/unvalidated/locations', headers=headers)\n",
    "jsonre = request.json()   \n",
    "\n",
    "df = pd.DataFrame(columns=['Naam', 'id'])\n",
    "length = len(jsonre['features'])\n",
    "\n",
    "count = 0 \n",
    "while count != length - 1:\n",
    "    df.loc[len(df)] = [jsonre['features'][count]['properties']['name'], jsonre['features'][count]['id']]\n",
    "    count += 1\n",
    "    \n",
    "df['Naam'] = df['Naam'].str.lower()\n",
    "df[df['Naam'] == 'vlissingen aws']\n",
    "# df['Naam'].unique()"
   ]
  },
  {
   "cell_type": "code",
   "execution_count": 101,
   "metadata": {},
   "outputs": [
    {
     "data": {
      "text/html": [
       "<div>\n",
       "<style scoped>\n",
       "    .dataframe tbody tr th:only-of-type {\n",
       "        vertical-align: middle;\n",
       "    }\n",
       "\n",
       "    .dataframe tbody tr th {\n",
       "        vertical-align: top;\n",
       "    }\n",
       "\n",
       "    .dataframe thead th {\n",
       "        text-align: right;\n",
       "    }\n",
       "</style>\n",
       "<table border=\"1\" class=\"dataframe\">\n",
       "  <thead>\n",
       "    <tr style=\"text-align: right;\">\n",
       "      <th></th>\n",
       "      <th>WKT</th>\n",
       "      <th>fid</th>\n",
       "      <th>LON(east)</th>\n",
       "      <th>LAT(north)</th>\n",
       "      <th>ALT(m)</th>\n",
       "      <th>NAME</th>\n",
       "      <th>geometry</th>\n",
       "      <th>STN_x</th>\n",
       "      <th>STN_y</th>\n",
       "      <th>station_id</th>\n",
       "      <th>date</th>\n",
       "    </tr>\n",
       "  </thead>\n",
       "  <tbody>\n",
       "  </tbody>\n",
       "</table>\n",
       "</div>"
      ],
      "text/plain": [
       "Empty DataFrame\n",
       "Columns: [WKT, fid, LON(east), LAT(north), ALT(m), NAME, geometry, STN_x, STN_y, station_id, date]\n",
       "Index: []"
      ]
     },
     "execution_count": 101,
     "metadata": {},
     "output_type": "execute_result"
    }
   ],
   "source": [
    "from datetime import date, timedelta\n",
    "import pandas as pd\n",
    "weerstat = pd.read_csv('weerstations6.csv',sep=',')\n",
    "weerstat['station_id'] = '0'\n",
    "weerstat['date'] = date(year=2023, month=10, day=1)\n",
    "weerstat['NAME'] = weerstat['NAME'].str.lower()\n",
    "\n",
    "for i in weerstat.index:\n",
    "    for j in df.index:\n",
    "        if weerstat.loc[i, 'NAME'] in df.loc[j, 'Naam']:\n",
    "            weerstat.loc[i, 'station_id'] = df.loc[j, 'id']\n",
    "        if weerstat['NAME'][i] == 'gilze-rijen':\n",
    "            weerstat.loc[i, 'station_id'] = '06350'\n",
    "        if weerstat['NAME'][i] == 'cabauw mast':\n",
    "            weerstat.loc[i, 'station_id'] = '06348'\n",
    "        if weerstat['NAME'][i] == 'valkenburg zh':\n",
    "            weerstat.loc[i, 'station_id'] = '06210'\n",
    "        if weerstat['NAME'][i] == 'hoorn terschelling':\n",
    "            weerstat.loc[i, 'station_id'] = '06251'\n",
    "        if weerstat['NAME'][i] == 'tholen':\n",
    "            weerstat.loc[i, 'station_id'] = '06310'\n",
    "        if weerstat['NAME'][i] == 'hoofdplaat':\n",
    "            weerstat.loc[i, 'station_id'] = '06310'\n",
    "        if weerstat['NAME'][i] == 'schaar':\n",
    "            weerstat.loc[i, 'station_id'] = '06310'          "
   ]
  },
  {
   "cell_type": "code",
   "execution_count": null,
   "metadata": {},
   "outputs": [],
   "source": [
    "def api_prepper(station_id, start_date, end_date):\n",
    "    api = f'https://api.dataplatform.knmi.nl/edr/collections/observations/instances/unvalidated/locations/{station_id}?datetime={start_date}T04%3A10%3A00Z%2F{end_date}T04%3A10%3A00Z&parameter-name=t_dryb_10'\n",
    "    return api\n",
    "\n",
    "api_prepper('05554', '2023-11-3', '2023-11-4')\n",
    "\n",
    "def date_adder(df, num_days, len_df):\n",
    "    \"\"\"\n",
    "    Een functie die een dataframe uitbreid voor alle gegevens door een x aantal data toe te voegen.\n",
    "    Neemt drie argumenten een dataframe(df), aantal dagen(num_days) en de lengte van de dataframe(len_df).\n",
    "    De functie geeft de datadrame terug met de toegevoegde data.\n",
    "    \"\"\"\n",
    "    count = 0\n",
    "    add_days = 1 \n",
    "    while num_days != 0:    \n",
    "        while count != len_df - 1:\n",
    "            ndict = [df['WKT'][count], df['fid'][count], df['LON(east)'][count], df['LAT(north)'][count], df['ALT(m)'][count], df['NAME'][count], df['geometry'][count], df['STN_x'][count], df['STN_y'][count], df['station_id'][count], df['date'][count] + timedelta(days=add_days)]\n",
    "            df.loc[len(df.index)] = ndict\n",
    "            count += 1\n",
    "        count = 0\n",
    "        add_days += 1\n",
    "        num_days -= 1\n",
    "    return df\n",
    "\n",
    "weather_stats = date_adder(weerstat, 30, len(weerstat.index))"
   ]
  },
  {
   "cell_type": "code",
   "execution_count": 88,
   "metadata": {},
   "outputs": [
    {
     "data": {
      "text/plain": [
       "array(['d15-fa-1', 'p11-b', 'k14-fa-1c', 'a12-cpp', 'f16-a', 'l9-ff-1',\n",
       "       'awg-1', 'ijmond wp', 'valkenburg vk', 'j6-a', 'hoorn-a',\n",
       "       'hollandse kust noord (hna)', 'bg-ohvs2', 'voorschoten aws',\n",
       "       'hollandse kust zuid alfa (hkza)', 'ijmuiden wp', 'texelhors wp',\n",
       "       'assendelft btp', 'de kooy vk', 'muiden btp', 'nieuw vennep btp',\n",
       "       'nieuwkoop btp', 'f3-fb-1', 'amsterdam/schiphol ap', 'vlieland',\n",
       "       'wijdenes wp', 'berkhout aws', 'terschelling hoorn aws', 'k13-a',\n",
       "       'wijk aan zee aws', 'houtribdijk wp', 'de bilt aws', 'soesterberg',\n",
       "       'stavoren aws', 'lelystad ap', 'leeuwarden', 'marknesse aws',\n",
       "       'deelen', 'lauwersoog aws', 'heino aws', 'hoogeveen aws',\n",
       "       'groningen ap eelde', 'hupsel aws', 'huibertgat wp',\n",
       "       'nieuw beerta aws', 'twenthe aws', 'cadzand wp', 'vlissingen aws',\n",
       "       'oosterschelde wp', 'vlakte van de raan', 'hansweert',\n",
       "       'oosterschelde 4', 'borssele alfa (bsa)', 'westdorpe aws',\n",
       "       'lichteiland goeree', 'euro platform', 'wilhelminadorp aws',\n",
       "       'stavenisse', 'hoek van holland aws', 'marollegat', 'woensdrecht',\n",
       "       'rotterdam geulhaven', 'rotterdam the hague ap',\n",
       "       'cabauw tower aws', 'gilze rijen', 'herwijnen aws', 'eindhoven ap',\n",
       "       'volkel', 'ell aws', 'maastricht aachen ap', 'arcen aws',\n",
       "       'juancho e. yrausquin airport, saba',\n",
       "       'f.d. roosevelt airport, st. eustatius'], dtype=object)"
      ]
     },
     "execution_count": 88,
     "metadata": {},
     "output_type": "execute_result"
    }
   ],
   "source": [
    "df['Naam'].unique()"
   ]
  }
 ],
 "metadata": {
  "kernelspec": {
   "display_name": "base",
   "language": "python",
   "name": "python3"
  },
  "language_info": {
   "codemirror_mode": {
    "name": "ipython",
    "version": 3
   },
   "file_extension": ".py",
   "mimetype": "text/x-python",
   "name": "python",
   "nbconvert_exporter": "python",
   "pygments_lexer": "ipython3",
   "version": "3.8.17"
  }
 },
 "nbformat": 4,
 "nbformat_minor": 2
}
