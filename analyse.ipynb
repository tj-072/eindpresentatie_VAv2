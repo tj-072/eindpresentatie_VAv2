{
 "cells": [
  {
   "cell_type": "code",
   "execution_count": 73,
   "metadata": {},
   "outputs": [],
   "source": [
    "import pandas as pd\n",
    "import geopandas as gpd\n",
    "import numpy as np\n",
    "import plotly.express as px\n",
    "import matplotlib.pyplot as plt\n",
    "from pyproj import Transformer\n",
    "import requests\n",
    "import plotly.graph_objects as go\n"
   ]
  },
  {
   "cell_type": "code",
   "execution_count": 74,
   "metadata": {},
   "outputs": [
    {
     "name": "stderr",
     "output_type": "stream",
     "text": [
      "C:\\Users\\tjibb\\AppData\\Local\\Temp\\ipykernel_15680\\3399033372.py:14: DtypeWarning:\n",
      "\n",
      "Columns (1,24,39) have mixed types. Specify dtype option on import or set low_memory=False.\n",
      "\n"
     ]
    }
   ],
   "source": [
    "weer_api = pd.read_csv(r\"C:\\Users\\tjibb\\Documents\\school\\jaar_3\\minor\\eind_prestentatie\\apidata_2021.csv\")\n",
    "weer= pd.read_csv(r\"C:\\Users\\tjibb\\Documents\\school\\jaar_3\\minor\\eind_prestentatie\\weerstations_noordholland.csv\", sep= \";\")\n",
    "weer = gpd.GeoDataFrame(weer, geometry=gpd.GeoSeries.from_wkt(weer['WKT']))\n",
    "weer['STN']=weer['STN_y']\n",
    "weer.drop(columns=['WKT', 'STN_x', 'STN_y'], inplace=True)\n",
    "hectointervallen = pd.read_csv(r\"C:\\Users\\tjibb\\Documents\\school\\jaar_3\\minor\\eind_prestentatie\\verkeer\\PGS0112-o-CSV-bestand-J-1-N-N-N\\Netwerkgegevens\\hectointervallen.txt\") \n",
    "hectointervallen = hectointervallen[hectointervallen.nunique()[hectointervallen.nunique() != 1].index]\n",
    "hectopunten = pd.read_csv(r\"C:\\Users\\tjibb\\Documents\\school\\jaar_3\\minor\\eind_prestentatie\\verkeer\\PGS0112-o-CSV-bestand-J-1-N-N-N\\Netwerkgegevens\\hectopunten.txt\") \n",
    "hectopunten = hectopunten[hectopunten.nunique()[hectopunten.nunique() != 1].index]\n",
    "juncties = pd.read_csv(r\"C:\\Users\\tjibb\\Documents\\school\\jaar_3\\minor\\eind_prestentatie\\verkeer\\PGS0112-o-CSV-bestand-J-1-N-N-N\\Netwerkgegevens\\juncties.txt\") \n",
    "juncties = juncties[juncties.nunique()[juncties.nunique() != 1].index]\n",
    "puntlocaties = pd.read_csv(r\"C:\\Users\\tjibb\\Documents\\school\\jaar_3\\minor\\eind_prestentatie\\verkeer\\PGS0112-o-CSV-bestand-J-1-N-N-N\\Netwerkgegevens\\puntlocaties.txt\") \n",
    "puntlocaties = puntlocaties[puntlocaties.nunique()[puntlocaties.nunique() != 1].index]\n",
    "ongevallen = pd.read_csv(r\"C:\\Users\\tjibb\\Documents\\school\\jaar_3\\minor\\eind_prestentatie\\verkeer\\PGS0112-o-CSV-bestand-J-1-N-N-N\\Ongevallengegevens\\ongevallen.txt\", encoding=\"ISO-8859-15\")\n",
    "ongevallen = ongevallen[ongevallen.nunique()[ongevallen.nunique() != 1].index]\n",
    "ongevallen.drop(columns=['PVOPGEM', 'WVL_ID','WVG_ID', 'WVG_AN', 'WDK_ID', 'WDK_AN',\n",
    "                         'LGD_ID', 'BZD_ID_VM1','BZD_ID_VM2', 'BZD_ID_VM3', 'BZD_VM_AN', 'BZD_ID_IF1', 'BZD_ID_IF2',\n",
    "                         'BZD_ID_IF3', 'BZD_IF_AN', 'BZD_ID_TA1', 'BZD_ID_TA2', 'BZD_ID_TA3', 'HUISNUMMER'], inplace=True)\n"
   ]
  },
  {
   "cell_type": "code",
   "execution_count": 75,
   "metadata": {},
   "outputs": [
    {
     "name": "stderr",
     "output_type": "stream",
     "text": [
      "C:\\Users\\tjibb\\AppData\\Local\\Temp\\ipykernel_15680\\3343418178.py:16: SettingWithCopyWarning:\n",
      "\n",
      "\n",
      "A value is trying to be set on a copy of a slice from a DataFrame.\n",
      "Try using .loc[row_indexer,col_indexer] = value instead\n",
      "\n",
      "See the caveats in the documentation: https://pandas.pydata.org/pandas-docs/stable/user_guide/indexing.html#returning-a-view-versus-a-copy\n",
      "\n",
      "C:\\Users\\tjibb\\AppData\\Local\\Temp\\ipykernel_15680\\3343418178.py:17: SettingWithCopyWarning:\n",
      "\n",
      "\n",
      "A value is trying to be set on a copy of a slice from a DataFrame.\n",
      "Try using .loc[row_indexer,col_indexer] = value instead\n",
      "\n",
      "See the caveats in the documentation: https://pandas.pydata.org/pandas-docs/stable/user_guide/indexing.html#returning-a-view-versus-a-copy\n",
      "\n",
      "C:\\Users\\tjibb\\AppData\\Local\\Temp\\ipykernel_15680\\3343418178.py:18: SettingWithCopyWarning:\n",
      "\n",
      "\n",
      "A value is trying to be set on a copy of a slice from a DataFrame\n",
      "\n",
      "See the caveats in the documentation: https://pandas.pydata.org/pandas-docs/stable/user_guide/indexing.html#returning-a-view-versus-a-copy\n",
      "\n"
     ]
    }
   ],
   "source": [
    "samengevoegd_df = ongevallen.merge(juncties, on='JTE_ID', how='left')\n",
    "samengevoegd_df['FK_VELD5']=samengevoegd_df['FK_VELD5_y']\n",
    "samengevoegd_df = samengevoegd_df.merge(puntlocaties, on='FK_VELD5', how='left')\n",
    "samengevoegd_df = samengevoegd_df.merge(puntlocaties, on='FK_VELD5', how='left')\n",
    "df= samengevoegd_df\n",
    "samengevoegd_df = df[df.nunique()[df.nunique() != 1].index]\n",
    "samengevoegd_df.drop(columns=['AP4_CODE', 'AP5_CODE', 'FK_VELD5_y', 'X_COORD_y', 'Y_COORD_y', \n",
    "                              'ANTL_SLA', 'ANTL_DOD', 'ANTL_GZH', 'DATUM_VKL', 'DAG_CODE', 'MND_NUMMER',\n",
    "                              'TIJDSTIP', 'UUR', 'DDL_ID', 'DAGTYPE', 'WEEKNR',\n",
    "                              'ANTL_SEH','ANTL_GOV','ANTL_TDT', 'MNE_CODE', 'ZAD_ID', 'WGD_CODE_2',\n",
    "                              'IND_ALC'], inplace=True)\n",
    "\n",
    "df= samengevoegd_df\n",
    "# df.columns\n",
    "df2=df[['X_COORD_x', 'Y_COORD_x', 'VKL_NUMMER', 'AP3_CODE', 'ANTL_PTJ', 'AOL_ID', 'BEBKOM', 'WGD_CODE_1']]\n",
    "df2['X']=df2['X_COORD_x']\n",
    "df2['Y']=df2['Y_COORD_x']\n",
    "df2.drop(columns=['X_COORD_x', 'Y_COORD_x'], inplace=True)"
   ]
  },
  {
   "cell_type": "code",
   "execution_count": 76,
   "metadata": {},
   "outputs": [
    {
     "data": {
      "text/plain": [
       "Index(['VKL_NUMMER', 'REGNUMMER', 'AP3_CODE', 'ANTL_PTJ', 'AOL_ID',\n",
       "       'NIVEAUKOP', 'WSE_ID', 'BEBKOM', 'MAXSNELHD', 'WGD_CODE_1', 'JTE_ID',\n",
       "       'WVK_ID', 'HECTOMETER', 'FK_VELD5_x', 'GME_ID', 'GME_NAAM', 'PVE_CODE',\n",
       "       'PVE_NAAM', 'KDD_NAAM', 'PLT_NAAM', 'DIENSTCODE', 'DIENSTNAAM',\n",
       "       'DISTRCODE', 'DISTRNAAM', 'WBRSRT_R', 'WBRSRT_P', 'WBRSRT_G',\n",
       "       'WBRSRT_W', 'WBRSRT_T', 'ANTL_TAK', 'ACTUEEL', 'SLE_TYPE', 'SLE_NUMMER',\n",
       "       'FK_VELD5', 'X_COORD_x', 'Y_COORD_x'],\n",
       "      dtype='object')"
      ]
     },
     "execution_count": 76,
     "metadata": {},
     "output_type": "execute_result"
    }
   ],
   "source": [
    "samengevoegd_df.columns"
   ]
  },
  {
   "cell_type": "code",
   "execution_count": 77,
   "metadata": {},
   "outputs": [
    {
     "name": "stderr",
     "output_type": "stream",
     "text": [
      "C:\\Users\\tjibb\\AppData\\Local\\Temp\\ipykernel_15680\\3967659008.py:4: SettingWithCopyWarning:\n",
      "\n",
      "\n",
      "A value is trying to be set on a copy of a slice from a DataFrame.\n",
      "Try using .loc[row_indexer,col_indexer] = value instead\n",
      "\n",
      "See the caveats in the documentation: https://pandas.pydata.org/pandas-docs/stable/user_guide/indexing.html#returning-a-view-versus-a-copy\n",
      "\n",
      "C:\\Users\\tjibb\\AppData\\Local\\Temp\\ipykernel_15680\\3967659008.py:5: SettingWithCopyWarning:\n",
      "\n",
      "\n",
      "A value is trying to be set on a copy of a slice from a DataFrame.\n",
      "Try using .loc[row_indexer,col_indexer] = value instead\n",
      "\n",
      "See the caveats in the documentation: https://pandas.pydata.org/pandas-docs/stable/user_guide/indexing.html#returning-a-view-versus-a-copy\n",
      "\n",
      "C:\\Users\\tjibb\\AppData\\Local\\Temp\\ipykernel_15680\\3967659008.py:6: SettingWithCopyWarning:\n",
      "\n",
      "\n",
      "A value is trying to be set on a copy of a slice from a DataFrame.\n",
      "Try using .loc[row_indexer,col_indexer] = value instead\n",
      "\n",
      "See the caveats in the documentation: https://pandas.pydata.org/pandas-docs/stable/user_guide/indexing.html#returning-a-view-versus-a-copy\n",
      "\n",
      "C:\\Users\\tjibb\\AppData\\Local\\Temp\\ipykernel_15680\\3967659008.py:7: SettingWithCopyWarning:\n",
      "\n",
      "\n",
      "A value is trying to be set on a copy of a slice from a DataFrame.\n",
      "Try using .loc[row_indexer,col_indexer] = value instead\n",
      "\n",
      "See the caveats in the documentation: https://pandas.pydata.org/pandas-docs/stable/user_guide/indexing.html#returning-a-view-versus-a-copy\n",
      "\n"
     ]
    },
    {
     "data": {
      "text/html": [
       "<div>\n",
       "<style scoped>\n",
       "    .dataframe tbody tr th:only-of-type {\n",
       "        vertical-align: middle;\n",
       "    }\n",
       "\n",
       "    .dataframe tbody tr th {\n",
       "        vertical-align: top;\n",
       "    }\n",
       "\n",
       "    .dataframe thead th {\n",
       "        text-align: right;\n",
       "    }\n",
       "</style>\n",
       "<table border=\"1\" class=\"dataframe\">\n",
       "  <thead>\n",
       "    <tr style=\"text-align: right;\">\n",
       "      <th></th>\n",
       "      <th>X</th>\n",
       "      <th>Y</th>\n",
       "      <th>VKL_NUMMER</th>\n",
       "      <th>AP3_CODE</th>\n",
       "      <th>ANTL_PTJ</th>\n",
       "      <th>AOL_ID</th>\n",
       "      <th>BEBKOM</th>\n",
       "      <th>WGD_CODE_1</th>\n",
       "      <th>geometry</th>\n",
       "    </tr>\n",
       "  </thead>\n",
       "  <tbody>\n",
       "    <tr>\n",
       "      <th>8</th>\n",
       "      <td>5.698422</td>\n",
       "      <td>51.700464</td>\n",
       "      <td>20210000435</td>\n",
       "      <td>DOD</td>\n",
       "      <td>2</td>\n",
       "      <td>7</td>\n",
       "      <td>BI</td>\n",
       "      <td>D</td>\n",
       "      <td>POINT (5.69842 51.70046)</td>\n",
       "    </tr>\n",
       "    <tr>\n",
       "      <th>16</th>\n",
       "      <td>5.440999</td>\n",
       "      <td>51.761055</td>\n",
       "      <td>20210000567</td>\n",
       "      <td>DOD</td>\n",
       "      <td>2</td>\n",
       "      <td>7</td>\n",
       "      <td>BU</td>\n",
       "      <td>D</td>\n",
       "      <td>POINT (5.44100 51.76105)</td>\n",
       "    </tr>\n",
       "    <tr>\n",
       "      <th>17</th>\n",
       "      <td>6.486673</td>\n",
       "      <td>52.904554</td>\n",
       "      <td>20210000568</td>\n",
       "      <td>DOD</td>\n",
       "      <td>2</td>\n",
       "      <td>7</td>\n",
       "      <td>BU</td>\n",
       "      <td>D</td>\n",
       "      <td>POINT (6.48667 52.90455)</td>\n",
       "    </tr>\n",
       "    <tr>\n",
       "      <th>25</th>\n",
       "      <td>4.427013</td>\n",
       "      <td>51.588056</td>\n",
       "      <td>20210072804</td>\n",
       "      <td>UMS</td>\n",
       "      <td>2</td>\n",
       "      <td>7</td>\n",
       "      <td>BI</td>\n",
       "      <td>D</td>\n",
       "      <td>POINT (4.42701 51.58806)</td>\n",
       "    </tr>\n",
       "    <tr>\n",
       "      <th>29</th>\n",
       "      <td>6.990462</td>\n",
       "      <td>53.006926</td>\n",
       "      <td>20210074980</td>\n",
       "      <td>UMS</td>\n",
       "      <td>2</td>\n",
       "      <td>7</td>\n",
       "      <td>BI</td>\n",
       "      <td>D</td>\n",
       "      <td>POINT (6.99046 53.00693)</td>\n",
       "    </tr>\n",
       "    <tr>\n",
       "      <th>...</th>\n",
       "      <td>...</td>\n",
       "      <td>...</td>\n",
       "      <td>...</td>\n",
       "      <td>...</td>\n",
       "      <td>...</td>\n",
       "      <td>...</td>\n",
       "      <td>...</td>\n",
       "      <td>...</td>\n",
       "      <td>...</td>\n",
       "    </tr>\n",
       "    <tr>\n",
       "      <th>113144</th>\n",
       "      <td>5.783843</td>\n",
       "      <td>51.445289</td>\n",
       "      <td>20210027300</td>\n",
       "      <td>UMS</td>\n",
       "      <td>3</td>\n",
       "      <td>7</td>\n",
       "      <td>BU</td>\n",
       "      <td>D</td>\n",
       "      <td>POINT (5.78384 51.44529)</td>\n",
       "    </tr>\n",
       "    <tr>\n",
       "      <th>113147</th>\n",
       "      <td>6.821636</td>\n",
       "      <td>53.241292</td>\n",
       "      <td>20210027330</td>\n",
       "      <td>UMS</td>\n",
       "      <td>2</td>\n",
       "      <td>0</td>\n",
       "      <td>BI</td>\n",
       "      <td>D</td>\n",
       "      <td>POINT (6.82164 53.24129)</td>\n",
       "    </tr>\n",
       "    <tr>\n",
       "      <th>113150</th>\n",
       "      <td>4.806394</td>\n",
       "      <td>52.453405</td>\n",
       "      <td>20210027591</td>\n",
       "      <td>UMS</td>\n",
       "      <td>3</td>\n",
       "      <td>9</td>\n",
       "      <td>BI</td>\n",
       "      <td>D</td>\n",
       "      <td>POINT (4.80639 52.45340)</td>\n",
       "    </tr>\n",
       "    <tr>\n",
       "      <th>113151</th>\n",
       "      <td>4.558489</td>\n",
       "      <td>52.098595</td>\n",
       "      <td>20210027600</td>\n",
       "      <td>UMS</td>\n",
       "      <td>3</td>\n",
       "      <td>7</td>\n",
       "      <td>BI</td>\n",
       "      <td>D</td>\n",
       "      <td>POINT (4.55849 52.09860)</td>\n",
       "    </tr>\n",
       "    <tr>\n",
       "      <th>113152</th>\n",
       "      <td>4.590681</td>\n",
       "      <td>52.007347</td>\n",
       "      <td>20210027602</td>\n",
       "      <td>UMS</td>\n",
       "      <td>4</td>\n",
       "      <td>0</td>\n",
       "      <td>BU</td>\n",
       "      <td>D</td>\n",
       "      <td>POINT (4.59068 52.00735)</td>\n",
       "    </tr>\n",
       "  </tbody>\n",
       "</table>\n",
       "<p>26617 rows × 9 columns</p>\n",
       "</div>"
      ],
      "text/plain": [
       "               X          Y   VKL_NUMMER AP3_CODE  ANTL_PTJ  AOL_ID BEBKOM  \\\n",
       "8       5.698422  51.700464  20210000435      DOD         2       7     BI   \n",
       "16      5.440999  51.761055  20210000567      DOD         2       7     BU   \n",
       "17      6.486673  52.904554  20210000568      DOD         2       7     BU   \n",
       "25      4.427013  51.588056  20210072804      UMS         2       7     BI   \n",
       "29      6.990462  53.006926  20210074980      UMS         2       7     BI   \n",
       "...          ...        ...          ...      ...       ...     ...    ...   \n",
       "113144  5.783843  51.445289  20210027300      UMS         3       7     BU   \n",
       "113147  6.821636  53.241292  20210027330      UMS         2       0     BI   \n",
       "113150  4.806394  52.453405  20210027591      UMS         3       9     BI   \n",
       "113151  4.558489  52.098595  20210027600      UMS         3       7     BI   \n",
       "113152  4.590681  52.007347  20210027602      UMS         4       0     BU   \n",
       "\n",
       "       WGD_CODE_1                  geometry  \n",
       "8               D  POINT (5.69842 51.70046)  \n",
       "16              D  POINT (5.44100 51.76105)  \n",
       "17              D  POINT (6.48667 52.90455)  \n",
       "25              D  POINT (4.42701 51.58806)  \n",
       "29              D  POINT (6.99046 53.00693)  \n",
       "...           ...                       ...  \n",
       "113144          D  POINT (5.78384 51.44529)  \n",
       "113147          D  POINT (6.82164 53.24129)  \n",
       "113150          D  POINT (4.80639 52.45340)  \n",
       "113151          D  POINT (4.55849 52.09860)  \n",
       "113152          D  POINT (4.59068 52.00735)  \n",
       "\n",
       "[26617 rows x 9 columns]"
      ]
     },
     "execution_count": 77,
     "metadata": {},
     "output_type": "execute_result"
    }
   ],
   "source": [
    "trans = Transformer.from_crs(\"ETRS89\", \"EPSG:4326\", always_xy=True)\n",
    "xx, yy = trans.transform(df2[\"X\"].values, df2[\"Y\"].values)\n",
    "\n",
    "df2[\"X\"] = xx\n",
    "df2[\"Y\"] = yy\n",
    "df2[\"X\"] = (df2[\"X\"]/64000)+3\n",
    "df2[\"Y\"] = (df2[\"Y\"]/110000)+48\n",
    "# df2.drop(columns=['X_COORD_x', 'Y_COORD_x'], inplace=True)\n",
    "\n",
    "df2=df2[['X', 'Y', 'VKL_NUMMER', 'AP3_CODE', 'ANTL_PTJ', 'AOL_ID', 'BEBKOM', 'WGD_CODE_1']]\n",
    "df2.dropna()\n",
    "gdf = gpd.GeoDataFrame(\n",
    "    df2, geometry=gpd.points_from_xy(df2.X, df2.Y))\n",
    "gdf.dropna()"
   ]
  },
  {
   "cell_type": "code",
   "execution_count": 78,
   "metadata": {},
   "outputs": [
    {
     "data": {
      "text/html": [
       "<div>\n",
       "<style scoped>\n",
       "    .dataframe tbody tr th:only-of-type {\n",
       "        vertical-align: middle;\n",
       "    }\n",
       "\n",
       "    .dataframe tbody tr th {\n",
       "        vertical-align: top;\n",
       "    }\n",
       "\n",
       "    .dataframe thead th {\n",
       "        text-align: right;\n",
       "    }\n",
       "</style>\n",
       "<table border=\"1\" class=\"dataframe\">\n",
       "  <thead>\n",
       "    <tr style=\"text-align: right;\">\n",
       "      <th></th>\n",
       "      <th>Unnamed: 0</th>\n",
       "      <th>datetime</th>\n",
       "      <th>Windsnelheid (km/h)</th>\n",
       "      <th>Windrichting (Graden)</th>\n",
       "      <th>Luchtdruk (ps)</th>\n",
       "      <th>Zichtbaarheid (Decimeter ver kunnen kijken)</th>\n",
       "      <th>Regenval (mm/h)</th>\n",
       "      <th>station_id</th>\n",
       "      <th>Temperatuur (C)</th>\n",
       "      <th>Weercode</th>\n",
       "    </tr>\n",
       "  </thead>\n",
       "  <tbody>\n",
       "    <tr>\n",
       "      <th>0</th>\n",
       "      <td>0</td>\n",
       "      <td>2021-01-01 00:00:00+00:00</td>\n",
       "      <td>0.80</td>\n",
       "      <td>232.2</td>\n",
       "      <td>1005.84</td>\n",
       "      <td>123.0</td>\n",
       "      <td>0.0</td>\n",
       "      <td>6260</td>\n",
       "      <td>-2.1</td>\n",
       "      <td>0.0</td>\n",
       "    </tr>\n",
       "    <tr>\n",
       "      <th>1</th>\n",
       "      <td>1</td>\n",
       "      <td>2021-01-01 00:10:00+00:00</td>\n",
       "      <td>0.90</td>\n",
       "      <td>233.2</td>\n",
       "      <td>1005.84</td>\n",
       "      <td>126.0</td>\n",
       "      <td>0.0</td>\n",
       "      <td>6260</td>\n",
       "      <td>-2.0</td>\n",
       "      <td>0.0</td>\n",
       "    </tr>\n",
       "    <tr>\n",
       "      <th>2</th>\n",
       "      <td>2</td>\n",
       "      <td>2021-01-01 00:20:00+00:00</td>\n",
       "      <td>0.57</td>\n",
       "      <td>233.5</td>\n",
       "      <td>1005.94</td>\n",
       "      <td>109.0</td>\n",
       "      <td>0.0</td>\n",
       "      <td>6260</td>\n",
       "      <td>-2.2</td>\n",
       "      <td>0.0</td>\n",
       "    </tr>\n",
       "    <tr>\n",
       "      <th>3</th>\n",
       "      <td>3</td>\n",
       "      <td>2021-01-01 00:30:00+00:00</td>\n",
       "      <td>0.39</td>\n",
       "      <td>233.1</td>\n",
       "      <td>1005.94</td>\n",
       "      <td>137.0</td>\n",
       "      <td>0.0</td>\n",
       "      <td>6260</td>\n",
       "      <td>-2.3</td>\n",
       "      <td>0.0</td>\n",
       "    </tr>\n",
       "    <tr>\n",
       "      <th>4</th>\n",
       "      <td>4</td>\n",
       "      <td>2021-01-01 00:40:00+00:00</td>\n",
       "      <td>0.59</td>\n",
       "      <td>232.1</td>\n",
       "      <td>1005.94</td>\n",
       "      <td>142.0</td>\n",
       "      <td>0.0</td>\n",
       "      <td>6260</td>\n",
       "      <td>-2.3</td>\n",
       "      <td>0.0</td>\n",
       "    </tr>\n",
       "    <tr>\n",
       "      <th>...</th>\n",
       "      <td>...</td>\n",
       "      <td>...</td>\n",
       "      <td>...</td>\n",
       "      <td>...</td>\n",
       "      <td>...</td>\n",
       "      <td>...</td>\n",
       "      <td>...</td>\n",
       "      <td>...</td>\n",
       "      <td>...</td>\n",
       "      <td>...</td>\n",
       "    </tr>\n",
       "    <tr>\n",
       "      <th>559279</th>\n",
       "      <td>559279</td>\n",
       "      <td>2021-12-30 23:20:00+00:00</td>\n",
       "      <td>13.65</td>\n",
       "      <td>231.3</td>\n",
       "      <td>1012.47</td>\n",
       "      <td>8510.0</td>\n",
       "      <td>0.0</td>\n",
       "      <td>6242</td>\n",
       "      <td>10.5</td>\n",
       "      <td>0.0</td>\n",
       "    </tr>\n",
       "    <tr>\n",
       "      <th>559280</th>\n",
       "      <td>559280</td>\n",
       "      <td>2021-12-30 23:30:00+00:00</td>\n",
       "      <td>13.24</td>\n",
       "      <td>230.8</td>\n",
       "      <td>1012.57</td>\n",
       "      <td>8590.0</td>\n",
       "      <td>0.0</td>\n",
       "      <td>6242</td>\n",
       "      <td>10.5</td>\n",
       "      <td>0.0</td>\n",
       "    </tr>\n",
       "    <tr>\n",
       "      <th>559281</th>\n",
       "      <td>559281</td>\n",
       "      <td>2021-12-30 23:40:00+00:00</td>\n",
       "      <td>13.11</td>\n",
       "      <td>231.4</td>\n",
       "      <td>1012.37</td>\n",
       "      <td>8720.0</td>\n",
       "      <td>0.0</td>\n",
       "      <td>6242</td>\n",
       "      <td>10.6</td>\n",
       "      <td>0.0</td>\n",
       "    </tr>\n",
       "    <tr>\n",
       "      <th>559282</th>\n",
       "      <td>559282</td>\n",
       "      <td>2021-12-30 23:50:00+00:00</td>\n",
       "      <td>13.20</td>\n",
       "      <td>230.2</td>\n",
       "      <td>1012.37</td>\n",
       "      <td>8880.0</td>\n",
       "      <td>0.0</td>\n",
       "      <td>6242</td>\n",
       "      <td>10.5</td>\n",
       "      <td>0.0</td>\n",
       "    </tr>\n",
       "    <tr>\n",
       "      <th>559283</th>\n",
       "      <td>559283</td>\n",
       "      <td>2021-12-31 00:00:00+00:00</td>\n",
       "      <td>13.36</td>\n",
       "      <td>230.0</td>\n",
       "      <td>1012.47</td>\n",
       "      <td>8560.0</td>\n",
       "      <td>0.0</td>\n",
       "      <td>6242</td>\n",
       "      <td>10.5</td>\n",
       "      <td>0.0</td>\n",
       "    </tr>\n",
       "  </tbody>\n",
       "</table>\n",
       "<p>559284 rows × 10 columns</p>\n",
       "</div>"
      ],
      "text/plain": [
       "        Unnamed: 0                   datetime  Windsnelheid (km/h)  \\\n",
       "0                0  2021-01-01 00:00:00+00:00                 0.80   \n",
       "1                1  2021-01-01 00:10:00+00:00                 0.90   \n",
       "2                2  2021-01-01 00:20:00+00:00                 0.57   \n",
       "3                3  2021-01-01 00:30:00+00:00                 0.39   \n",
       "4                4  2021-01-01 00:40:00+00:00                 0.59   \n",
       "...            ...                        ...                  ...   \n",
       "559279      559279  2021-12-30 23:20:00+00:00                13.65   \n",
       "559280      559280  2021-12-30 23:30:00+00:00                13.24   \n",
       "559281      559281  2021-12-30 23:40:00+00:00                13.11   \n",
       "559282      559282  2021-12-30 23:50:00+00:00                13.20   \n",
       "559283      559283  2021-12-31 00:00:00+00:00                13.36   \n",
       "\n",
       "        Windrichting (Graden)  Luchtdruk (ps)  \\\n",
       "0                       232.2         1005.84   \n",
       "1                       233.2         1005.84   \n",
       "2                       233.5         1005.94   \n",
       "3                       233.1         1005.94   \n",
       "4                       232.1         1005.94   \n",
       "...                       ...             ...   \n",
       "559279                  231.3         1012.47   \n",
       "559280                  230.8         1012.57   \n",
       "559281                  231.4         1012.37   \n",
       "559282                  230.2         1012.37   \n",
       "559283                  230.0         1012.47   \n",
       "\n",
       "        Zichtbaarheid (Decimeter ver kunnen kijken)  Regenval (mm/h)  \\\n",
       "0                                             123.0              0.0   \n",
       "1                                             126.0              0.0   \n",
       "2                                             109.0              0.0   \n",
       "3                                             137.0              0.0   \n",
       "4                                             142.0              0.0   \n",
       "...                                             ...              ...   \n",
       "559279                                       8510.0              0.0   \n",
       "559280                                       8590.0              0.0   \n",
       "559281                                       8720.0              0.0   \n",
       "559282                                       8880.0              0.0   \n",
       "559283                                       8560.0              0.0   \n",
       "\n",
       "        station_id  Temperatuur (C)  Weercode  \n",
       "0             6260             -2.1       0.0  \n",
       "1             6260             -2.0       0.0  \n",
       "2             6260             -2.2       0.0  \n",
       "3             6260             -2.3       0.0  \n",
       "4             6260             -2.3       0.0  \n",
       "...            ...              ...       ...  \n",
       "559279        6242             10.5       0.0  \n",
       "559280        6242             10.5       0.0  \n",
       "559281        6242             10.6       0.0  \n",
       "559282        6242             10.5       0.0  \n",
       "559283        6242             10.5       0.0  \n",
       "\n",
       "[559284 rows x 10 columns]"
      ]
     },
     "execution_count": 78,
     "metadata": {},
     "output_type": "execute_result"
    }
   ],
   "source": [
    "weer_api"
   ]
  },
  {
   "cell_type": "code",
   "execution_count": 79,
   "metadata": {},
   "outputs": [],
   "source": [
    "weer = pd.merge(weer, weer_api, on='station_id')\n",
    "weer.drop(columns=['fid', 'Unnamed: 0', 'NAME'], inplace=True)\n"
   ]
  },
  {
   "cell_type": "code",
   "execution_count": 80,
   "metadata": {},
   "outputs": [],
   "source": [
    "# weer['datetime'] = pd.to_datetime(weer['datetime'])\n",
    "# "
   ]
  },
  {
   "cell_type": "code",
   "execution_count": 81,
   "metadata": {},
   "outputs": [],
   "source": [
    "\n",
    "weer['datetime'] = pd.to_datetime(weer['datetime'], format='%Y-%m-%d %H:%M:%S')\n",
    "\n",
    "weer['maand'] = weer['datetime'].dt.month\n",
    "weer['dag'] = weer['datetime'].dt.day\n"
   ]
  },
  {
   "cell_type": "code",
   "execution_count": 82,
   "metadata": {},
   "outputs": [],
   "source": [
    "weer['m/d/STN'] =weer['maand'].astype(str) + '/' + weer['dag'].astype(str)+ '/' + weer['STN'].astype(str)\n"
   ]
  },
  {
   "cell_type": "code",
   "execution_count": 83,
   "metadata": {},
   "outputs": [
    {
     "data": {
      "text/plain": [
       "Index(['LON(east)', 'LAT(north)', 'ALT(m)', 'geometry', 'station_id', 'STN',\n",
       "       'datetime', 'Windsnelheid (km/h)', 'Windrichting (Graden)',\n",
       "       'Luchtdruk (ps)', 'Zichtbaarheid (Decimeter ver kunnen kijken)',\n",
       "       'Regenval (mm/h)', 'Temperatuur (C)', 'Weercode', 'maand', 'dag',\n",
       "       'm/d/STN'],\n",
       "      dtype='object')"
      ]
     },
     "execution_count": 83,
     "metadata": {},
     "output_type": "execute_result"
    }
   ],
   "source": [
    "weer.columns"
   ]
  },
  {
   "cell_type": "code",
   "execution_count": 84,
   "metadata": {},
   "outputs": [
    {
     "name": "stderr",
     "output_type": "stream",
     "text": [
      "C:\\Users\\tjibb\\AppData\\Local\\Temp\\ipykernel_15680\\216662622.py:1: FutureWarning:\n",
      "\n",
      "Indexing with multiple keys (implicitly converted to a tuple of keys) will be deprecated, use a list instead.\n",
      "\n"
     ]
    }
   ],
   "source": [
    "weer2=weer.groupby('m/d/STN')[\"Windsnelheid (km/h)\", 'Windrichting (Graden)', 'Luchtdruk (ps)', 'Zichtbaarheid (Decimeter ver kunnen kijken)', \n",
    "                         'Regenval (mm/h)','Temperatuur (C)', 'Weercode', 'STN'].median()"
   ]
  },
  {
   "cell_type": "code",
   "execution_count": 85,
   "metadata": {},
   "outputs": [
    {
     "data": {
      "text/html": [
       "<div>\n",
       "<style scoped>\n",
       "    .dataframe tbody tr th:only-of-type {\n",
       "        vertical-align: middle;\n",
       "    }\n",
       "\n",
       "    .dataframe tbody tr th {\n",
       "        vertical-align: top;\n",
       "    }\n",
       "\n",
       "    .dataframe thead th {\n",
       "        text-align: right;\n",
       "    }\n",
       "</style>\n",
       "<table border=\"1\" class=\"dataframe\">\n",
       "  <thead>\n",
       "    <tr style=\"text-align: right;\">\n",
       "      <th></th>\n",
       "      <th>STN</th>\n",
       "      <th>geometry</th>\n",
       "    </tr>\n",
       "  </thead>\n",
       "  <tbody>\n",
       "    <tr>\n",
       "      <th>0</th>\n",
       "      <td>260</td>\n",
       "      <td>MULTIPOLYGON (((5.04700 52.16696, 5.04699 52.1...</td>\n",
       "    </tr>\n",
       "    <tr>\n",
       "      <th>1</th>\n",
       "      <td>260</td>\n",
       "      <td>MULTIPOLYGON (((5.04700 52.16696, 5.04699 52.1...</td>\n",
       "    </tr>\n",
       "    <tr>\n",
       "      <th>2</th>\n",
       "      <td>260</td>\n",
       "      <td>MULTIPOLYGON (((5.04700 52.16696, 5.04699 52.1...</td>\n",
       "    </tr>\n",
       "    <tr>\n",
       "      <th>3</th>\n",
       "      <td>260</td>\n",
       "      <td>MULTIPOLYGON (((5.04700 52.16696, 5.04699 52.1...</td>\n",
       "    </tr>\n",
       "    <tr>\n",
       "      <th>4</th>\n",
       "      <td>260</td>\n",
       "      <td>MULTIPOLYGON (((5.04700 52.16696, 5.04699 52.1...</td>\n",
       "    </tr>\n",
       "    <tr>\n",
       "      <th>...</th>\n",
       "      <td>...</td>\n",
       "      <td>...</td>\n",
       "    </tr>\n",
       "    <tr>\n",
       "      <th>559279</th>\n",
       "      <td>242</td>\n",
       "      <td>MULTIPOLYGON (((4.75721 53.12708, 4.75766 53.1...</td>\n",
       "    </tr>\n",
       "    <tr>\n",
       "      <th>559280</th>\n",
       "      <td>242</td>\n",
       "      <td>MULTIPOLYGON (((4.75721 53.12708, 4.75766 53.1...</td>\n",
       "    </tr>\n",
       "    <tr>\n",
       "      <th>559281</th>\n",
       "      <td>242</td>\n",
       "      <td>MULTIPOLYGON (((4.75721 53.12708, 4.75766 53.1...</td>\n",
       "    </tr>\n",
       "    <tr>\n",
       "      <th>559282</th>\n",
       "      <td>242</td>\n",
       "      <td>MULTIPOLYGON (((4.75721 53.12708, 4.75766 53.1...</td>\n",
       "    </tr>\n",
       "    <tr>\n",
       "      <th>559283</th>\n",
       "      <td>242</td>\n",
       "      <td>MULTIPOLYGON (((4.75721 53.12708, 4.75766 53.1...</td>\n",
       "    </tr>\n",
       "  </tbody>\n",
       "</table>\n",
       "<p>559284 rows × 2 columns</p>\n",
       "</div>"
      ],
      "text/plain": [
       "        STN                                           geometry\n",
       "0       260  MULTIPOLYGON (((5.04700 52.16696, 5.04699 52.1...\n",
       "1       260  MULTIPOLYGON (((5.04700 52.16696, 5.04699 52.1...\n",
       "2       260  MULTIPOLYGON (((5.04700 52.16696, 5.04699 52.1...\n",
       "3       260  MULTIPOLYGON (((5.04700 52.16696, 5.04699 52.1...\n",
       "4       260  MULTIPOLYGON (((5.04700 52.16696, 5.04699 52.1...\n",
       "...     ...                                                ...\n",
       "559279  242  MULTIPOLYGON (((4.75721 53.12708, 4.75766 53.1...\n",
       "559280  242  MULTIPOLYGON (((4.75721 53.12708, 4.75766 53.1...\n",
       "559281  242  MULTIPOLYGON (((4.75721 53.12708, 4.75766 53.1...\n",
       "559282  242  MULTIPOLYGON (((4.75721 53.12708, 4.75766 53.1...\n",
       "559283  242  MULTIPOLYGON (((4.75721 53.12708, 4.75766 53.1...\n",
       "\n",
       "[559284 rows x 2 columns]"
      ]
     },
     "execution_count": 85,
     "metadata": {},
     "output_type": "execute_result"
    }
   ],
   "source": [
    "weer3 = weer[['STN', 'geometry']]\n",
    "weer3"
   ]
  },
  {
   "cell_type": "code",
   "execution_count": 86,
   "metadata": {},
   "outputs": [],
   "source": [
    "weer3 = weer3.drop_duplicates()\n"
   ]
  },
  {
   "cell_type": "code",
   "execution_count": 87,
   "metadata": {},
   "outputs": [
    {
     "data": {
      "text/html": [
       "<div>\n",
       "<style scoped>\n",
       "    .dataframe tbody tr th:only-of-type {\n",
       "        vertical-align: middle;\n",
       "    }\n",
       "\n",
       "    .dataframe tbody tr th {\n",
       "        vertical-align: top;\n",
       "    }\n",
       "\n",
       "    .dataframe thead th {\n",
       "        text-align: right;\n",
       "    }\n",
       "</style>\n",
       "<table border=\"1\" class=\"dataframe\">\n",
       "  <thead>\n",
       "    <tr style=\"text-align: right;\">\n",
       "      <th></th>\n",
       "      <th>STN</th>\n",
       "      <th>geometry</th>\n",
       "    </tr>\n",
       "  </thead>\n",
       "  <tbody>\n",
       "    <tr>\n",
       "      <th>0</th>\n",
       "      <td>260</td>\n",
       "      <td>MULTIPOLYGON (((5.04700 52.16696, 5.04699 52.1...</td>\n",
       "    </tr>\n",
       "    <tr>\n",
       "      <th>50844</th>\n",
       "      <td>240</td>\n",
       "      <td>MULTIPOLYGON (((5.02839 52.28670, 5.02820 52.2...</td>\n",
       "    </tr>\n",
       "    <tr>\n",
       "      <th>101688</th>\n",
       "      <td>225</td>\n",
       "      <td>MULTIPOLYGON (((4.58437 52.27886, 4.58451 52.2...</td>\n",
       "    </tr>\n",
       "    <tr>\n",
       "      <th>152532</th>\n",
       "      <td>209</td>\n",
       "      <td>MULTIPOLYGON (((4.52338 52.32138, 4.51242 52.3...</td>\n",
       "    </tr>\n",
       "    <tr>\n",
       "      <th>203376</th>\n",
       "      <td>257</td>\n",
       "      <td>MULTIPOLYGON (((4.56887 52.49745, 4.56924 52.4...</td>\n",
       "    </tr>\n",
       "    <tr>\n",
       "      <th>254220</th>\n",
       "      <td>248</td>\n",
       "      <td>MULTIPOLYGON (((5.27671 52.68508, 5.26938 52.6...</td>\n",
       "    </tr>\n",
       "    <tr>\n",
       "      <th>305064</th>\n",
       "      <td>249</td>\n",
       "      <td>MULTIPOLYGON (((5.06081 52.57997, 5.07205 52.5...</td>\n",
       "    </tr>\n",
       "    <tr>\n",
       "      <th>355908</th>\n",
       "      <td>258</td>\n",
       "      <td>MULTIPOLYGON (((5.37670 52.76665, 5.37769 52.7...</td>\n",
       "    </tr>\n",
       "    <tr>\n",
       "      <th>406752</th>\n",
       "      <td>267</td>\n",
       "      <td>MULTIPOLYGON (((5.13328 53.04158, 5.13740 53.0...</td>\n",
       "    </tr>\n",
       "    <tr>\n",
       "      <th>457596</th>\n",
       "      <td>235</td>\n",
       "      <td>MULTIPOLYGON (((4.63317 52.75539, 4.63342 52.7...</td>\n",
       "    </tr>\n",
       "    <tr>\n",
       "      <th>508440</th>\n",
       "      <td>242</td>\n",
       "      <td>MULTIPOLYGON (((4.75721 53.12708, 4.75766 53.1...</td>\n",
       "    </tr>\n",
       "  </tbody>\n",
       "</table>\n",
       "</div>"
      ],
      "text/plain": [
       "        STN                                           geometry\n",
       "0       260  MULTIPOLYGON (((5.04700 52.16696, 5.04699 52.1...\n",
       "50844   240  MULTIPOLYGON (((5.02839 52.28670, 5.02820 52.2...\n",
       "101688  225  MULTIPOLYGON (((4.58437 52.27886, 4.58451 52.2...\n",
       "152532  209  MULTIPOLYGON (((4.52338 52.32138, 4.51242 52.3...\n",
       "203376  257  MULTIPOLYGON (((4.56887 52.49745, 4.56924 52.4...\n",
       "254220  248  MULTIPOLYGON (((5.27671 52.68508, 5.26938 52.6...\n",
       "305064  249  MULTIPOLYGON (((5.06081 52.57997, 5.07205 52.5...\n",
       "355908  258  MULTIPOLYGON (((5.37670 52.76665, 5.37769 52.7...\n",
       "406752  267  MULTIPOLYGON (((5.13328 53.04158, 5.13740 53.0...\n",
       "457596  235  MULTIPOLYGON (((4.63317 52.75539, 4.63342 52.7...\n",
       "508440  242  MULTIPOLYGON (((4.75721 53.12708, 4.75766 53.1..."
      ]
     },
     "execution_count": 87,
     "metadata": {},
     "output_type": "execute_result"
    }
   ],
   "source": [
    "weer3"
   ]
  },
  {
   "cell_type": "code",
   "execution_count": 88,
   "metadata": {},
   "outputs": [],
   "source": [
    "weer4 = pd.merge(weer2, weer3, on='STN')"
   ]
  },
  {
   "cell_type": "code",
   "execution_count": 89,
   "metadata": {},
   "outputs": [],
   "source": [
    "weer_omtemergen= weer4"
   ]
  },
  {
   "cell_type": "code",
   "execution_count": 90,
   "metadata": {},
   "outputs": [
    {
     "name": "stdout",
     "output_type": "stream",
     "text": [
      "<class 'pandas.core.frame.DataFrame'>\n",
      "Int64Index: 4015 entries, 0 to 4014\n",
      "Data columns (total 9 columns):\n",
      " #   Column                                       Non-Null Count  Dtype   \n",
      "---  ------                                       --------------  -----   \n",
      " 0   Windsnelheid (km/h)                          4015 non-null   float64 \n",
      " 1   Windrichting (Graden)                        4015 non-null   float64 \n",
      " 2   Luchtdruk (ps)                               4015 non-null   float64 \n",
      " 3   Zichtbaarheid (Decimeter ver kunnen kijken)  4015 non-null   float64 \n",
      " 4   Regenval (mm/h)                              4015 non-null   float64 \n",
      " 5   Temperatuur (C)                              4015 non-null   float64 \n",
      " 6   Weercode                                     4015 non-null   float64 \n",
      " 7   STN                                          4015 non-null   float64 \n",
      " 8   geometry                                     4015 non-null   geometry\n",
      "dtypes: float64(8), geometry(1)\n",
      "memory usage: 313.7 KB\n"
     ]
    }
   ],
   "source": [
    "weer_omtemergen.info()"
   ]
  },
  {
   "cell_type": "code",
   "execution_count": 91,
   "metadata": {},
   "outputs": [
    {
     "data": {
      "text/html": [
       "<div>\n",
       "<style scoped>\n",
       "    .dataframe tbody tr th:only-of-type {\n",
       "        vertical-align: middle;\n",
       "    }\n",
       "\n",
       "    .dataframe tbody tr th {\n",
       "        vertical-align: top;\n",
       "    }\n",
       "\n",
       "    .dataframe thead th {\n",
       "        text-align: right;\n",
       "    }\n",
       "</style>\n",
       "<table border=\"1\" class=\"dataframe\">\n",
       "  <thead>\n",
       "    <tr style=\"text-align: right;\">\n",
       "      <th></th>\n",
       "      <th>Windsnelheid (km/h)</th>\n",
       "      <th>Windrichting (Graden)</th>\n",
       "      <th>Luchtdruk (ps)</th>\n",
       "      <th>Zichtbaarheid (Decimeter ver kunnen kijken)</th>\n",
       "      <th>Regenval (mm/h)</th>\n",
       "      <th>Temperatuur (C)</th>\n",
       "      <th>Weercode</th>\n",
       "      <th>STN</th>\n",
       "      <th>geometry</th>\n",
       "    </tr>\n",
       "  </thead>\n",
       "  <tbody>\n",
       "    <tr>\n",
       "      <th>0</th>\n",
       "      <td>3.792700</td>\n",
       "      <td>278.25</td>\n",
       "      <td>0.0</td>\n",
       "      <td>0.0</td>\n",
       "      <td>0.0</td>\n",
       "      <td>0.00</td>\n",
       "      <td>0.0</td>\n",
       "      <td>209.0</td>\n",
       "      <td>MULTIPOLYGON (((4.52338 52.32138, 4.51242 52.3...</td>\n",
       "    </tr>\n",
       "    <tr>\n",
       "      <th>1</th>\n",
       "      <td>6.970620</td>\n",
       "      <td>268.75</td>\n",
       "      <td>0.0</td>\n",
       "      <td>0.0</td>\n",
       "      <td>0.0</td>\n",
       "      <td>0.00</td>\n",
       "      <td>0.0</td>\n",
       "      <td>209.0</td>\n",
       "      <td>MULTIPOLYGON (((4.52338 52.32138, 4.51242 52.3...</td>\n",
       "    </tr>\n",
       "    <tr>\n",
       "      <th>2</th>\n",
       "      <td>11.510500</td>\n",
       "      <td>252.65</td>\n",
       "      <td>0.0</td>\n",
       "      <td>0.0</td>\n",
       "      <td>0.0</td>\n",
       "      <td>0.00</td>\n",
       "      <td>0.0</td>\n",
       "      <td>209.0</td>\n",
       "      <td>MULTIPOLYGON (((4.52338 52.32138, 4.51242 52.3...</td>\n",
       "    </tr>\n",
       "    <tr>\n",
       "      <th>3</th>\n",
       "      <td>9.193275</td>\n",
       "      <td>328.45</td>\n",
       "      <td>0.0</td>\n",
       "      <td>0.0</td>\n",
       "      <td>0.0</td>\n",
       "      <td>0.00</td>\n",
       "      <td>0.0</td>\n",
       "      <td>209.0</td>\n",
       "      <td>MULTIPOLYGON (((4.52338 52.32138, 4.51242 52.3...</td>\n",
       "    </tr>\n",
       "    <tr>\n",
       "      <th>4</th>\n",
       "      <td>9.973565</td>\n",
       "      <td>301.25</td>\n",
       "      <td>0.0</td>\n",
       "      <td>0.0</td>\n",
       "      <td>0.0</td>\n",
       "      <td>0.00</td>\n",
       "      <td>0.0</td>\n",
       "      <td>209.0</td>\n",
       "      <td>MULTIPOLYGON (((4.52338 52.32138, 4.51242 52.3...</td>\n",
       "    </tr>\n",
       "    <tr>\n",
       "      <th>...</th>\n",
       "      <td>...</td>\n",
       "      <td>...</td>\n",
       "      <td>...</td>\n",
       "      <td>...</td>\n",
       "      <td>...</td>\n",
       "      <td>...</td>\n",
       "      <td>...</td>\n",
       "      <td>...</td>\n",
       "      <td>...</td>\n",
       "    </tr>\n",
       "    <tr>\n",
       "      <th>4010</th>\n",
       "      <td>3.070000</td>\n",
       "      <td>74.25</td>\n",
       "      <td>0.0</td>\n",
       "      <td>10850.0</td>\n",
       "      <td>0.0</td>\n",
       "      <td>14.45</td>\n",
       "      <td>0.0</td>\n",
       "      <td>267.0</td>\n",
       "      <td>MULTIPOLYGON (((5.13328 53.04158, 5.13740 53.0...</td>\n",
       "    </tr>\n",
       "    <tr>\n",
       "      <th>4011</th>\n",
       "      <td>1.610000</td>\n",
       "      <td>101.10</td>\n",
       "      <td>0.0</td>\n",
       "      <td>12600.0</td>\n",
       "      <td>0.0</td>\n",
       "      <td>16.00</td>\n",
       "      <td>0.0</td>\n",
       "      <td>267.0</td>\n",
       "      <td>MULTIPOLYGON (((5.13328 53.04158, 5.13740 53.0...</td>\n",
       "    </tr>\n",
       "    <tr>\n",
       "      <th>4012</th>\n",
       "      <td>2.350000</td>\n",
       "      <td>150.90</td>\n",
       "      <td>0.0</td>\n",
       "      <td>12900.0</td>\n",
       "      <td>0.0</td>\n",
       "      <td>18.30</td>\n",
       "      <td>0.0</td>\n",
       "      <td>267.0</td>\n",
       "      <td>MULTIPOLYGON (((5.13328 53.04158, 5.13740 53.0...</td>\n",
       "    </tr>\n",
       "    <tr>\n",
       "      <th>4013</th>\n",
       "      <td>3.460000</td>\n",
       "      <td>96.75</td>\n",
       "      <td>0.0</td>\n",
       "      <td>19000.0</td>\n",
       "      <td>0.0</td>\n",
       "      <td>17.75</td>\n",
       "      <td>0.0</td>\n",
       "      <td>267.0</td>\n",
       "      <td>MULTIPOLYGON (((5.13328 53.04158, 5.13740 53.0...</td>\n",
       "    </tr>\n",
       "    <tr>\n",
       "      <th>4014</th>\n",
       "      <td>3.460000</td>\n",
       "      <td>164.85</td>\n",
       "      <td>0.0</td>\n",
       "      <td>16350.0</td>\n",
       "      <td>0.0</td>\n",
       "      <td>18.60</td>\n",
       "      <td>0.0</td>\n",
       "      <td>267.0</td>\n",
       "      <td>MULTIPOLYGON (((5.13328 53.04158, 5.13740 53.0...</td>\n",
       "    </tr>\n",
       "  </tbody>\n",
       "</table>\n",
       "<p>4015 rows × 9 columns</p>\n",
       "</div>"
      ],
      "text/plain": [
       "      Windsnelheid (km/h)  Windrichting (Graden)  Luchtdruk (ps)  \\\n",
       "0                3.792700                 278.25             0.0   \n",
       "1                6.970620                 268.75             0.0   \n",
       "2               11.510500                 252.65             0.0   \n",
       "3                9.193275                 328.45             0.0   \n",
       "4                9.973565                 301.25             0.0   \n",
       "...                   ...                    ...             ...   \n",
       "4010             3.070000                  74.25             0.0   \n",
       "4011             1.610000                 101.10             0.0   \n",
       "4012             2.350000                 150.90             0.0   \n",
       "4013             3.460000                  96.75             0.0   \n",
       "4014             3.460000                 164.85             0.0   \n",
       "\n",
       "      Zichtbaarheid (Decimeter ver kunnen kijken)  Regenval (mm/h)  \\\n",
       "0                                             0.0              0.0   \n",
       "1                                             0.0              0.0   \n",
       "2                                             0.0              0.0   \n",
       "3                                             0.0              0.0   \n",
       "4                                             0.0              0.0   \n",
       "...                                           ...              ...   \n",
       "4010                                      10850.0              0.0   \n",
       "4011                                      12600.0              0.0   \n",
       "4012                                      12900.0              0.0   \n",
       "4013                                      19000.0              0.0   \n",
       "4014                                      16350.0              0.0   \n",
       "\n",
       "      Temperatuur (C)  Weercode    STN  \\\n",
       "0                0.00       0.0  209.0   \n",
       "1                0.00       0.0  209.0   \n",
       "2                0.00       0.0  209.0   \n",
       "3                0.00       0.0  209.0   \n",
       "4                0.00       0.0  209.0   \n",
       "...               ...       ...    ...   \n",
       "4010            14.45       0.0  267.0   \n",
       "4011            16.00       0.0  267.0   \n",
       "4012            18.30       0.0  267.0   \n",
       "4013            17.75       0.0  267.0   \n",
       "4014            18.60       0.0  267.0   \n",
       "\n",
       "                                               geometry  \n",
       "0     MULTIPOLYGON (((4.52338 52.32138, 4.51242 52.3...  \n",
       "1     MULTIPOLYGON (((4.52338 52.32138, 4.51242 52.3...  \n",
       "2     MULTIPOLYGON (((4.52338 52.32138, 4.51242 52.3...  \n",
       "3     MULTIPOLYGON (((4.52338 52.32138, 4.51242 52.3...  \n",
       "4     MULTIPOLYGON (((4.52338 52.32138, 4.51242 52.3...  \n",
       "...                                                 ...  \n",
       "4010  MULTIPOLYGON (((5.13328 53.04158, 5.13740 53.0...  \n",
       "4011  MULTIPOLYGON (((5.13328 53.04158, 5.13740 53.0...  \n",
       "4012  MULTIPOLYGON (((5.13328 53.04158, 5.13740 53.0...  \n",
       "4013  MULTIPOLYGON (((5.13328 53.04158, 5.13740 53.0...  \n",
       "4014  MULTIPOLYGON (((5.13328 53.04158, 5.13740 53.0...  \n",
       "\n",
       "[4015 rows x 9 columns]"
      ]
     },
     "execution_count": 91,
     "metadata": {},
     "output_type": "execute_result"
    }
   ],
   "source": [
    "weer_omtemergen"
   ]
  },
  {
   "cell_type": "code",
   "execution_count": 92,
   "metadata": {},
   "outputs": [],
   "source": [
    "gdf = gdf.dropna()"
   ]
  },
  {
   "cell_type": "code",
   "execution_count": 93,
   "metadata": {},
   "outputs": [
    {
     "name": "stdout",
     "output_type": "stream",
     "text": [
      "<class 'pandas.core.frame.DataFrame'>\n",
      "Int64Index: 4015 entries, 0 to 4014\n",
      "Data columns (total 9 columns):\n",
      " #   Column                                       Non-Null Count  Dtype   \n",
      "---  ------                                       --------------  -----   \n",
      " 0   Windsnelheid (km/h)                          4015 non-null   float64 \n",
      " 1   Windrichting (Graden)                        4015 non-null   float64 \n",
      " 2   Luchtdruk (ps)                               4015 non-null   float64 \n",
      " 3   Zichtbaarheid (Decimeter ver kunnen kijken)  4015 non-null   float64 \n",
      " 4   Regenval (mm/h)                              4015 non-null   float64 \n",
      " 5   Temperatuur (C)                              4015 non-null   float64 \n",
      " 6   Weercode                                     4015 non-null   float64 \n",
      " 7   STN                                          4015 non-null   float64 \n",
      " 8   geometry                                     4015 non-null   geometry\n",
      "dtypes: float64(8), geometry(1)\n",
      "memory usage: 313.7 KB\n"
     ]
    }
   ],
   "source": [
    "weer4.info()"
   ]
  },
  {
   "cell_type": "code",
   "execution_count": 94,
   "metadata": {},
   "outputs": [],
   "source": [
    "weer_omtemergen = gpd.GeoDataFrame(weer_omtemergen, geometry=(weer_omtemergen['geometry']))"
   ]
  },
  {
   "cell_type": "code",
   "execution_count": 95,
   "metadata": {},
   "outputs": [
    {
     "data": {
      "text/html": [
       "<div>\n",
       "<style scoped>\n",
       "    .dataframe tbody tr th:only-of-type {\n",
       "        vertical-align: middle;\n",
       "    }\n",
       "\n",
       "    .dataframe tbody tr th {\n",
       "        vertical-align: top;\n",
       "    }\n",
       "\n",
       "    .dataframe thead th {\n",
       "        text-align: right;\n",
       "    }\n",
       "</style>\n",
       "<table border=\"1\" class=\"dataframe\">\n",
       "  <thead>\n",
       "    <tr style=\"text-align: right;\">\n",
       "      <th></th>\n",
       "      <th>X</th>\n",
       "      <th>Y</th>\n",
       "      <th>VKL_NUMMER</th>\n",
       "      <th>AP3_CODE</th>\n",
       "      <th>ANTL_PTJ</th>\n",
       "      <th>AOL_ID</th>\n",
       "      <th>BEBKOM</th>\n",
       "      <th>WGD_CODE_1</th>\n",
       "      <th>geometry</th>\n",
       "    </tr>\n",
       "  </thead>\n",
       "  <tbody>\n",
       "    <tr>\n",
       "      <th>8</th>\n",
       "      <td>5.698422</td>\n",
       "      <td>51.700464</td>\n",
       "      <td>20210000435</td>\n",
       "      <td>DOD</td>\n",
       "      <td>2</td>\n",
       "      <td>7</td>\n",
       "      <td>BI</td>\n",
       "      <td>D</td>\n",
       "      <td>POINT (5.69842 51.70046)</td>\n",
       "    </tr>\n",
       "    <tr>\n",
       "      <th>16</th>\n",
       "      <td>5.440999</td>\n",
       "      <td>51.761055</td>\n",
       "      <td>20210000567</td>\n",
       "      <td>DOD</td>\n",
       "      <td>2</td>\n",
       "      <td>7</td>\n",
       "      <td>BU</td>\n",
       "      <td>D</td>\n",
       "      <td>POINT (5.44100 51.76105)</td>\n",
       "    </tr>\n",
       "    <tr>\n",
       "      <th>17</th>\n",
       "      <td>6.486673</td>\n",
       "      <td>52.904554</td>\n",
       "      <td>20210000568</td>\n",
       "      <td>DOD</td>\n",
       "      <td>2</td>\n",
       "      <td>7</td>\n",
       "      <td>BU</td>\n",
       "      <td>D</td>\n",
       "      <td>POINT (6.48667 52.90455)</td>\n",
       "    </tr>\n",
       "    <tr>\n",
       "      <th>25</th>\n",
       "      <td>4.427013</td>\n",
       "      <td>51.588056</td>\n",
       "      <td>20210072804</td>\n",
       "      <td>UMS</td>\n",
       "      <td>2</td>\n",
       "      <td>7</td>\n",
       "      <td>BI</td>\n",
       "      <td>D</td>\n",
       "      <td>POINT (4.42701 51.58806)</td>\n",
       "    </tr>\n",
       "    <tr>\n",
       "      <th>29</th>\n",
       "      <td>6.990462</td>\n",
       "      <td>53.006926</td>\n",
       "      <td>20210074980</td>\n",
       "      <td>UMS</td>\n",
       "      <td>2</td>\n",
       "      <td>7</td>\n",
       "      <td>BI</td>\n",
       "      <td>D</td>\n",
       "      <td>POINT (6.99046 53.00693)</td>\n",
       "    </tr>\n",
       "    <tr>\n",
       "      <th>...</th>\n",
       "      <td>...</td>\n",
       "      <td>...</td>\n",
       "      <td>...</td>\n",
       "      <td>...</td>\n",
       "      <td>...</td>\n",
       "      <td>...</td>\n",
       "      <td>...</td>\n",
       "      <td>...</td>\n",
       "      <td>...</td>\n",
       "    </tr>\n",
       "    <tr>\n",
       "      <th>113144</th>\n",
       "      <td>5.783843</td>\n",
       "      <td>51.445289</td>\n",
       "      <td>20210027300</td>\n",
       "      <td>UMS</td>\n",
       "      <td>3</td>\n",
       "      <td>7</td>\n",
       "      <td>BU</td>\n",
       "      <td>D</td>\n",
       "      <td>POINT (5.78384 51.44529)</td>\n",
       "    </tr>\n",
       "    <tr>\n",
       "      <th>113147</th>\n",
       "      <td>6.821636</td>\n",
       "      <td>53.241292</td>\n",
       "      <td>20210027330</td>\n",
       "      <td>UMS</td>\n",
       "      <td>2</td>\n",
       "      <td>0</td>\n",
       "      <td>BI</td>\n",
       "      <td>D</td>\n",
       "      <td>POINT (6.82164 53.24129)</td>\n",
       "    </tr>\n",
       "    <tr>\n",
       "      <th>113150</th>\n",
       "      <td>4.806394</td>\n",
       "      <td>52.453405</td>\n",
       "      <td>20210027591</td>\n",
       "      <td>UMS</td>\n",
       "      <td>3</td>\n",
       "      <td>9</td>\n",
       "      <td>BI</td>\n",
       "      <td>D</td>\n",
       "      <td>POINT (4.80639 52.45340)</td>\n",
       "    </tr>\n",
       "    <tr>\n",
       "      <th>113151</th>\n",
       "      <td>4.558489</td>\n",
       "      <td>52.098595</td>\n",
       "      <td>20210027600</td>\n",
       "      <td>UMS</td>\n",
       "      <td>3</td>\n",
       "      <td>7</td>\n",
       "      <td>BI</td>\n",
       "      <td>D</td>\n",
       "      <td>POINT (4.55849 52.09860)</td>\n",
       "    </tr>\n",
       "    <tr>\n",
       "      <th>113152</th>\n",
       "      <td>4.590681</td>\n",
       "      <td>52.007347</td>\n",
       "      <td>20210027602</td>\n",
       "      <td>UMS</td>\n",
       "      <td>4</td>\n",
       "      <td>0</td>\n",
       "      <td>BU</td>\n",
       "      <td>D</td>\n",
       "      <td>POINT (4.59068 52.00735)</td>\n",
       "    </tr>\n",
       "  </tbody>\n",
       "</table>\n",
       "<p>26617 rows × 9 columns</p>\n",
       "</div>"
      ],
      "text/plain": [
       "               X          Y   VKL_NUMMER AP3_CODE  ANTL_PTJ  AOL_ID BEBKOM  \\\n",
       "8       5.698422  51.700464  20210000435      DOD         2       7     BI   \n",
       "16      5.440999  51.761055  20210000567      DOD         2       7     BU   \n",
       "17      6.486673  52.904554  20210000568      DOD         2       7     BU   \n",
       "25      4.427013  51.588056  20210072804      UMS         2       7     BI   \n",
       "29      6.990462  53.006926  20210074980      UMS         2       7     BI   \n",
       "...          ...        ...          ...      ...       ...     ...    ...   \n",
       "113144  5.783843  51.445289  20210027300      UMS         3       7     BU   \n",
       "113147  6.821636  53.241292  20210027330      UMS         2       0     BI   \n",
       "113150  4.806394  52.453405  20210027591      UMS         3       9     BI   \n",
       "113151  4.558489  52.098595  20210027600      UMS         3       7     BI   \n",
       "113152  4.590681  52.007347  20210027602      UMS         4       0     BU   \n",
       "\n",
       "       WGD_CODE_1                  geometry  \n",
       "8               D  POINT (5.69842 51.70046)  \n",
       "16              D  POINT (5.44100 51.76105)  \n",
       "17              D  POINT (6.48667 52.90455)  \n",
       "25              D  POINT (4.42701 51.58806)  \n",
       "29              D  POINT (6.99046 53.00693)  \n",
       "...           ...                       ...  \n",
       "113144          D  POINT (5.78384 51.44529)  \n",
       "113147          D  POINT (6.82164 53.24129)  \n",
       "113150          D  POINT (4.80639 52.45340)  \n",
       "113151          D  POINT (4.55849 52.09860)  \n",
       "113152          D  POINT (4.59068 52.00735)  \n",
       "\n",
       "[26617 rows x 9 columns]"
      ]
     },
     "execution_count": 95,
     "metadata": {},
     "output_type": "execute_result"
    }
   ],
   "source": [
    "gdf"
   ]
  },
  {
   "cell_type": "code",
   "execution_count": 96,
   "metadata": {},
   "outputs": [
    {
     "data": {
      "text/html": [
       "<div>\n",
       "<style scoped>\n",
       "    .dataframe tbody tr th:only-of-type {\n",
       "        vertical-align: middle;\n",
       "    }\n",
       "\n",
       "    .dataframe tbody tr th {\n",
       "        vertical-align: top;\n",
       "    }\n",
       "\n",
       "    .dataframe thead th {\n",
       "        text-align: right;\n",
       "    }\n",
       "</style>\n",
       "<table border=\"1\" class=\"dataframe\">\n",
       "  <thead>\n",
       "    <tr style=\"text-align: right;\">\n",
       "      <th></th>\n",
       "      <th>Windsnelheid (km/h)</th>\n",
       "      <th>Windrichting (Graden)</th>\n",
       "      <th>Luchtdruk (ps)</th>\n",
       "      <th>Zichtbaarheid (Decimeter ver kunnen kijken)</th>\n",
       "      <th>Regenval (mm/h)</th>\n",
       "      <th>Temperatuur (C)</th>\n",
       "      <th>Weercode</th>\n",
       "      <th>STN</th>\n",
       "      <th>geometry</th>\n",
       "    </tr>\n",
       "  </thead>\n",
       "  <tbody>\n",
       "    <tr>\n",
       "      <th>0</th>\n",
       "      <td>3.792700</td>\n",
       "      <td>278.25</td>\n",
       "      <td>0.0</td>\n",
       "      <td>0.0</td>\n",
       "      <td>0.0</td>\n",
       "      <td>0.00</td>\n",
       "      <td>0.0</td>\n",
       "      <td>209.0</td>\n",
       "      <td>MULTIPOLYGON (((4.52338 52.32138, 4.51242 52.3...</td>\n",
       "    </tr>\n",
       "    <tr>\n",
       "      <th>1</th>\n",
       "      <td>6.970620</td>\n",
       "      <td>268.75</td>\n",
       "      <td>0.0</td>\n",
       "      <td>0.0</td>\n",
       "      <td>0.0</td>\n",
       "      <td>0.00</td>\n",
       "      <td>0.0</td>\n",
       "      <td>209.0</td>\n",
       "      <td>MULTIPOLYGON (((4.52338 52.32138, 4.51242 52.3...</td>\n",
       "    </tr>\n",
       "    <tr>\n",
       "      <th>2</th>\n",
       "      <td>11.510500</td>\n",
       "      <td>252.65</td>\n",
       "      <td>0.0</td>\n",
       "      <td>0.0</td>\n",
       "      <td>0.0</td>\n",
       "      <td>0.00</td>\n",
       "      <td>0.0</td>\n",
       "      <td>209.0</td>\n",
       "      <td>MULTIPOLYGON (((4.52338 52.32138, 4.51242 52.3...</td>\n",
       "    </tr>\n",
       "    <tr>\n",
       "      <th>3</th>\n",
       "      <td>9.193275</td>\n",
       "      <td>328.45</td>\n",
       "      <td>0.0</td>\n",
       "      <td>0.0</td>\n",
       "      <td>0.0</td>\n",
       "      <td>0.00</td>\n",
       "      <td>0.0</td>\n",
       "      <td>209.0</td>\n",
       "      <td>MULTIPOLYGON (((4.52338 52.32138, 4.51242 52.3...</td>\n",
       "    </tr>\n",
       "    <tr>\n",
       "      <th>4</th>\n",
       "      <td>9.973565</td>\n",
       "      <td>301.25</td>\n",
       "      <td>0.0</td>\n",
       "      <td>0.0</td>\n",
       "      <td>0.0</td>\n",
       "      <td>0.00</td>\n",
       "      <td>0.0</td>\n",
       "      <td>209.0</td>\n",
       "      <td>MULTIPOLYGON (((4.52338 52.32138, 4.51242 52.3...</td>\n",
       "    </tr>\n",
       "    <tr>\n",
       "      <th>...</th>\n",
       "      <td>...</td>\n",
       "      <td>...</td>\n",
       "      <td>...</td>\n",
       "      <td>...</td>\n",
       "      <td>...</td>\n",
       "      <td>...</td>\n",
       "      <td>...</td>\n",
       "      <td>...</td>\n",
       "      <td>...</td>\n",
       "    </tr>\n",
       "    <tr>\n",
       "      <th>4010</th>\n",
       "      <td>3.070000</td>\n",
       "      <td>74.25</td>\n",
       "      <td>0.0</td>\n",
       "      <td>10850.0</td>\n",
       "      <td>0.0</td>\n",
       "      <td>14.45</td>\n",
       "      <td>0.0</td>\n",
       "      <td>267.0</td>\n",
       "      <td>MULTIPOLYGON (((5.13328 53.04158, 5.13740 53.0...</td>\n",
       "    </tr>\n",
       "    <tr>\n",
       "      <th>4011</th>\n",
       "      <td>1.610000</td>\n",
       "      <td>101.10</td>\n",
       "      <td>0.0</td>\n",
       "      <td>12600.0</td>\n",
       "      <td>0.0</td>\n",
       "      <td>16.00</td>\n",
       "      <td>0.0</td>\n",
       "      <td>267.0</td>\n",
       "      <td>MULTIPOLYGON (((5.13328 53.04158, 5.13740 53.0...</td>\n",
       "    </tr>\n",
       "    <tr>\n",
       "      <th>4012</th>\n",
       "      <td>2.350000</td>\n",
       "      <td>150.90</td>\n",
       "      <td>0.0</td>\n",
       "      <td>12900.0</td>\n",
       "      <td>0.0</td>\n",
       "      <td>18.30</td>\n",
       "      <td>0.0</td>\n",
       "      <td>267.0</td>\n",
       "      <td>MULTIPOLYGON (((5.13328 53.04158, 5.13740 53.0...</td>\n",
       "    </tr>\n",
       "    <tr>\n",
       "      <th>4013</th>\n",
       "      <td>3.460000</td>\n",
       "      <td>96.75</td>\n",
       "      <td>0.0</td>\n",
       "      <td>19000.0</td>\n",
       "      <td>0.0</td>\n",
       "      <td>17.75</td>\n",
       "      <td>0.0</td>\n",
       "      <td>267.0</td>\n",
       "      <td>MULTIPOLYGON (((5.13328 53.04158, 5.13740 53.0...</td>\n",
       "    </tr>\n",
       "    <tr>\n",
       "      <th>4014</th>\n",
       "      <td>3.460000</td>\n",
       "      <td>164.85</td>\n",
       "      <td>0.0</td>\n",
       "      <td>16350.0</td>\n",
       "      <td>0.0</td>\n",
       "      <td>18.60</td>\n",
       "      <td>0.0</td>\n",
       "      <td>267.0</td>\n",
       "      <td>MULTIPOLYGON (((5.13328 53.04158, 5.13740 53.0...</td>\n",
       "    </tr>\n",
       "  </tbody>\n",
       "</table>\n",
       "<p>4015 rows × 9 columns</p>\n",
       "</div>"
      ],
      "text/plain": [
       "      Windsnelheid (km/h)  Windrichting (Graden)  Luchtdruk (ps)  \\\n",
       "0                3.792700                 278.25             0.0   \n",
       "1                6.970620                 268.75             0.0   \n",
       "2               11.510500                 252.65             0.0   \n",
       "3                9.193275                 328.45             0.0   \n",
       "4                9.973565                 301.25             0.0   \n",
       "...                   ...                    ...             ...   \n",
       "4010             3.070000                  74.25             0.0   \n",
       "4011             1.610000                 101.10             0.0   \n",
       "4012             2.350000                 150.90             0.0   \n",
       "4013             3.460000                  96.75             0.0   \n",
       "4014             3.460000                 164.85             0.0   \n",
       "\n",
       "      Zichtbaarheid (Decimeter ver kunnen kijken)  Regenval (mm/h)  \\\n",
       "0                                             0.0              0.0   \n",
       "1                                             0.0              0.0   \n",
       "2                                             0.0              0.0   \n",
       "3                                             0.0              0.0   \n",
       "4                                             0.0              0.0   \n",
       "...                                           ...              ...   \n",
       "4010                                      10850.0              0.0   \n",
       "4011                                      12600.0              0.0   \n",
       "4012                                      12900.0              0.0   \n",
       "4013                                      19000.0              0.0   \n",
       "4014                                      16350.0              0.0   \n",
       "\n",
       "      Temperatuur (C)  Weercode    STN  \\\n",
       "0                0.00       0.0  209.0   \n",
       "1                0.00       0.0  209.0   \n",
       "2                0.00       0.0  209.0   \n",
       "3                0.00       0.0  209.0   \n",
       "4                0.00       0.0  209.0   \n",
       "...               ...       ...    ...   \n",
       "4010            14.45       0.0  267.0   \n",
       "4011            16.00       0.0  267.0   \n",
       "4012            18.30       0.0  267.0   \n",
       "4013            17.75       0.0  267.0   \n",
       "4014            18.60       0.0  267.0   \n",
       "\n",
       "                                               geometry  \n",
       "0     MULTIPOLYGON (((4.52338 52.32138, 4.51242 52.3...  \n",
       "1     MULTIPOLYGON (((4.52338 52.32138, 4.51242 52.3...  \n",
       "2     MULTIPOLYGON (((4.52338 52.32138, 4.51242 52.3...  \n",
       "3     MULTIPOLYGON (((4.52338 52.32138, 4.51242 52.3...  \n",
       "4     MULTIPOLYGON (((4.52338 52.32138, 4.51242 52.3...  \n",
       "...                                                 ...  \n",
       "4010  MULTIPOLYGON (((5.13328 53.04158, 5.13740 53.0...  \n",
       "4011  MULTIPOLYGON (((5.13328 53.04158, 5.13740 53.0...  \n",
       "4012  MULTIPOLYGON (((5.13328 53.04158, 5.13740 53.0...  \n",
       "4013  MULTIPOLYGON (((5.13328 53.04158, 5.13740 53.0...  \n",
       "4014  MULTIPOLYGON (((5.13328 53.04158, 5.13740 53.0...  \n",
       "\n",
       "[4015 rows x 9 columns]"
      ]
     },
     "execution_count": 96,
     "metadata": {},
     "output_type": "execute_result"
    }
   ],
   "source": [
    "weer_omtemergen"
   ]
  },
  {
   "cell_type": "code",
   "execution_count": 97,
   "metadata": {},
   "outputs": [],
   "source": [
    "merged_gdf = gpd.sjoin(gdf, weer_omtemergen, predicate='within')\n"
   ]
  },
  {
   "cell_type": "code",
   "execution_count": 98,
   "metadata": {},
   "outputs": [
    {
     "data": {
      "text/html": [
       "<div>\n",
       "<style scoped>\n",
       "    .dataframe tbody tr th:only-of-type {\n",
       "        vertical-align: middle;\n",
       "    }\n",
       "\n",
       "    .dataframe tbody tr th {\n",
       "        vertical-align: top;\n",
       "    }\n",
       "\n",
       "    .dataframe thead th {\n",
       "        text-align: right;\n",
       "    }\n",
       "</style>\n",
       "<table border=\"1\" class=\"dataframe\">\n",
       "  <thead>\n",
       "    <tr style=\"text-align: right;\">\n",
       "      <th></th>\n",
       "      <th>X</th>\n",
       "      <th>Y</th>\n",
       "      <th>VKL_NUMMER</th>\n",
       "      <th>AP3_CODE</th>\n",
       "      <th>ANTL_PTJ</th>\n",
       "      <th>AOL_ID</th>\n",
       "      <th>BEBKOM</th>\n",
       "      <th>WGD_CODE_1</th>\n",
       "      <th>geometry</th>\n",
       "      <th>index_right</th>\n",
       "      <th>Windsnelheid (km/h)</th>\n",
       "      <th>Windrichting (Graden)</th>\n",
       "      <th>Luchtdruk (ps)</th>\n",
       "      <th>Zichtbaarheid (Decimeter ver kunnen kijken)</th>\n",
       "      <th>Regenval (mm/h)</th>\n",
       "      <th>Temperatuur (C)</th>\n",
       "      <th>Weercode</th>\n",
       "      <th>STN</th>\n",
       "    </tr>\n",
       "  </thead>\n",
       "  <tbody>\n",
       "    <tr>\n",
       "      <th>394</th>\n",
       "      <td>4.771971</td>\n",
       "      <td>52.730472</td>\n",
       "      <td>20210080706</td>\n",
       "      <td>LET</td>\n",
       "      <td>2</td>\n",
       "      <td>1</td>\n",
       "      <td>BI</td>\n",
       "      <td>R</td>\n",
       "      <td>POINT (4.77197 52.73047)</td>\n",
       "      <td>730</td>\n",
       "      <td>1.79000</td>\n",
       "      <td>238.60</td>\n",
       "      <td>1007.49</td>\n",
       "      <td>49900.0</td>\n",
       "      <td>0.0</td>\n",
       "      <td>4.3</td>\n",
       "      <td>0.0</td>\n",
       "      <td>235.0</td>\n",
       "    </tr>\n",
       "    <tr>\n",
       "      <th>398</th>\n",
       "      <td>4.778672</td>\n",
       "      <td>52.738382</td>\n",
       "      <td>20210080712</td>\n",
       "      <td>UMS</td>\n",
       "      <td>1</td>\n",
       "      <td>9</td>\n",
       "      <td>BU</td>\n",
       "      <td>D</td>\n",
       "      <td>POINT (4.77867 52.73838)</td>\n",
       "      <td>730</td>\n",
       "      <td>1.79000</td>\n",
       "      <td>238.60</td>\n",
       "      <td>1007.49</td>\n",
       "      <td>49900.0</td>\n",
       "      <td>0.0</td>\n",
       "      <td>4.3</td>\n",
       "      <td>0.0</td>\n",
       "      <td>235.0</td>\n",
       "    </tr>\n",
       "    <tr>\n",
       "      <th>497</th>\n",
       "      <td>4.807741</td>\n",
       "      <td>52.936414</td>\n",
       "      <td>20210081452</td>\n",
       "      <td>UMS</td>\n",
       "      <td>4</td>\n",
       "      <td>7</td>\n",
       "      <td>BI</td>\n",
       "      <td>D</td>\n",
       "      <td>POINT (4.80774 52.93641)</td>\n",
       "      <td>730</td>\n",
       "      <td>1.79000</td>\n",
       "      <td>238.60</td>\n",
       "      <td>1007.49</td>\n",
       "      <td>49900.0</td>\n",
       "      <td>0.0</td>\n",
       "      <td>4.3</td>\n",
       "      <td>0.0</td>\n",
       "      <td>235.0</td>\n",
       "    </tr>\n",
       "    <tr>\n",
       "      <th>563</th>\n",
       "      <td>4.812609</td>\n",
       "      <td>52.758818</td>\n",
       "      <td>20210082114</td>\n",
       "      <td>UMS</td>\n",
       "      <td>2</td>\n",
       "      <td>7</td>\n",
       "      <td>BI</td>\n",
       "      <td>D</td>\n",
       "      <td>POINT (4.81261 52.75882)</td>\n",
       "      <td>730</td>\n",
       "      <td>1.79000</td>\n",
       "      <td>238.60</td>\n",
       "      <td>1007.49</td>\n",
       "      <td>49900.0</td>\n",
       "      <td>0.0</td>\n",
       "      <td>4.3</td>\n",
       "      <td>0.0</td>\n",
       "      <td>235.0</td>\n",
       "    </tr>\n",
       "    <tr>\n",
       "      <th>570</th>\n",
       "      <td>4.811406</td>\n",
       "      <td>52.742245</td>\n",
       "      <td>20210082121</td>\n",
       "      <td>UMS</td>\n",
       "      <td>3</td>\n",
       "      <td>4</td>\n",
       "      <td>BI</td>\n",
       "      <td>D</td>\n",
       "      <td>POINT (4.81141 52.74225)</td>\n",
       "      <td>730</td>\n",
       "      <td>1.79000</td>\n",
       "      <td>238.60</td>\n",
       "      <td>1007.49</td>\n",
       "      <td>49900.0</td>\n",
       "      <td>0.0</td>\n",
       "      <td>4.3</td>\n",
       "      <td>0.0</td>\n",
       "      <td>235.0</td>\n",
       "    </tr>\n",
       "    <tr>\n",
       "      <th>...</th>\n",
       "      <td>...</td>\n",
       "      <td>...</td>\n",
       "      <td>...</td>\n",
       "      <td>...</td>\n",
       "      <td>...</td>\n",
       "      <td>...</td>\n",
       "      <td>...</td>\n",
       "      <td>...</td>\n",
       "      <td>...</td>\n",
       "      <td>...</td>\n",
       "      <td>...</td>\n",
       "      <td>...</td>\n",
       "      <td>...</td>\n",
       "      <td>...</td>\n",
       "      <td>...</td>\n",
       "      <td>...</td>\n",
       "      <td>...</td>\n",
       "      <td>...</td>\n",
       "    </tr>\n",
       "    <tr>\n",
       "      <th>41852</th>\n",
       "      <td>4.527688</td>\n",
       "      <td>52.462267</td>\n",
       "      <td>20210034058</td>\n",
       "      <td>UMS</td>\n",
       "      <td>2</td>\n",
       "      <td>7</td>\n",
       "      <td>BI</td>\n",
       "      <td>D</td>\n",
       "      <td>POINT (4.52769 52.46227)</td>\n",
       "      <td>364</td>\n",
       "      <td>4.11427</td>\n",
       "      <td>199.55</td>\n",
       "      <td>0.00</td>\n",
       "      <td>0.0</td>\n",
       "      <td>0.0</td>\n",
       "      <td>0.0</td>\n",
       "      <td>0.0</td>\n",
       "      <td>209.0</td>\n",
       "    </tr>\n",
       "    <tr>\n",
       "      <th>53741</th>\n",
       "      <td>4.517625</td>\n",
       "      <td>52.360518</td>\n",
       "      <td>20210085188</td>\n",
       "      <td>LET</td>\n",
       "      <td>2</td>\n",
       "      <td>7</td>\n",
       "      <td>BU</td>\n",
       "      <td>D</td>\n",
       "      <td>POINT (4.51762 52.36052)</td>\n",
       "      <td>364</td>\n",
       "      <td>4.11427</td>\n",
       "      <td>199.55</td>\n",
       "      <td>0.00</td>\n",
       "      <td>0.0</td>\n",
       "      <td>0.0</td>\n",
       "      <td>0.0</td>\n",
       "      <td>0.0</td>\n",
       "      <td>209.0</td>\n",
       "    </tr>\n",
       "    <tr>\n",
       "      <th>56104</th>\n",
       "      <td>4.526193</td>\n",
       "      <td>52.323866</td>\n",
       "      <td>20210066720</td>\n",
       "      <td>UMS</td>\n",
       "      <td>2</td>\n",
       "      <td>7</td>\n",
       "      <td>BU</td>\n",
       "      <td>D</td>\n",
       "      <td>POINT (4.52619 52.32387)</td>\n",
       "      <td>364</td>\n",
       "      <td>4.11427</td>\n",
       "      <td>199.55</td>\n",
       "      <td>0.00</td>\n",
       "      <td>0.0</td>\n",
       "      <td>0.0</td>\n",
       "      <td>0.0</td>\n",
       "      <td>0.0</td>\n",
       "      <td>209.0</td>\n",
       "    </tr>\n",
       "    <tr>\n",
       "      <th>62122</th>\n",
       "      <td>4.513559</td>\n",
       "      <td>52.337518</td>\n",
       "      <td>20210064168</td>\n",
       "      <td>LET</td>\n",
       "      <td>2</td>\n",
       "      <td>7</td>\n",
       "      <td>BU</td>\n",
       "      <td>R</td>\n",
       "      <td>POINT (4.51356 52.33752)</td>\n",
       "      <td>364</td>\n",
       "      <td>4.11427</td>\n",
       "      <td>199.55</td>\n",
       "      <td>0.00</td>\n",
       "      <td>0.0</td>\n",
       "      <td>0.0</td>\n",
       "      <td>0.0</td>\n",
       "      <td>0.0</td>\n",
       "      <td>209.0</td>\n",
       "    </tr>\n",
       "    <tr>\n",
       "      <th>72139</th>\n",
       "      <td>4.533670</td>\n",
       "      <td>52.463927</td>\n",
       "      <td>20210070473</td>\n",
       "      <td>LET</td>\n",
       "      <td>2</td>\n",
       "      <td>7</td>\n",
       "      <td>BU</td>\n",
       "      <td>D</td>\n",
       "      <td>POINT (4.53367 52.46393)</td>\n",
       "      <td>364</td>\n",
       "      <td>4.11427</td>\n",
       "      <td>199.55</td>\n",
       "      <td>0.00</td>\n",
       "      <td>0.0</td>\n",
       "      <td>0.0</td>\n",
       "      <td>0.0</td>\n",
       "      <td>0.0</td>\n",
       "      <td>209.0</td>\n",
       "    </tr>\n",
       "  </tbody>\n",
       "</table>\n",
       "<p>1593955 rows × 18 columns</p>\n",
       "</div>"
      ],
      "text/plain": [
       "              X          Y   VKL_NUMMER AP3_CODE  ANTL_PTJ  AOL_ID BEBKOM  \\\n",
       "394    4.771971  52.730472  20210080706      LET         2       1     BI   \n",
       "398    4.778672  52.738382  20210080712      UMS         1       9     BU   \n",
       "497    4.807741  52.936414  20210081452      UMS         4       7     BI   \n",
       "563    4.812609  52.758818  20210082114      UMS         2       7     BI   \n",
       "570    4.811406  52.742245  20210082121      UMS         3       4     BI   \n",
       "...         ...        ...          ...      ...       ...     ...    ...   \n",
       "41852  4.527688  52.462267  20210034058      UMS         2       7     BI   \n",
       "53741  4.517625  52.360518  20210085188      LET         2       7     BU   \n",
       "56104  4.526193  52.323866  20210066720      UMS         2       7     BU   \n",
       "62122  4.513559  52.337518  20210064168      LET         2       7     BU   \n",
       "72139  4.533670  52.463927  20210070473      LET         2       7     BU   \n",
       "\n",
       "      WGD_CODE_1                  geometry  index_right  Windsnelheid (km/h)  \\\n",
       "394            R  POINT (4.77197 52.73047)          730              1.79000   \n",
       "398            D  POINT (4.77867 52.73838)          730              1.79000   \n",
       "497            D  POINT (4.80774 52.93641)          730              1.79000   \n",
       "563            D  POINT (4.81261 52.75882)          730              1.79000   \n",
       "570            D  POINT (4.81141 52.74225)          730              1.79000   \n",
       "...          ...                       ...          ...                  ...   \n",
       "41852          D  POINT (4.52769 52.46227)          364              4.11427   \n",
       "53741          D  POINT (4.51762 52.36052)          364              4.11427   \n",
       "56104          D  POINT (4.52619 52.32387)          364              4.11427   \n",
       "62122          R  POINT (4.51356 52.33752)          364              4.11427   \n",
       "72139          D  POINT (4.53367 52.46393)          364              4.11427   \n",
       "\n",
       "       Windrichting (Graden)  Luchtdruk (ps)  \\\n",
       "394                   238.60         1007.49   \n",
       "398                   238.60         1007.49   \n",
       "497                   238.60         1007.49   \n",
       "563                   238.60         1007.49   \n",
       "570                   238.60         1007.49   \n",
       "...                      ...             ...   \n",
       "41852                 199.55            0.00   \n",
       "53741                 199.55            0.00   \n",
       "56104                 199.55            0.00   \n",
       "62122                 199.55            0.00   \n",
       "72139                 199.55            0.00   \n",
       "\n",
       "       Zichtbaarheid (Decimeter ver kunnen kijken)  Regenval (mm/h)  \\\n",
       "394                                        49900.0              0.0   \n",
       "398                                        49900.0              0.0   \n",
       "497                                        49900.0              0.0   \n",
       "563                                        49900.0              0.0   \n",
       "570                                        49900.0              0.0   \n",
       "...                                            ...              ...   \n",
       "41852                                          0.0              0.0   \n",
       "53741                                          0.0              0.0   \n",
       "56104                                          0.0              0.0   \n",
       "62122                                          0.0              0.0   \n",
       "72139                                          0.0              0.0   \n",
       "\n",
       "       Temperatuur (C)  Weercode    STN  \n",
       "394                4.3       0.0  235.0  \n",
       "398                4.3       0.0  235.0  \n",
       "497                4.3       0.0  235.0  \n",
       "563                4.3       0.0  235.0  \n",
       "570                4.3       0.0  235.0  \n",
       "...                ...       ...    ...  \n",
       "41852              0.0       0.0  209.0  \n",
       "53741              0.0       0.0  209.0  \n",
       "56104              0.0       0.0  209.0  \n",
       "62122              0.0       0.0  209.0  \n",
       "72139              0.0       0.0  209.0  \n",
       "\n",
       "[1593955 rows x 18 columns]"
      ]
     },
     "execution_count": 98,
     "metadata": {},
     "output_type": "execute_result"
    }
   ],
   "source": [
    "merged_gdf"
   ]
  },
  {
   "cell_type": "code",
   "execution_count": 99,
   "metadata": {},
   "outputs": [
    {
     "data": {
      "text/plain": [
       "3482"
      ]
     },
     "execution_count": 99,
     "metadata": {},
     "output_type": "execute_result"
    }
   ],
   "source": [
    "merged_gdf['geometry'].nunique()"
   ]
  },
  {
   "cell_type": "code",
   "execution_count": 100,
   "metadata": {},
   "outputs": [
    {
     "data": {
      "image/png": "[encoded data removed]",
      "text/plain": [
       "<Figure size 640x480 with 1 Axes>"
      ]
     },
     "metadata": {},
     "output_type": "display_data"
    }
   ],
   "source": [
    "# Plot de punten\n",
    "plt.scatter(merged_gdf['X'], merged_gdf['Y'], color='red', label='Punten')\n",
    "\n",
    "# Toon de plot\n",
    "plt.show()"
   ]
  },
  {
   "cell_type": "code",
   "execution_count": 101,
   "metadata": {},
   "outputs": [
    {
     "data": {
      "text/html": [
       "<div>\n",
       "<style scoped>\n",
       "    .dataframe tbody tr th:only-of-type {\n",
       "        vertical-align: middle;\n",
       "    }\n",
       "\n",
       "    .dataframe tbody tr th {\n",
       "        vertical-align: top;\n",
       "    }\n",
       "\n",
       "    .dataframe thead th {\n",
       "        text-align: right;\n",
       "    }\n",
       "</style>\n",
       "<table border=\"1\" class=\"dataframe\">\n",
       "  <thead>\n",
       "    <tr style=\"text-align: right;\">\n",
       "      <th></th>\n",
       "      <th>X</th>\n",
       "      <th>Y</th>\n",
       "      <th>VKL_NUMMER</th>\n",
       "      <th>AP3_CODE</th>\n",
       "      <th>ANTL_PTJ</th>\n",
       "      <th>AOL_ID</th>\n",
       "      <th>BEBKOM</th>\n",
       "      <th>WGD_CODE_1</th>\n",
       "      <th>geometry</th>\n",
       "      <th>index_right</th>\n",
       "      <th>Windsnelheid (km/h)</th>\n",
       "      <th>Windrichting (Graden)</th>\n",
       "      <th>Luchtdruk (ps)</th>\n",
       "      <th>Zichtbaarheid (Decimeter ver kunnen kijken)</th>\n",
       "      <th>Regenval (mm/h)</th>\n",
       "      <th>Temperatuur (C)</th>\n",
       "      <th>Weercode</th>\n",
       "      <th>STN</th>\n",
       "    </tr>\n",
       "  </thead>\n",
       "  <tbody>\n",
       "    <tr>\n",
       "      <th>394</th>\n",
       "      <td>4.771971</td>\n",
       "      <td>52.730472</td>\n",
       "      <td>20210080706</td>\n",
       "      <td>LET</td>\n",
       "      <td>2</td>\n",
       "      <td>1</td>\n",
       "      <td>BI</td>\n",
       "      <td>R</td>\n",
       "      <td>POINT (4.77197 52.73047)</td>\n",
       "      <td>730</td>\n",
       "      <td>1.79</td>\n",
       "      <td>238.6</td>\n",
       "      <td>1007.49</td>\n",
       "      <td>49900.0</td>\n",
       "      <td>0.0</td>\n",
       "      <td>4.3</td>\n",
       "      <td>0.0</td>\n",
       "      <td>235.0</td>\n",
       "    </tr>\n",
       "    <tr>\n",
       "      <th>398</th>\n",
       "      <td>4.778672</td>\n",
       "      <td>52.738382</td>\n",
       "      <td>20210080712</td>\n",
       "      <td>UMS</td>\n",
       "      <td>1</td>\n",
       "      <td>9</td>\n",
       "      <td>BU</td>\n",
       "      <td>D</td>\n",
       "      <td>POINT (4.77867 52.73838)</td>\n",
       "      <td>730</td>\n",
       "      <td>1.79</td>\n",
       "      <td>238.6</td>\n",
       "      <td>1007.49</td>\n",
       "      <td>49900.0</td>\n",
       "      <td>0.0</td>\n",
       "      <td>4.3</td>\n",
       "      <td>0.0</td>\n",
       "      <td>235.0</td>\n",
       "    </tr>\n",
       "    <tr>\n",
       "      <th>497</th>\n",
       "      <td>4.807741</td>\n",
       "      <td>52.936414</td>\n",
       "      <td>20210081452</td>\n",
       "      <td>UMS</td>\n",
       "      <td>4</td>\n",
       "      <td>7</td>\n",
       "      <td>BI</td>\n",
       "      <td>D</td>\n",
       "      <td>POINT (4.80774 52.93641)</td>\n",
       "      <td>730</td>\n",
       "      <td>1.79</td>\n",
       "      <td>238.6</td>\n",
       "      <td>1007.49</td>\n",
       "      <td>49900.0</td>\n",
       "      <td>0.0</td>\n",
       "      <td>4.3</td>\n",
       "      <td>0.0</td>\n",
       "      <td>235.0</td>\n",
       "    </tr>\n",
       "    <tr>\n",
       "      <th>563</th>\n",
       "      <td>4.812609</td>\n",
       "      <td>52.758818</td>\n",
       "      <td>20210082114</td>\n",
       "      <td>UMS</td>\n",
       "      <td>2</td>\n",
       "      <td>7</td>\n",
       "      <td>BI</td>\n",
       "      <td>D</td>\n",
       "      <td>POINT (4.81261 52.75882)</td>\n",
       "      <td>730</td>\n",
       "      <td>1.79</td>\n",
       "      <td>238.6</td>\n",
       "      <td>1007.49</td>\n",
       "      <td>49900.0</td>\n",
       "      <td>0.0</td>\n",
       "      <td>4.3</td>\n",
       "      <td>0.0</td>\n",
       "      <td>235.0</td>\n",
       "    </tr>\n",
       "    <tr>\n",
       "      <th>570</th>\n",
       "      <td>4.811406</td>\n",
       "      <td>52.742245</td>\n",
       "      <td>20210082121</td>\n",
       "      <td>UMS</td>\n",
       "      <td>3</td>\n",
       "      <td>4</td>\n",
       "      <td>BI</td>\n",
       "      <td>D</td>\n",
       "      <td>POINT (4.81141 52.74225)</td>\n",
       "      <td>730</td>\n",
       "      <td>1.79</td>\n",
       "      <td>238.6</td>\n",
       "      <td>1007.49</td>\n",
       "      <td>49900.0</td>\n",
       "      <td>0.0</td>\n",
       "      <td>4.3</td>\n",
       "      <td>0.0</td>\n",
       "      <td>235.0</td>\n",
       "    </tr>\n",
       "  </tbody>\n",
       "</table>\n",
       "</div>"
      ],
      "text/plain": [
       "            X          Y   VKL_NUMMER AP3_CODE  ANTL_PTJ  AOL_ID BEBKOM  \\\n",
       "394  4.771971  52.730472  20210080706      LET         2       1     BI   \n",
       "398  4.778672  52.738382  20210080712      UMS         1       9     BU   \n",
       "497  4.807741  52.936414  20210081452      UMS         4       7     BI   \n",
       "563  4.812609  52.758818  20210082114      UMS         2       7     BI   \n",
       "570  4.811406  52.742245  20210082121      UMS         3       4     BI   \n",
       "\n",
       "    WGD_CODE_1                  geometry  index_right  Windsnelheid (km/h)  \\\n",
       "394          R  POINT (4.77197 52.73047)          730                 1.79   \n",
       "398          D  POINT (4.77867 52.73838)          730                 1.79   \n",
       "497          D  POINT (4.80774 52.93641)          730                 1.79   \n",
       "563          D  POINT (4.81261 52.75882)          730                 1.79   \n",
       "570          D  POINT (4.81141 52.74225)          730                 1.79   \n",
       "\n",
       "     Windrichting (Graden)  Luchtdruk (ps)  \\\n",
       "394                  238.6         1007.49   \n",
       "398                  238.6         1007.49   \n",
       "497                  238.6         1007.49   \n",
       "563                  238.6         1007.49   \n",
       "570                  238.6         1007.49   \n",
       "\n",
       "     Zichtbaarheid (Decimeter ver kunnen kijken)  Regenval (mm/h)  \\\n",
       "394                                      49900.0              0.0   \n",
       "398                                      49900.0              0.0   \n",
       "497                                      49900.0              0.0   \n",
       "563                                      49900.0              0.0   \n",
       "570                                      49900.0              0.0   \n",
       "\n",
       "     Temperatuur (C)  Weercode    STN  \n",
       "394              4.3       0.0  235.0  \n",
       "398              4.3       0.0  235.0  \n",
       "497              4.3       0.0  235.0  \n",
       "563              4.3       0.0  235.0  \n",
       "570              4.3       0.0  235.0  "
      ]
     },
     "execution_count": 101,
     "metadata": {},
     "output_type": "execute_result"
    }
   ],
   "source": [
    "merged_gdf.head()"
   ]
  },
  {
   "cell_type": "code",
   "execution_count": 102,
   "metadata": {},
   "outputs": [
    {
     "name": "stdout",
     "output_type": "stream",
     "text": [
      "<class 'geopandas.geodataframe.GeoDataFrame'>\n",
      "Int64Index: 1593955 entries, 394 to 72139\n",
      "Data columns (total 18 columns):\n",
      " #   Column                                       Non-Null Count    Dtype   \n",
      "---  ------                                       --------------    -----   \n",
      " 0   X                                            1593955 non-null  float64 \n",
      " 1   Y                                            1593955 non-null  float64 \n",
      " 2   VKL_NUMMER                                   1593955 non-null  int64   \n",
      " 3   AP3_CODE                                     1593955 non-null  object  \n",
      " 4   ANTL_PTJ                                     1593955 non-null  int64   \n",
      " 5   AOL_ID                                       1593955 non-null  int64   \n",
      " 6   BEBKOM                                       1593955 non-null  object  \n",
      " 7   WGD_CODE_1                                   1593955 non-null  object  \n",
      " 8   geometry                                     1593955 non-null  geometry\n",
      " 9   index_right                                  1593955 non-null  int64   \n",
      " 10  Windsnelheid (km/h)                          1593955 non-null  float64 \n",
      " 11  Windrichting (Graden)                        1593955 non-null  float64 \n",
      " 12  Luchtdruk (ps)                               1593955 non-null  float64 \n",
      " 13  Zichtbaarheid (Decimeter ver kunnen kijken)  1593955 non-null  float64 \n",
      " 14  Regenval (mm/h)                              1593955 non-null  float64 \n",
      " 15  Temperatuur (C)                              1593955 non-null  float64 \n",
      " 16  Weercode                                     1593955 non-null  float64 \n",
      " 17  STN                                          1593955 non-null  float64 \n",
      "dtypes: float64(10), geometry(1), int64(4), object(3)\n",
      "memory usage: 231.1+ MB\n"
     ]
    }
   ],
   "source": [
    "merged_gdf.info()"
   ]
  },
  {
   "cell_type": "code",
   "execution_count": null,
   "metadata": {},
   "outputs": [],
   "source": []
  },
  {
   "cell_type": "code",
   "execution_count": 103,
   "metadata": {},
   "outputs": [
    {
     "data": {
      "application/vnd.plotly.v1+json": {
       "config": {
        "plotlyServerURL": "https://plot.ly"
       },
       "data": [
        {
         "colorscale": [
          [
           0,
           "rgb(247,251,255)"
          ],
          [
           0.125,
           "rgb(222,235,247)"
          ],
          [
           0.25,
           "rgb(198,219,239)"
          ],
          [
           0.375,
           "rgb(158,202,225)"
          ],
          [
           0.5,
           "rgb(107,174,214)"
          ],
          [
           0.625,
           "rgb(66,146,198)"
          ],
          [
           0.75,
           "rgb(33,113,181)"
          ],
          [
           0.875,
           "rgb(8,81,156)"
          ],
          [
           1,
           "rgb(8,48,107)"
          ]
         ],
         "hoverongaps": true,
         "text": [
          [
           1,
           -0.038352242886422985,
           -0.021886035025582347,
           -0.02179315194828693,
           -0.02095354635934146,
           0.015575606701579085,
           0.00010057659009401218,
           -0.018331468039560594,
           0.0025431230141798383,
           -0.004642742593467718
          ],
          [
           -0.038352242886422985,
           1,
           -0.0033632090837471453,
           -0.0010359305108058785,
           0.002265577800212825,
           -0.02057280125896754,
           -0.0019105583995594757,
           0.02578380917948215,
           -0.0028636561002028426,
           0.024180196400174898
          ],
          [
           -0.021886035025582347,
           -0.0033632090837471453,
           1,
           0.7377068481890835,
           0.3552784591583139,
           -0.08752966992432895,
           0.006159980811388801,
           0.18645234119110105,
           0.04050366749961862,
           -0.23766349469863032
          ],
          [
           -0.02179315194828693,
           -0.0010359305108058785,
           0.7377068481890835,
           1,
           0.39191643022030365,
           -0.028191305345240038,
           -0.009450630001499125,
           0.29340495214446416,
           -0.0008146532484609017,
           -0.08080038145288915
          ],
          [
           -0.02095354635934146,
           0.002265577800212825,
           0.3552784591583139,
           0.39191643022030365,
           1,
           0.1809240318018601,
           0.014421912228476006,
           0.32416156916904726,
           0.017046957420523524,
           -0.11221897519344294
          ],
          [
           0.015575606701579085,
           -0.02057280125896754,
           -0.08752966992432895,
           -0.028191305345240038,
           0.1809240318018601,
           1,
           -0.0170552193095312,
           -0.185862915624581,
           0.007057721998333152,
           -0.2832389807503916
          ],
          [
           0.00010057659009401218,
           -0.0019105583995594757,
           0.006159980811388801,
           -0.009450630001499125,
           0.014421912228476006,
           -0.0170552193095312,
           1,
           -0.010465152715327592,
           0.39032629261149143,
           -0.012615784768829779
          ],
          [
           -0.018331468039560594,
           0.02578380917948215,
           0.18645234119110105,
           0.29340495214446416,
           0.32416156916904726,
           -0.185862915624581,
           -0.010465152715327592,
           1,
           -0.04761274369623633,
           0.5114505978421986
          ],
          [
           0.0025431230141798383,
           -0.0028636561002028426,
           0.04050366749961862,
           -0.0008146532484609017,
           0.017046957420523524,
           0.007057721998333152,
           0.39032629261149143,
           -0.04761274369623633,
           1,
           -0.020906811684344818
          ],
          [
           -0.004642742593467718,
           0.024180196400174898,
           -0.23766349469863032,
           -0.08080038145288915,
           -0.11221897519344294,
           -0.2832389807503916,
           -0.012615784768829779,
           0.5114505978421986,
           -0.020906811684344818,
           1
          ]
         ],
         "type": "heatmap",
         "x": [
          "ANTL_PTJ",
          "AOL_ID",
          "Windsnelheid (km/h)",
          "Windrichting (Graden)",
          "Luchtdruk (ps)",
          "Zichtbaarheid (Decimeter ver kunnen kijken)",
          "Regenval (mm/h)",
          "Temperatuur (C)",
          "Weercode",
          "STN"
         ],
         "y": [
          "ANTL_PTJ",
          "AOL_ID",
          "Windsnelheid (km/h)",
          "Windrichting (Graden)",
          "Luchtdruk (ps)",
          "Zichtbaarheid (Decimeter ver kunnen kijken)",
          "Regenval (mm/h)",
          "Temperatuur (C)",
          "Weercode",
          "STN"
         ],
         "z": [
          [
           1,
           -0.038352242886422985,
           -0.021886035025582347,
           -0.02179315194828693,
           -0.02095354635934146,
           0.015575606701579085,
           0.00010057659009401218,
           -0.018331468039560594,
           0.0025431230141798383,
           -0.004642742593467718
          ],
          [
           -0.038352242886422985,
           1,
           -0.0033632090837471453,
           -0.0010359305108058785,
           0.002265577800212825,
           -0.02057280125896754,
           -0.0019105583995594757,
           0.02578380917948215,
           -0.0028636561002028426,
           0.024180196400174898
          ],
          [
           -0.021886035025582347,
           -0.0033632090837471453,
           1,
           0.7377068481890835,
           0.3552784591583139,
           -0.08752966992432895,
           0.006159980811388801,
           0.18645234119110105,
           0.04050366749961862,
           -0.23766349469863032
          ],
          [
           -0.02179315194828693,
           -0.0010359305108058785,
           0.7377068481890835,
           1,
           0.39191643022030365,
           -0.028191305345240038,
           -0.009450630001499125,
           0.29340495214446416,
           -0.0008146532484609017,
           -0.08080038145288915
          ],
          [
           -0.02095354635934146,
           0.002265577800212825,
           0.3552784591583139,
           0.39191643022030365,
           1,
           0.1809240318018601,
           0.014421912228476006,
           0.32416156916904726,
           0.017046957420523524,
           -0.11221897519344294
          ],
          [
           0.015575606701579085,
           -0.02057280125896754,
           -0.08752966992432895,
           -0.028191305345240038,
           0.1809240318018601,
           1,
           -0.0170552193095312,
           -0.185862915624581,
           0.007057721998333152,
           -0.2832389807503916
          ],
          [
           0.00010057659009401218,
           -0.0019105583995594757,
           0.006159980811388801,
           -0.009450630001499125,
           0.014421912228476006,
           -0.0170552193095312,
           1,
           -0.010465152715327592,
           0.39032629261149143,
           -0.012615784768829779
          ],
          [
           -0.018331468039560594,
           0.02578380917948215,
           0.18645234119110105,
           0.29340495214446416,
           0.32416156916904726,
           -0.185862915624581,
           -0.010465152715327592,
           1,
           -0.04761274369623633,
           0.5114505978421986
          ],
          [
           0.0025431230141798383,
           -0.0028636561002028426,
           0.04050366749961862,
           -0.0008146532484609017,
           0.017046957420523524,
           0.007057721998333152,
           0.39032629261149143,
           -0.04761274369623633,
           1,
           -0.020906811684344818
          ],
          [
           -0.004642742593467718,
           0.024180196400174898,
           -0.23766349469863032,
           -0.08080038145288915,
           -0.11221897519344294,
           -0.2832389807503916,
           -0.012615784768829779,
           0.5114505978421986,
           -0.020906811684344818,
           1
          ]
         ],
         "zmax": 1,
         "zmin": 0
        }
       ],
       "layout": {
        "template": {
         "data": {
          "bar": [
           {
            "error_x": {
             "color": "#2a3f5f"
            },
            "error_y": {
             "color": "#2a3f5f"
            },
            "marker": {
             "line": {
              "color": "#E5ECF6",
              "width": 0.5
             },
             "pattern": {
              "fillmode": "overlay",
              "size": 10,
              "solidity": 0.2
             }
            },
            "type": "bar"
           }
          ],
          "barpolar": [
           {
            "marker": {
             "line": {
              "color": "#E5ECF6",
              "width": 0.5
             },
             "pattern": {
              "fillmode": "overlay",
              "size": 10,
              "solidity": 0.2
             }
            },
            "type": "barpolar"
           }
          ],
          "carpet": [
           {
            "aaxis": {
             "endlinecolor": "#2a3f5f",
             "gridcolor": "white",
             "linecolor": "white",
             "minorgridcolor": "white",
             "startlinecolor": "#2a3f5f"
            },
            "baxis": {
             "endlinecolor": "#2a3f5f",
             "gridcolor": "white",
             "linecolor": "white",
             "minorgridcolor": "white",
             "startlinecolor": "#2a3f5f"
            },
            "type": "carpet"
           }
          ],
          "choropleth": [
           {
            "colorbar": {
             "outlinewidth": 0,
             "ticks": ""
            },
            "type": "choropleth"
           }
          ],
          "contour": [
           {
            "colorbar": {
             "outlinewidth": 0,
             "ticks": ""
            },
            "colorscale": [
             [
              0,
              "#0d0887"
             ],
             [
              0.1111111111111111,
              "#46039f"
             ],
             [
              0.2222222222222222,
              "#7201a8"
             ],
             [
              0.3333333333333333,
              "#9c179e"
             ],
             [
              0.4444444444444444,
              "#bd3786"
             ],
             [
              0.5555555555555556,
              "#d8576b"
             ],
             [
              0.6666666666666666,
              "#ed7953"
             ],
             [
              0.7777777777777778,
              "#fb9f3a"
             ],
             [
              0.8888888888888888,
              "#fdca26"
             ],
             [
              1,
              "#f0f921"
             ]
            ],
            "type": "contour"
           }
          ],
          "contourcarpet": [
           {
            "colorbar": {
             "outlinewidth": 0,
             "ticks": ""
            },
            "type": "contourcarpet"
           }
          ],
          "heatmap": [
           {
            "colorbar": {
             "outlinewidth": 0,
             "ticks": ""
            },
            "colorscale": [
             [
              0,
              "#0d0887"
             ],
             [
              0.1111111111111111,
              "#46039f"
             ],
             [
              0.2222222222222222,
              "#7201a8"
             ],
             [
              0.3333333333333333,
              "#9c179e"
             ],
             [
              0.4444444444444444,
              "#bd3786"
             ],
             [
              0.5555555555555556,
              "#d8576b"
             ],
             [
              0.6666666666666666,
              "#ed7953"
             ],
             [
              0.7777777777777778,
              "#fb9f3a"
             ],
             [
              0.8888888888888888,
              "#fdca26"
             ],
             [
              1,
              "#f0f921"
             ]
            ],
            "type": "heatmap"
           }
          ],
          "heatmapgl": [
           {
            "colorbar": {
             "outlinewidth": 0,
             "ticks": ""
            },
            "colorscale": [
             [
              0,
              "#0d0887"
             ],
             [
              0.1111111111111111,
              "#46039f"
             ],
             [
              0.2222222222222222,
              "#7201a8"
             ],
             [
              0.3333333333333333,
              "#9c179e"
             ],
             [
              0.4444444444444444,
              "#bd3786"
             ],
             [
              0.5555555555555556,
              "#d8576b"
             ],
             [
              0.6666666666666666,
              "#ed7953"
             ],
             [
              0.7777777777777778,
              "#fb9f3a"
             ],
             [
              0.8888888888888888,
              "#fdca26"
             ],
             [
              1,
              "#f0f921"
             ]
            ],
            "type": "heatmapgl"
           }
          ],
          "histogram": [
           {
            "marker": {
             "pattern": {
              "fillmode": "overlay",
              "size": 10,
              "solidity": 0.2
             }
            },
            "type": "histogram"
           }
          ],
          "histogram2d": [
           {
            "colorbar": {
             "outlinewidth": 0,
             "ticks": ""
            },
            "colorscale": [
             [
              0,
              "#0d0887"
             ],
             [
              0.1111111111111111,
              "#46039f"
             ],
             [
              0.2222222222222222,
              "#7201a8"
             ],
             [
              0.3333333333333333,
              "#9c179e"
             ],
             [
              0.4444444444444444,
              "#bd3786"
             ],
             [
              0.5555555555555556,
              "#d8576b"
             ],
             [
              0.6666666666666666,
              "#ed7953"
             ],
             [
              0.7777777777777778,
              "#fb9f3a"
             ],
             [
              0.8888888888888888,
              "#fdca26"
             ],
             [
              1,
              "#f0f921"
             ]
            ],
            "type": "histogram2d"
           }
          ],
          "histogram2dcontour": [
           {
            "colorbar": {
             "outlinewidth": 0,
             "ticks": ""
            },
            "colorscale": [
             [
              0,
              "#0d0887"
             ],
             [
              0.1111111111111111,
              "#46039f"
             ],
             [
              0.2222222222222222,
              "#7201a8"
             ],
             [
              0.3333333333333333,
              "#9c179e"
             ],
             [
              0.4444444444444444,
              "#bd3786"
             ],
             [
              0.5555555555555556,
              "#d8576b"
             ],
             [
              0.6666666666666666,
              "#ed7953"
             ],
             [
              0.7777777777777778,
              "#fb9f3a"
             ],
             [
              0.8888888888888888,
              "#fdca26"
             ],
             [
              1,
              "#f0f921"
             ]
            ],
            "type": "histogram2dcontour"
           }
          ],
          "mesh3d": [
           {
            "colorbar": {
             "outlinewidth": 0,
             "ticks": ""
            },
            "type": "mesh3d"
           }
          ],
          "parcoords": [
           {
            "line": {
             "colorbar": {
              "outlinewidth": 0,
              "ticks": ""
             }
            },
            "type": "parcoords"
           }
          ],
          "pie": [
           {
            "automargin": true,
            "type": "pie"
           }
          ],
          "scatter": [
           {
            "fillpattern": {
             "fillmode": "overlay",
             "size": 10,
             "solidity": 0.2
            },
            "type": "scatter"
           }
          ],
          "scatter3d": [
           {
            "line": {
             "colorbar": {
              "outlinewidth": 0,
              "ticks": ""
             }
            },
            "marker": {
             "colorbar": {
              "outlinewidth": 0,
              "ticks": ""
             }
            },
            "type": "scatter3d"
           }
          ],
          "scattercarpet": [
           {
            "marker": {
             "colorbar": {
              "outlinewidth": 0,
              "ticks": ""
             }
            },
            "type": "scattercarpet"
           }
          ],
          "scattergeo": [
           {
            "marker": {
             "colorbar": {
              "outlinewidth": 0,
              "ticks": ""
             }
            },
            "type": "scattergeo"
           }
          ],
          "scattergl": [
           {
            "marker": {
             "colorbar": {
              "outlinewidth": 0,
              "ticks": ""
             }
            },
            "type": "scattergl"
           }
          ],
          "scattermapbox": [
           {
            "marker": {
             "colorbar": {
              "outlinewidth": 0,
              "ticks": ""
             }
            },
            "type": "scattermapbox"
           }
          ],
          "scatterpolar": [
           {
            "marker": {
             "colorbar": {
              "outlinewidth": 0,
              "ticks": ""
             }
            },
            "type": "scatterpolar"
           }
          ],
          "scatterpolargl": [
           {
            "marker": {
             "colorbar": {
              "outlinewidth": 0,
              "ticks": ""
             }
            },
            "type": "scatterpolargl"
           }
          ],
          "scatterternary": [
           {
            "marker": {
             "colorbar": {
              "outlinewidth": 0,
              "ticks": ""
             }
            },
            "type": "scatterternary"
           }
          ],
          "surface": [
           {
            "colorbar": {
             "outlinewidth": 0,
             "ticks": ""
            },
            "colorscale": [
             [
              0,
              "#0d0887"
             ],
             [
              0.1111111111111111,
              "#46039f"
             ],
             [
              0.2222222222222222,
              "#7201a8"
             ],
             [
              0.3333333333333333,
              "#9c179e"
             ],
             [
              0.4444444444444444,
              "#bd3786"
             ],
             [
              0.5555555555555556,
              "#d8576b"
             ],
             [
              0.6666666666666666,
              "#ed7953"
             ],
             [
              0.7777777777777778,
              "#fb9f3a"
             ],
             [
              0.8888888888888888,
              "#fdca26"
             ],
             [
              1,
              "#f0f921"
             ]
            ],
            "type": "surface"
           }
          ],
          "table": [
           {
            "cells": {
             "fill": {
              "color": "#EBF0F8"
             },
             "line": {
              "color": "white"
             }
            },
            "header": {
             "fill": {
              "color": "#C8D4E3"
             },
             "line": {
              "color": "white"
             }
            },
            "type": "table"
           }
          ]
         },
         "layout": {
          "annotationdefaults": {
           "arrowcolor": "#2a3f5f",
           "arrowhead": 0,
           "arrowwidth": 1
          },
          "autotypenumbers": "strict",
          "coloraxis": {
           "colorbar": {
            "outlinewidth": 0,
            "ticks": ""
           }
          },
          "colorscale": {
           "diverging": [
            [
             0,
             "#8e0152"
            ],
            [
             0.1,
             "#c51b7d"
            ],
            [
             0.2,
             "#de77ae"
            ],
            [
             0.3,
             "#f1b6da"
            ],
            [
             0.4,
             "#fde0ef"
            ],
            [
             0.5,
             "#f7f7f7"
            ],
            [
             0.6,
             "#e6f5d0"
            ],
            [
             0.7,
             "#b8e186"
            ],
            [
             0.8,
             "#7fbc41"
            ],
            [
             0.9,
             "#4d9221"
            ],
            [
             1,
             "#276419"
            ]
           ],
           "sequential": [
            [
             0,
             "#0d0887"
            ],
            [
             0.1111111111111111,
             "#46039f"
            ],
            [
             0.2222222222222222,
             "#7201a8"
            ],
            [
             0.3333333333333333,
             "#9c179e"
            ],
            [
             0.4444444444444444,
             "#bd3786"
            ],
            [
             0.5555555555555556,
             "#d8576b"
            ],
            [
             0.6666666666666666,
             "#ed7953"
            ],
            [
             0.7777777777777778,
             "#fb9f3a"
            ],
            [
             0.8888888888888888,
             "#fdca26"
            ],
            [
             1,
             "#f0f921"
            ]
           ],
           "sequentialminus": [
            [
             0,
             "#0d0887"
            ],
            [
             0.1111111111111111,
             "#46039f"
            ],
            [
             0.2222222222222222,
             "#7201a8"
            ],
            [
             0.3333333333333333,
             "#9c179e"
            ],
            [
             0.4444444444444444,
             "#bd3786"
            ],
            [
             0.5555555555555556,
             "#d8576b"
            ],
            [
             0.6666666666666666,
             "#ed7953"
            ],
            [
             0.7777777777777778,
             "#fb9f3a"
            ],
            [
             0.8888888888888888,
             "#fdca26"
            ],
            [
             1,
             "#f0f921"
            ]
           ]
          },
          "colorway": [
           "#636efa",
           "#EF553B",
           "#00cc96",
           "#ab63fa",
           "#FFA15A",
           "#19d3f3",
           "#FF6692",
           "#B6E880",
           "#FF97FF",
           "#FECB52"
          ],
          "font": {
           "color": "#2a3f5f"
          },
          "geo": {
           "bgcolor": "white",
           "lakecolor": "white",
           "landcolor": "#E5ECF6",
           "showlakes": true,
           "showland": true,
           "subunitcolor": "white"
          },
          "hoverlabel": {
           "align": "left"
          },
          "hovermode": "closest",
          "mapbox": {
           "style": "light"
          },
          "paper_bgcolor": "white",
          "plot_bgcolor": "#E5ECF6",
          "polar": {
           "angularaxis": {
            "gridcolor": "white",
            "linecolor": "white",
            "ticks": ""
           },
           "bgcolor": "#E5ECF6",
           "radialaxis": {
            "gridcolor": "white",
            "linecolor": "white",
            "ticks": ""
           }
          },
          "scene": {
           "xaxis": {
            "backgroundcolor": "#E5ECF6",
            "gridcolor": "white",
            "gridwidth": 2,
            "linecolor": "white",
            "showbackground": true,
            "ticks": "",
            "zerolinecolor": "white"
           },
           "yaxis": {
            "backgroundcolor": "#E5ECF6",
            "gridcolor": "white",
            "gridwidth": 2,
            "linecolor": "white",
            "showbackground": true,
            "ticks": "",
            "zerolinecolor": "white"
           },
           "zaxis": {
            "backgroundcolor": "#E5ECF6",
            "gridcolor": "white",
            "gridwidth": 2,
            "linecolor": "white",
            "showbackground": true,
            "ticks": "",
            "zerolinecolor": "white"
           }
          },
          "shapedefaults": {
           "line": {
            "color": "#2a3f5f"
           }
          },
          "ternary": {
           "aaxis": {
            "gridcolor": "white",
            "linecolor": "white",
            "ticks": ""
           },
           "baxis": {
            "gridcolor": "white",
            "linecolor": "white",
            "ticks": ""
           },
           "bgcolor": "#E5ECF6",
           "caxis": {
            "gridcolor": "white",
            "linecolor": "white",
            "ticks": ""
           }
          },
          "title": {
           "x": 0.05
          },
          "xaxis": {
           "automargin": true,
           "gridcolor": "white",
           "linecolor": "white",
           "ticks": "",
           "title": {
            "standoff": 15
           },
           "zerolinecolor": "white",
           "zerolinewidth": 2
          },
          "yaxis": {
           "automargin": true,
           "gridcolor": "white",
           "linecolor": "white",
           "ticks": "",
           "title": {
            "standoff": 15
           },
           "zerolinecolor": "white",
           "zerolinewidth": 2
          }
         }
        }
       }
      }
     },
     "metadata": {},
     "output_type": "display_data"
    }
   ],
   "source": [
    "# Selecteer de numerieke kolommen voor correlatieanalyse\n",
    "\n",
    "numerical_columns = merged_gdf[['ANTL_PTJ', 'AOL_ID', 'Windsnelheid (km/h)','Windrichting (Graden)', 'Luchtdruk (ps)',\n",
    "                     'Zichtbaarheid (Decimeter ver kunnen kijken)', 'Regenval (mm/h)','Temperatuur (C)', 'Weercode', 'STN']]\n",
    "\n",
    "\n",
    "name = ['ANTL_PTJ', 'AOL_ID', 'Windsnelheid (km/h)','Windrichting (Graden)', 'Luchtdruk (ps)',\n",
    "                     'Zichtbaarheid (Decimeter ver kunnen kijken)', 'Regenval (mm/h)','Temperatuur (C)', 'Weercode', 'STN']\n",
    "\n",
    "# Bereken de correlatiematrix\n",
    "\n",
    "correlation_matrix = numerical_columns.corr()\n",
    "\n",
    "\n",
    "fig1 = go.Figure(data=go.Heatmap(\n",
    "\n",
    "                   z=correlation_matrix.values,\n",
    "\n",
    "                   x=name,\n",
    "\n",
    "                   y=name,\n",
    "\n",
    "                   colorscale='Blues',\n",
    "\n",
    "                   zmin=0, zmax=1,\n",
    "                   text=correlation_matrix.values, \n",
    "                   hoverongaps=True))\n",
    "fig1"
   ]
  },
  {
   "cell_type": "code",
   "execution_count": 104,
   "metadata": {},
   "outputs": [],
   "source": [
    "import statsmodels.api as sm \n",
    "import statsmodels.formula.api as smf \n",
    "import seaborn as sns"
   ]
  },
  {
   "cell_type": "code",
   "execution_count": 105,
   "metadata": {},
   "outputs": [
    {
     "name": "stderr",
     "output_type": "stream",
     "text": [
      "C:\\Users\\tjibb\\AppData\\Local\\Temp\\ipykernel_15680\\2703014095.py:2: SettingWithCopyWarning:\n",
      "\n",
      "\n",
      "A value is trying to be set on a copy of a slice from a DataFrame.\n",
      "Try using .loc[row_indexer,col_indexer] = value instead\n",
      "\n",
      "See the caveats in the documentation: https://pandas.pydata.org/pandas-docs/stable/user_guide/indexing.html#returning-a-view-versus-a-copy\n",
      "\n",
      "C:\\Users\\tjibb\\AppData\\Local\\Temp\\ipykernel_15680\\2703014095.py:3: SettingWithCopyWarning:\n",
      "\n",
      "\n",
      "A value is trying to be set on a copy of a slice from a DataFrame.\n",
      "Try using .loc[row_indexer,col_indexer] = value instead\n",
      "\n",
      "See the caveats in the documentation: https://pandas.pydata.org/pandas-docs/stable/user_guide/indexing.html#returning-a-view-versus-a-copy\n",
      "\n",
      "C:\\Users\\tjibb\\AppData\\Local\\Temp\\ipykernel_15680\\2703014095.py:4: SettingWithCopyWarning:\n",
      "\n",
      "\n",
      "A value is trying to be set on a copy of a slice from a DataFrame\n",
      "\n",
      "See the caveats in the documentation: https://pandas.pydata.org/pandas-docs/stable/user_guide/indexing.html#returning-a-view-versus-a-copy\n",
      "\n"
     ]
    },
    {
     "data": {
      "text/html": [
       "<div>\n",
       "<style scoped>\n",
       "    .dataframe tbody tr th:only-of-type {\n",
       "        vertical-align: middle;\n",
       "    }\n",
       "\n",
       "    .dataframe tbody tr th {\n",
       "        vertical-align: top;\n",
       "    }\n",
       "\n",
       "    .dataframe thead th {\n",
       "        text-align: right;\n",
       "    }\n",
       "</style>\n",
       "<table border=\"1\" class=\"dataframe\">\n",
       "  <thead>\n",
       "    <tr style=\"text-align: right;\">\n",
       "      <th></th>\n",
       "      <th>y</th>\n",
       "      <th>x</th>\n",
       "    </tr>\n",
       "  </thead>\n",
       "  <tbody>\n",
       "    <tr>\n",
       "      <th>394</th>\n",
       "      <td>1.79000</td>\n",
       "      <td>1007.49</td>\n",
       "    </tr>\n",
       "    <tr>\n",
       "      <th>398</th>\n",
       "      <td>1.79000</td>\n",
       "      <td>1007.49</td>\n",
       "    </tr>\n",
       "    <tr>\n",
       "      <th>497</th>\n",
       "      <td>1.79000</td>\n",
       "      <td>1007.49</td>\n",
       "    </tr>\n",
       "    <tr>\n",
       "      <th>563</th>\n",
       "      <td>1.79000</td>\n",
       "      <td>1007.49</td>\n",
       "    </tr>\n",
       "    <tr>\n",
       "      <th>570</th>\n",
       "      <td>1.79000</td>\n",
       "      <td>1007.49</td>\n",
       "    </tr>\n",
       "    <tr>\n",
       "      <th>...</th>\n",
       "      <td>...</td>\n",
       "      <td>...</td>\n",
       "    </tr>\n",
       "    <tr>\n",
       "      <th>41852</th>\n",
       "      <td>4.11427</td>\n",
       "      <td>0.00</td>\n",
       "    </tr>\n",
       "    <tr>\n",
       "      <th>53741</th>\n",
       "      <td>4.11427</td>\n",
       "      <td>0.00</td>\n",
       "    </tr>\n",
       "    <tr>\n",
       "      <th>56104</th>\n",
       "      <td>4.11427</td>\n",
       "      <td>0.00</td>\n",
       "    </tr>\n",
       "    <tr>\n",
       "      <th>62122</th>\n",
       "      <td>4.11427</td>\n",
       "      <td>0.00</td>\n",
       "    </tr>\n",
       "    <tr>\n",
       "      <th>72139</th>\n",
       "      <td>4.11427</td>\n",
       "      <td>0.00</td>\n",
       "    </tr>\n",
       "  </tbody>\n",
       "</table>\n",
       "<p>1593955 rows × 2 columns</p>\n",
       "</div>"
      ],
      "text/plain": [
       "             y        x\n",
       "394    1.79000  1007.49\n",
       "398    1.79000  1007.49\n",
       "497    1.79000  1007.49\n",
       "563    1.79000  1007.49\n",
       "570    1.79000  1007.49\n",
       "...        ...      ...\n",
       "41852  4.11427     0.00\n",
       "53741  4.11427     0.00\n",
       "56104  4.11427     0.00\n",
       "62122  4.11427     0.00\n",
       "72139  4.11427     0.00\n",
       "\n",
       "[1593955 rows x 2 columns]"
      ]
     },
     "execution_count": 105,
     "metadata": {},
     "output_type": "execute_result"
    }
   ],
   "source": [
    "df=numerical_columns[['Windsnelheid (km/h)','Luchtdruk (ps)']]\n",
    "df['y']=df['Windsnelheid (km/h)']\n",
    "df['x']=df['Luchtdruk (ps)']\n",
    "df.drop(columns=['Windsnelheid (km/h)','Luchtdruk (ps)'], inplace=True)\n",
    "df"
   ]
  },
  {
   "cell_type": "code",
   "execution_count": 110,
   "metadata": {},
   "outputs": [
    {
     "data": {
      "text/html": [
       "<div>\n",
       "<style scoped>\n",
       "    .dataframe tbody tr th:only-of-type {\n",
       "        vertical-align: middle;\n",
       "    }\n",
       "\n",
       "    .dataframe tbody tr th {\n",
       "        vertical-align: top;\n",
       "    }\n",
       "\n",
       "    .dataframe thead th {\n",
       "        text-align: right;\n",
       "    }\n",
       "</style>\n",
       "<table border=\"1\" class=\"dataframe\">\n",
       "  <thead>\n",
       "    <tr style=\"text-align: right;\">\n",
       "      <th></th>\n",
       "      <th>y</th>\n",
       "      <th>x</th>\n",
       "    </tr>\n",
       "  </thead>\n",
       "  <tbody>\n",
       "    <tr>\n",
       "      <th>394</th>\n",
       "      <td>1.79</td>\n",
       "      <td>1007.49</td>\n",
       "    </tr>\n",
       "    <tr>\n",
       "      <th>398</th>\n",
       "      <td>1.79</td>\n",
       "      <td>1007.49</td>\n",
       "    </tr>\n",
       "    <tr>\n",
       "      <th>497</th>\n",
       "      <td>1.79</td>\n",
       "      <td>1007.49</td>\n",
       "    </tr>\n",
       "    <tr>\n",
       "      <th>563</th>\n",
       "      <td>1.79</td>\n",
       "      <td>1007.49</td>\n",
       "    </tr>\n",
       "    <tr>\n",
       "      <th>570</th>\n",
       "      <td>1.79</td>\n",
       "      <td>1007.49</td>\n",
       "    </tr>\n",
       "    <tr>\n",
       "      <th>...</th>\n",
       "      <td>...</td>\n",
       "      <td>...</td>\n",
       "    </tr>\n",
       "    <tr>\n",
       "      <th>58269</th>\n",
       "      <td>4.76</td>\n",
       "      <td>1009.78</td>\n",
       "    </tr>\n",
       "    <tr>\n",
       "      <th>70456</th>\n",
       "      <td>4.76</td>\n",
       "      <td>1009.78</td>\n",
       "    </tr>\n",
       "    <tr>\n",
       "      <th>83212</th>\n",
       "      <td>4.76</td>\n",
       "      <td>1009.78</td>\n",
       "    </tr>\n",
       "    <tr>\n",
       "      <th>109078</th>\n",
       "      <td>4.76</td>\n",
       "      <td>1009.78</td>\n",
       "    </tr>\n",
       "    <tr>\n",
       "      <th>110129</th>\n",
       "      <td>4.76</td>\n",
       "      <td>1009.78</td>\n",
       "    </tr>\n",
       "  </tbody>\n",
       "</table>\n",
       "<p>176540 rows × 2 columns</p>\n",
       "</div>"
      ],
      "text/plain": [
       "           y        x\n",
       "394     1.79  1007.49\n",
       "398     1.79  1007.49\n",
       "497     1.79  1007.49\n",
       "563     1.79  1007.49\n",
       "570     1.79  1007.49\n",
       "...      ...      ...\n",
       "58269   4.76  1009.78\n",
       "70456   4.76  1009.78\n",
       "83212   4.76  1009.78\n",
       "109078  4.76  1009.78\n",
       "110129  4.76  1009.78\n",
       "\n",
       "[176540 rows x 2 columns]"
      ]
     },
     "execution_count": 110,
     "metadata": {},
     "output_type": "execute_result"
    }
   ],
   "source": [
    "df = df.replace(0, np.NaN)\n",
    "\n",
    "df= df.dropna()\n",
    "df"
   ]
  },
  {
   "cell_type": "code",
   "execution_count": 111,
   "metadata": {},
   "outputs": [
    {
     "data": {
      "text/html": [
       "<table class=\"simpletable\">\n",
       "<caption>OLS Regression Results</caption>\n",
       "<tr>\n",
       "  <th>Dep. Variable:</th>            <td>y</td>        <th>  R-squared:         </th>  <td>   0.134</td>  \n",
       "</tr>\n",
       "<tr>\n",
       "  <th>Model:</th>                   <td>OLS</td>       <th>  Adj. R-squared:    </th>  <td>   0.134</td>  \n",
       "</tr>\n",
       "<tr>\n",
       "  <th>Method:</th>             <td>Least Squares</td>  <th>  F-statistic:       </th>  <td>2.741e+04</td> \n",
       "</tr>\n",
       "<tr>\n",
       "  <th>Date:</th>             <td>Thu, 09 Nov 2023</td> <th>  Prob (F-statistic):</th>   <td>  0.00</td>   \n",
       "</tr>\n",
       "<tr>\n",
       "  <th>Time:</th>                 <td>18:04:48</td>     <th>  Log-Likelihood:    </th> <td>-4.0297e+05</td>\n",
       "</tr>\n",
       "<tr>\n",
       "  <th>No. Observations:</th>      <td>176540</td>      <th>  AIC:               </th>  <td>8.059e+05</td> \n",
       "</tr>\n",
       "<tr>\n",
       "  <th>Df Residuals:</th>          <td>176538</td>      <th>  BIC:               </th>  <td>8.060e+05</td> \n",
       "</tr>\n",
       "<tr>\n",
       "  <th>Df Model:</th>              <td>     1</td>      <th>                     </th>      <td> </td>     \n",
       "</tr>\n",
       "<tr>\n",
       "  <th>Covariance Type:</th>      <td>nonrobust</td>    <th>                     </th>      <td> </td>     \n",
       "</tr>\n",
       "</table>\n",
       "<table class=\"simpletable\">\n",
       "<tr>\n",
       "      <td></td>         <th>coef</th>     <th>std err</th>      <th>t</th>      <th>P>|t|</th>  <th>[0.025</th>    <th>0.975]</th>  \n",
       "</tr>\n",
       "<tr>\n",
       "  <th>Intercept</th> <td>   96.0141</td> <td>    0.551</td> <td>  174.245</td> <td> 0.000</td> <td>   94.934</td> <td>   97.094</td>\n",
       "</tr>\n",
       "<tr>\n",
       "  <th>x</th>         <td>   -0.0898</td> <td>    0.001</td> <td> -165.571</td> <td> 0.000</td> <td>   -0.091</td> <td>   -0.089</td>\n",
       "</tr>\n",
       "</table>\n",
       "<table class=\"simpletable\">\n",
       "<tr>\n",
       "  <th>Omnibus:</th>       <td>26165.555</td> <th>  Durbin-Watson:     </th> <td>   0.008</td> \n",
       "</tr>\n",
       "<tr>\n",
       "  <th>Prob(Omnibus):</th>  <td> 0.000</td>   <th>  Jarque-Bera (JB):  </th> <td>43081.756</td>\n",
       "</tr>\n",
       "<tr>\n",
       "  <th>Skew:</th>           <td> 1.008</td>   <th>  Prob(JB):          </th> <td>    0.00</td> \n",
       "</tr>\n",
       "<tr>\n",
       "  <th>Kurtosis:</th>       <td> 4.340</td>   <th>  Cond. No.          </th> <td>9.92e+04</td> \n",
       "</tr>\n",
       "</table><br/><br/>Notes:<br/>[1] Standard Errors assume that the covariance matrix of the errors is correctly specified.<br/>[2] The condition number is large, 9.92e+04. This might indicate that there are<br/>strong multicollinearity or other numerical problems."
      ],
      "text/latex": [
       "\\begin{center}\n",
       "\\begin{tabular}{lclc}\n",
       "\\toprule\n",
       "\\textbf{Dep. Variable:}    &        y         & \\textbf{  R-squared:         } &      0.134   \\\\\n",
       "\\textbf{Model:}            &       OLS        & \\textbf{  Adj. R-squared:    } &      0.134   \\\\\n",
       "\\textbf{Method:}           &  Least Squares   & \\textbf{  F-statistic:       } &  2.741e+04   \\\\\n",
       "\\textbf{Date:}             & Thu, 09 Nov 2023 & \\textbf{  Prob (F-statistic):} &      0.00    \\\\\n",
       "\\textbf{Time:}             &     18:04:48     & \\textbf{  Log-Likelihood:    } & -4.0297e+05  \\\\\n",
       "\\textbf{No. Observations:} &      176540      & \\textbf{  AIC:               } &  8.059e+05   \\\\\n",
       "\\textbf{Df Residuals:}     &      176538      & \\textbf{  BIC:               } &  8.060e+05   \\\\\n",
       "\\textbf{Df Model:}         &           1      & \\textbf{                     } &              \\\\\n",
       "\\textbf{Covariance Type:}  &    nonrobust     & \\textbf{                     } &              \\\\\n",
       "\\bottomrule\n",
       "\\end{tabular}\n",
       "\\begin{tabular}{lcccccc}\n",
       "                   & \\textbf{coef} & \\textbf{std err} & \\textbf{t} & \\textbf{P$> |$t$|$} & \\textbf{[0.025} & \\textbf{0.975]}  \\\\\n",
       "\\midrule\n",
       "\\textbf{Intercept} &      96.0141  &        0.551     &   174.245  &         0.000        &       94.934    &       97.094     \\\\\n",
       "\\textbf{x}         &      -0.0898  &        0.001     &  -165.571  &         0.000        &       -0.091    &       -0.089     \\\\\n",
       "\\bottomrule\n",
       "\\end{tabular}\n",
       "\\begin{tabular}{lclc}\n",
       "\\textbf{Omnibus:}       & 26165.555 & \\textbf{  Durbin-Watson:     } &     0.008  \\\\\n",
       "\\textbf{Prob(Omnibus):} &    0.000  & \\textbf{  Jarque-Bera (JB):  } & 43081.756  \\\\\n",
       "\\textbf{Skew:}          &    1.008  & \\textbf{  Prob(JB):          } &      0.00  \\\\\n",
       "\\textbf{Kurtosis:}      &    4.340  & \\textbf{  Cond. No.          } &  9.92e+04  \\\\\n",
       "\\bottomrule\n",
       "\\end{tabular}\n",
       "%\\caption{OLS Regression Results}\n",
       "\\end{center}\n",
       "\n",
       "Notes: \\newline\n",
       " [1] Standard Errors assume that the covariance matrix of the errors is correctly specified. \\newline\n",
       " [2] The condition number is large, 9.92e+04. This might indicate that there are \\newline\n",
       " strong multicollinearity or other numerical problems."
      ],
      "text/plain": [
       "<class 'statsmodels.iolib.summary.Summary'>\n",
       "\"\"\"\n",
       "                            OLS Regression Results                            \n",
       "==============================================================================\n",
       "Dep. Variable:                      y   R-squared:                       0.134\n",
       "Model:                            OLS   Adj. R-squared:                  0.134\n",
       "Method:                 Least Squares   F-statistic:                 2.741e+04\n",
       "Date:                Thu, 09 Nov 2023   Prob (F-statistic):               0.00\n",
       "Time:                        18:04:48   Log-Likelihood:            -4.0297e+05\n",
       "No. Observations:              176540   AIC:                         8.059e+05\n",
       "Df Residuals:                  176538   BIC:                         8.060e+05\n",
       "Df Model:                           1                                         \n",
       "Covariance Type:            nonrobust                                         \n",
       "==============================================================================\n",
       "                 coef    std err          t      P>|t|      [0.025      0.975]\n",
       "------------------------------------------------------------------------------\n",
       "Intercept     96.0141      0.551    174.245      0.000      94.934      97.094\n",
       "x             -0.0898      0.001   -165.571      0.000      -0.091      -0.089\n",
       "==============================================================================\n",
       "Omnibus:                    26165.555   Durbin-Watson:                   0.008\n",
       "Prob(Omnibus):                  0.000   Jarque-Bera (JB):            43081.756\n",
       "Skew:                           1.008   Prob(JB):                         0.00\n",
       "Kurtosis:                       4.340   Cond. No.                     9.92e+04\n",
       "==============================================================================\n",
       "\n",
       "Notes:\n",
       "[1] Standard Errors assume that the covariance matrix of the errors is correctly specified.\n",
       "[2] The condition number is large, 9.92e+04. This might indicate that there are\n",
       "strong multicollinearity or other numerical problems.\n",
       "\"\"\""
      ]
     },
     "execution_count": 111,
     "metadata": {},
     "output_type": "execute_result"
    }
   ],
   "source": [
    "model = smf.ols(formula= 'y~x', data=df).fit()\n",
    "model.summary()"
   ]
  },
  {
   "cell_type": "code",
   "execution_count": 112,
   "metadata": {},
   "outputs": [
    {
     "data": {
      "image/png": "[encoded data removed]",
      "text/plain": [
       "<Figure size 640x480 with 1 Axes>"
      ]
     },
     "metadata": {},
     "output_type": "display_data"
    }
   ],
   "source": [
    "ax = sns.scatterplot(x=df.x, y=df.y)\n",
    "sm.graphics.abline_plot(model_results=model, ax=ax)\n",
    "plt.show()"
   ]
  },
  {
   "cell_type": "code",
   "execution_count": 115,
   "metadata": {},
   "outputs": [
    {
     "name": "stderr",
     "output_type": "stream",
     "text": [
      "C:\\Users\\tjibb\\AppData\\Local\\Temp\\ipykernel_15680\\3002726659.py:2: SettingWithCopyWarning:\n",
      "\n",
      "\n",
      "A value is trying to be set on a copy of a slice from a DataFrame.\n",
      "Try using .loc[row_indexer,col_indexer] = value instead\n",
      "\n",
      "See the caveats in the documentation: https://pandas.pydata.org/pandas-docs/stable/user_guide/indexing.html#returning-a-view-versus-a-copy\n",
      "\n",
      "C:\\Users\\tjibb\\AppData\\Local\\Temp\\ipykernel_15680\\3002726659.py:3: SettingWithCopyWarning:\n",
      "\n",
      "\n",
      "A value is trying to be set on a copy of a slice from a DataFrame.\n",
      "Try using .loc[row_indexer,col_indexer] = value instead\n",
      "\n",
      "See the caveats in the documentation: https://pandas.pydata.org/pandas-docs/stable/user_guide/indexing.html#returning-a-view-versus-a-copy\n",
      "\n",
      "C:\\Users\\tjibb\\AppData\\Local\\Temp\\ipykernel_15680\\3002726659.py:4: SettingWithCopyWarning:\n",
      "\n",
      "\n",
      "A value is trying to be set on a copy of a slice from a DataFrame\n",
      "\n",
      "See the caveats in the documentation: https://pandas.pydata.org/pandas-docs/stable/user_guide/indexing.html#returning-a-view-versus-a-copy\n",
      "\n"
     ]
    },
    {
     "data": {
      "text/html": [
       "<table class=\"simpletable\">\n",
       "<caption>OLS Regression Results</caption>\n",
       "<tr>\n",
       "  <th>Dep. Variable:</th>            <td>y</td>        <th>  R-squared:         </th>  <td>   0.544</td>  \n",
       "</tr>\n",
       "<tr>\n",
       "  <th>Model:</th>                   <td>OLS</td>       <th>  Adj. R-squared:    </th>  <td>   0.544</td>  \n",
       "</tr>\n",
       "<tr>\n",
       "  <th>Method:</th>             <td>Least Squares</td>  <th>  F-statistic:       </th>  <td>1.903e+06</td> \n",
       "</tr>\n",
       "<tr>\n",
       "  <th>Date:</th>             <td>Thu, 09 Nov 2023</td> <th>  Prob (F-statistic):</th>   <td>  0.00</td>   \n",
       "</tr>\n",
       "<tr>\n",
       "  <th>Time:</th>                 <td>18:09:49</td>     <th>  Log-Likelihood:    </th> <td>-3.3440e+06</td>\n",
       "</tr>\n",
       "<tr>\n",
       "  <th>No. Observations:</th>      <td>1593955</td>     <th>  AIC:               </th>  <td>6.688e+06</td> \n",
       "</tr>\n",
       "<tr>\n",
       "  <th>Df Residuals:</th>          <td>1593953</td>     <th>  BIC:               </th>  <td>6.688e+06</td> \n",
       "</tr>\n",
       "<tr>\n",
       "  <th>Df Model:</th>              <td>     1</td>      <th>                     </th>      <td> </td>     \n",
       "</tr>\n",
       "<tr>\n",
       "  <th>Covariance Type:</th>      <td>nonrobust</td>    <th>                     </th>      <td> </td>     \n",
       "</tr>\n",
       "</table>\n",
       "<table class=\"simpletable\">\n",
       "<tr>\n",
       "      <td></td>         <th>coef</th>     <th>std err</th>      <th>t</th>      <th>P>|t|</th>  <th>[0.025</th>    <th>0.975]</th>  \n",
       "</tr>\n",
       "<tr>\n",
       "  <th>Intercept</th> <td>    0.4351</td> <td>    0.002</td> <td>  234.047</td> <td> 0.000</td> <td>    0.431</td> <td>    0.439</td>\n",
       "</tr>\n",
       "<tr>\n",
       "  <th>x</th>         <td>    0.0199</td> <td> 1.44e-05</td> <td> 1379.558</td> <td> 0.000</td> <td>    0.020</td> <td>    0.020</td>\n",
       "</tr>\n",
       "</table>\n",
       "<table class=\"simpletable\">\n",
       "<tr>\n",
       "  <th>Omnibus:</th>       <td>714149.276</td> <th>  Durbin-Watson:     </th>  <td>   0.006</td>  \n",
       "</tr>\n",
       "<tr>\n",
       "  <th>Prob(Omnibus):</th>   <td> 0.000</td>   <th>  Jarque-Bera (JB):  </th> <td>4920307.823</td>\n",
       "</tr>\n",
       "<tr>\n",
       "  <th>Skew:</th>            <td> 2.040</td>   <th>  Prob(JB):          </th>  <td>    0.00</td>  \n",
       "</tr>\n",
       "<tr>\n",
       "  <th>Kurtosis:</th>        <td>10.579</td>   <th>  Cond. No.          </th>  <td>    154.</td>  \n",
       "</tr>\n",
       "</table><br/><br/>Notes:<br/>[1] Standard Errors assume that the covariance matrix of the errors is correctly specified."
      ],
      "text/latex": [
       "\\begin{center}\n",
       "\\begin{tabular}{lclc}\n",
       "\\toprule\n",
       "\\textbf{Dep. Variable:}    &        y         & \\textbf{  R-squared:         } &      0.544   \\\\\n",
       "\\textbf{Model:}            &       OLS        & \\textbf{  Adj. R-squared:    } &      0.544   \\\\\n",
       "\\textbf{Method:}           &  Least Squares   & \\textbf{  F-statistic:       } &  1.903e+06   \\\\\n",
       "\\textbf{Date:}             & Thu, 09 Nov 2023 & \\textbf{  Prob (F-statistic):} &      0.00    \\\\\n",
       "\\textbf{Time:}             &     18:09:49     & \\textbf{  Log-Likelihood:    } & -3.3440e+06  \\\\\n",
       "\\textbf{No. Observations:} &     1593955      & \\textbf{  AIC:               } &  6.688e+06   \\\\\n",
       "\\textbf{Df Residuals:}     &     1593953      & \\textbf{  BIC:               } &  6.688e+06   \\\\\n",
       "\\textbf{Df Model:}         &           1      & \\textbf{                     } &              \\\\\n",
       "\\textbf{Covariance Type:}  &    nonrobust     & \\textbf{                     } &              \\\\\n",
       "\\bottomrule\n",
       "\\end{tabular}\n",
       "\\begin{tabular}{lcccccc}\n",
       "                   & \\textbf{coef} & \\textbf{std err} & \\textbf{t} & \\textbf{P$> |$t$|$} & \\textbf{[0.025} & \\textbf{0.975]}  \\\\\n",
       "\\midrule\n",
       "\\textbf{Intercept} &       0.4351  &        0.002     &   234.047  &         0.000        &        0.431    &        0.439     \\\\\n",
       "\\textbf{x}         &       0.0199  &     1.44e-05     &  1379.558  &         0.000        &        0.020    &        0.020     \\\\\n",
       "\\bottomrule\n",
       "\\end{tabular}\n",
       "\\begin{tabular}{lclc}\n",
       "\\textbf{Omnibus:}       & 714149.276 & \\textbf{  Durbin-Watson:     } &      0.006   \\\\\n",
       "\\textbf{Prob(Omnibus):} &    0.000   & \\textbf{  Jarque-Bera (JB):  } & 4920307.823  \\\\\n",
       "\\textbf{Skew:}          &    2.040   & \\textbf{  Prob(JB):          } &       0.00   \\\\\n",
       "\\textbf{Kurtosis:}      &   10.579   & \\textbf{  Cond. No.          } &       154.   \\\\\n",
       "\\bottomrule\n",
       "\\end{tabular}\n",
       "%\\caption{OLS Regression Results}\n",
       "\\end{center}\n",
       "\n",
       "Notes: \\newline\n",
       " [1] Standard Errors assume that the covariance matrix of the errors is correctly specified."
      ],
      "text/plain": [
       "<class 'statsmodels.iolib.summary.Summary'>\n",
       "\"\"\"\n",
       "                            OLS Regression Results                            \n",
       "==============================================================================\n",
       "Dep. Variable:                      y   R-squared:                       0.544\n",
       "Model:                            OLS   Adj. R-squared:                  0.544\n",
       "Method:                 Least Squares   F-statistic:                 1.903e+06\n",
       "Date:                Thu, 09 Nov 2023   Prob (F-statistic):               0.00\n",
       "Time:                        18:09:49   Log-Likelihood:            -3.3440e+06\n",
       "No. Observations:             1593955   AIC:                         6.688e+06\n",
       "Df Residuals:                 1593953   BIC:                         6.688e+06\n",
       "Df Model:                           1                                         \n",
       "Covariance Type:            nonrobust                                         \n",
       "==============================================================================\n",
       "                 coef    std err          t      P>|t|      [0.025      0.975]\n",
       "------------------------------------------------------------------------------\n",
       "Intercept      0.4351      0.002    234.047      0.000       0.431       0.439\n",
       "x              0.0199   1.44e-05   1379.558      0.000       0.020       0.020\n",
       "==============================================================================\n",
       "Omnibus:                   714149.276   Durbin-Watson:                   0.006\n",
       "Prob(Omnibus):                  0.000   Jarque-Bera (JB):          4920307.823\n",
       "Skew:                           2.040   Prob(JB):                         0.00\n",
       "Kurtosis:                      10.579   Cond. No.                         154.\n",
       "==============================================================================\n",
       "\n",
       "Notes:\n",
       "[1] Standard Errors assume that the covariance matrix of the errors is correctly specified.\n",
       "\"\"\""
      ]
     },
     "execution_count": 115,
     "metadata": {},
     "output_type": "execute_result"
    }
   ],
   "source": [
    "df=numerical_columns[['Windsnelheid (km/h)','Windrichting (Graden)']]\n",
    "df['y']=df['Windsnelheid (km/h)']\n",
    "df['x']=df['Windrichting (Graden)']\n",
    "df.drop(columns=['Windsnelheid (km/h)','Windrichting (Graden)'], inplace=True)\n",
    "\n",
    "model = smf.ols(formula= 'y~x', data=df).fit()\n",
    "model.summary()\n",
    "\n"
   ]
  },
  {
   "cell_type": "code",
   "execution_count": 117,
   "metadata": {},
   "outputs": [
    {
     "data": {
      "text/plain": [
       "0    19.713101\n",
       "1    19.911843\n",
       "2    21.303041\n",
       "3    21.501783\n",
       "dtype: float64"
      ]
     },
     "execution_count": 117,
     "metadata": {},
     "output_type": "execute_result"
    }
   ],
   "source": [
    "model.predict(pd.DataFrame({'x': [970,980,1050,1060]}))"
   ]
  },
  {
   "cell_type": "code",
   "execution_count": 116,
   "metadata": {},
   "outputs": [
    {
     "data": {
      "image/png": "[encoded data removed]",
      "text/plain": [
       "<Figure size 640x480 with 1 Axes>"
      ]
     },
     "metadata": {},
     "output_type": "display_data"
    }
   ],
   "source": [
    "ax = sns.scatterplot(x=df.x, y=df.y)\n",
    "sm.graphics.abline_plot(model_results=model, ax=ax)\n",
    "plt.show()"
   ]
  },
  {
   "cell_type": "code",
   "execution_count": null,
   "metadata": {},
   "outputs": [],
   "source": []
  }
 ],
 "metadata": {
  "kernelspec": {
   "display_name": "base",
   "language": "python",
   "name": "python3"
  },
  "language_info": {
   "codemirror_mode": {
    "name": "ipython",
    "version": 3
   },
   "file_extension": ".py",
   "mimetype": "text/x-python",
   "name": "python",
   "nbconvert_exporter": "python",
   "pygments_lexer": "ipython3",
   "version": "3.11.4"
  }
 },
 "nbformat": 4,
 "nbformat_minor": 2
}
