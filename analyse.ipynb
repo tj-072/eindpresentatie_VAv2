{
 "cells": [
  {
   "cell_type": "code",
   "execution_count": 1,
   "metadata": {},
   "outputs": [],
   "source": [
    "import pandas as pd\n",
    "import geopandas as gpd\n",
    "import numpy as np\n",
    "import plotly.express as px\n",
    "import matplotlib.pyplot as plt\n",
    "from pyproj import Transformer\n",
    "import requests\n",
    "import plotly.graph_objects as go\n",
    "import statsmodels.api as sm \n",
    "import statsmodels.formula.api as smf \n",
    "import seaborn as sns\n"
   ]
  },
  {
   "cell_type": "code",
   "execution_count": 2,
   "metadata": {},
   "outputs": [
    {
     "name": "stderr",
     "output_type": "stream",
     "text": [
      "C:\\Users\\tjibb\\AppData\\Local\\Temp\\ipykernel_22208\\2897929023.py:14: DtypeWarning: Columns (1,24,39) have mixed types. Specify dtype option on import or set low_memory=False.\n",
      "  ongevallen = pd.read_csv(r\"C:\\Users\\tjibb\\Documents\\school\\jaar_3\\minor\\eind_prestentatie\\verkeer\\PGS0112-o-CSV-bestand-J-1-N-N-N\\Ongevallengegevens\\ongevallen.txt\", encoding=\"ISO-8859-15\")\n"
     ]
    }
   ],
   "source": [
    "weer_api = pd.read_csv(r\"C:\\Users\\tjibb\\Documents\\school\\jaar_3\\minor\\eind_prestentatie\\apidata_2021.csv\")\n",
    "weer= pd.read_csv(r\"C:\\Users\\tjibb\\Documents\\school\\jaar_3\\minor\\eind_prestentatie\\weerstations_noordholland_v.2.csv\", sep= \";\")\n",
    "weer = gpd.GeoDataFrame(weer, geometry=gpd.GeoSeries.from_wkt(weer['WKT']))\n",
    "weer['STN']=weer['STN_y']\n",
    "weer.drop(columns=['WKT', 'STN_x', 'STN_y'], inplace=True)\n",
    "hectointervallen = pd.read_csv(r\"C:\\Users\\tjibb\\Documents\\school\\jaar_3\\minor\\eind_prestentatie\\verkeer\\PGS0112-o-CSV-bestand-J-1-N-N-N\\Netwerkgegevens\\hectointervallen.txt\") \n",
    "hectointervallen = hectointervallen[hectointervallen.nunique()[hectointervallen.nunique() != 1].index]\n",
    "hectopunten = pd.read_csv(r\"C:\\Users\\tjibb\\Documents\\school\\jaar_3\\minor\\eind_prestentatie\\verkeer\\PGS0112-o-CSV-bestand-J-1-N-N-N\\Netwerkgegevens\\hectopunten.txt\") \n",
    "hectopunten = hectopunten[hectopunten.nunique()[hectopunten.nunique() != 1].index]\n",
    "juncties = pd.read_csv(r\"C:\\Users\\tjibb\\Documents\\school\\jaar_3\\minor\\eind_prestentatie\\verkeer\\PGS0112-o-CSV-bestand-J-1-N-N-N\\Netwerkgegevens\\juncties.txt\") \n",
    "juncties = juncties[juncties.nunique()[juncties.nunique() != 1].index]\n",
    "puntlocaties = pd.read_csv(r\"C:\\Users\\tjibb\\Documents\\school\\jaar_3\\minor\\eind_prestentatie\\verkeer\\PGS0112-o-CSV-bestand-J-1-N-N-N\\Netwerkgegevens\\puntlocaties.txt\") \n",
    "puntlocaties = puntlocaties[puntlocaties.nunique()[puntlocaties.nunique() != 1].index]\n",
    "ongevallen = pd.read_csv(r\"C:\\Users\\tjibb\\Documents\\school\\jaar_3\\minor\\eind_prestentatie\\verkeer\\PGS0112-o-CSV-bestand-J-1-N-N-N\\Ongevallengegevens\\ongevallen.txt\", encoding=\"ISO-8859-15\")\n",
    "ongevallen = ongevallen[ongevallen.nunique()[ongevallen.nunique() != 1].index]\n",
    "ongevallen.drop(columns=['PVOPGEM', 'WVL_ID','WVG_ID', 'WVG_AN', 'WDK_ID', 'WDK_AN',\n",
    "                         'LGD_ID', 'BZD_ID_VM1','BZD_ID_VM2', 'BZD_ID_VM3', 'BZD_VM_AN', 'BZD_ID_IF1', 'BZD_ID_IF2',\n",
    "                         'BZD_ID_IF3', 'BZD_IF_AN', 'BZD_ID_TA1', 'BZD_ID_TA2', 'BZD_ID_TA3', 'HUISNUMMER'], inplace=True)\n"
   ]
  },
  {
   "cell_type": "code",
   "execution_count": 3,
   "metadata": {},
   "outputs": [
    {
     "name": "stderr",
     "output_type": "stream",
     "text": [
      "C:\\Users\\tjibb\\AppData\\Local\\Temp\\ipykernel_22208\\3343418178.py:16: SettingWithCopyWarning: \n",
      "A value is trying to be set on a copy of a slice from a DataFrame.\n",
      "Try using .loc[row_indexer,col_indexer] = value instead\n",
      "\n",
      "See the caveats in the documentation: https://pandas.pydata.org/pandas-docs/stable/user_guide/indexing.html#returning-a-view-versus-a-copy\n",
      "  df2['X']=df2['X_COORD_x']\n",
      "C:\\Users\\tjibb\\AppData\\Local\\Temp\\ipykernel_22208\\3343418178.py:17: SettingWithCopyWarning: \n",
      "A value is trying to be set on a copy of a slice from a DataFrame.\n",
      "Try using .loc[row_indexer,col_indexer] = value instead\n",
      "\n",
      "See the caveats in the documentation: https://pandas.pydata.org/pandas-docs/stable/user_guide/indexing.html#returning-a-view-versus-a-copy\n",
      "  df2['Y']=df2['Y_COORD_x']\n",
      "C:\\Users\\tjibb\\AppData\\Local\\Temp\\ipykernel_22208\\3343418178.py:18: SettingWithCopyWarning: \n",
      "A value is trying to be set on a copy of a slice from a DataFrame\n",
      "\n",
      "See the caveats in the documentation: https://pandas.pydata.org/pandas-docs/stable/user_guide/indexing.html#returning-a-view-versus-a-copy\n",
      "  df2.drop(columns=['X_COORD_x', 'Y_COORD_x'], inplace=True)\n"
     ]
    }
   ],
   "source": [
    "samengevoegd_df = ongevallen.merge(juncties, on='JTE_ID', how='left')\n",
    "samengevoegd_df['FK_VELD5']=samengevoegd_df['FK_VELD5_y']\n",
    "samengevoegd_df = samengevoegd_df.merge(puntlocaties, on='FK_VELD5', how='left')\n",
    "samengevoegd_df = samengevoegd_df.merge(puntlocaties, on='FK_VELD5', how='left')\n",
    "df= samengevoegd_df\n",
    "samengevoegd_df = df[df.nunique()[df.nunique() != 1].index]\n",
    "samengevoegd_df.drop(columns=['AP4_CODE', 'AP5_CODE', 'FK_VELD5_y', 'X_COORD_y', 'Y_COORD_y', \n",
    "                              'ANTL_SLA', 'ANTL_DOD', 'ANTL_GZH', 'DATUM_VKL', 'DAG_CODE', 'MND_NUMMER',\n",
    "                              'TIJDSTIP', 'UUR', 'DDL_ID', 'DAGTYPE', 'WEEKNR',\n",
    "                              'ANTL_SEH','ANTL_GOV','ANTL_TDT', 'MNE_CODE', 'ZAD_ID', 'WGD_CODE_2',\n",
    "                              'IND_ALC'], inplace=True)\n",
    "\n",
    "df= samengevoegd_df\n",
    "# df.columns\n",
    "df2=df[['X_COORD_x', 'Y_COORD_x', 'VKL_NUMMER', 'AP3_CODE', 'ANTL_PTJ', 'AOL_ID', 'BEBKOM', 'WGD_CODE_1']]\n",
    "df2['X']=df2['X_COORD_x']\n",
    "df2['Y']=df2['Y_COORD_x']\n",
    "df2.drop(columns=['X_COORD_x', 'Y_COORD_x'], inplace=True)"
   ]
  },
  {
   "cell_type": "code",
   "execution_count": 4,
   "metadata": {},
   "outputs": [
    {
     "name": "stderr",
     "output_type": "stream",
     "text": [
      "C:\\Users\\tjibb\\AppData\\Local\\Temp\\ipykernel_22208\\3967659008.py:4: SettingWithCopyWarning: \n",
      "A value is trying to be set on a copy of a slice from a DataFrame.\n",
      "Try using .loc[row_indexer,col_indexer] = value instead\n",
      "\n",
      "See the caveats in the documentation: https://pandas.pydata.org/pandas-docs/stable/user_guide/indexing.html#returning-a-view-versus-a-copy\n",
      "  df2[\"X\"] = xx\n",
      "C:\\Users\\tjibb\\AppData\\Local\\Temp\\ipykernel_22208\\3967659008.py:5: SettingWithCopyWarning: \n",
      "A value is trying to be set on a copy of a slice from a DataFrame.\n",
      "Try using .loc[row_indexer,col_indexer] = value instead\n",
      "\n",
      "See the caveats in the documentation: https://pandas.pydata.org/pandas-docs/stable/user_guide/indexing.html#returning-a-view-versus-a-copy\n",
      "  df2[\"Y\"] = yy\n",
      "C:\\Users\\tjibb\\AppData\\Local\\Temp\\ipykernel_22208\\3967659008.py:6: SettingWithCopyWarning: \n",
      "A value is trying to be set on a copy of a slice from a DataFrame.\n",
      "Try using .loc[row_indexer,col_indexer] = value instead\n",
      "\n",
      "See the caveats in the documentation: https://pandas.pydata.org/pandas-docs/stable/user_guide/indexing.html#returning-a-view-versus-a-copy\n",
      "  df2[\"X\"] = (df2[\"X\"]/64000)+3\n",
      "C:\\Users\\tjibb\\AppData\\Local\\Temp\\ipykernel_22208\\3967659008.py:7: SettingWithCopyWarning: \n",
      "A value is trying to be set on a copy of a slice from a DataFrame.\n",
      "Try using .loc[row_indexer,col_indexer] = value instead\n",
      "\n",
      "See the caveats in the documentation: https://pandas.pydata.org/pandas-docs/stable/user_guide/indexing.html#returning-a-view-versus-a-copy\n",
      "  df2[\"Y\"] = (df2[\"Y\"]/110000)+48\n"
     ]
    },
    {
     "data": {
      "text/html": [
       "<div>\n",
       "<style scoped>\n",
       "    .dataframe tbody tr th:only-of-type {\n",
       "        vertical-align: middle;\n",
       "    }\n",
       "\n",
       "    .dataframe tbody tr th {\n",
       "        vertical-align: top;\n",
       "    }\n",
       "\n",
       "    .dataframe thead th {\n",
       "        text-align: right;\n",
       "    }\n",
       "</style>\n",
       "<table border=\"1\" class=\"dataframe\">\n",
       "  <thead>\n",
       "    <tr style=\"text-align: right;\">\n",
       "      <th></th>\n",
       "      <th>X</th>\n",
       "      <th>Y</th>\n",
       "      <th>VKL_NUMMER</th>\n",
       "      <th>AP3_CODE</th>\n",
       "      <th>ANTL_PTJ</th>\n",
       "      <th>AOL_ID</th>\n",
       "      <th>BEBKOM</th>\n",
       "      <th>WGD_CODE_1</th>\n",
       "      <th>geometry</th>\n",
       "    </tr>\n",
       "  </thead>\n",
       "  <tbody>\n",
       "    <tr>\n",
       "      <th>8</th>\n",
       "      <td>5.698422</td>\n",
       "      <td>51.700464</td>\n",
       "      <td>20210000435</td>\n",
       "      <td>DOD</td>\n",
       "      <td>2</td>\n",
       "      <td>7</td>\n",
       "      <td>BI</td>\n",
       "      <td>D</td>\n",
       "      <td>POINT (5.69842 51.70046)</td>\n",
       "    </tr>\n",
       "    <tr>\n",
       "      <th>16</th>\n",
       "      <td>5.440999</td>\n",
       "      <td>51.761055</td>\n",
       "      <td>20210000567</td>\n",
       "      <td>DOD</td>\n",
       "      <td>2</td>\n",
       "      <td>7</td>\n",
       "      <td>BU</td>\n",
       "      <td>D</td>\n",
       "      <td>POINT (5.44100 51.76105)</td>\n",
       "    </tr>\n",
       "    <tr>\n",
       "      <th>17</th>\n",
       "      <td>6.486673</td>\n",
       "      <td>52.904554</td>\n",
       "      <td>20210000568</td>\n",
       "      <td>DOD</td>\n",
       "      <td>2</td>\n",
       "      <td>7</td>\n",
       "      <td>BU</td>\n",
       "      <td>D</td>\n",
       "      <td>POINT (6.48667 52.90455)</td>\n",
       "    </tr>\n",
       "    <tr>\n",
       "      <th>25</th>\n",
       "      <td>4.427013</td>\n",
       "      <td>51.588056</td>\n",
       "      <td>20210072804</td>\n",
       "      <td>UMS</td>\n",
       "      <td>2</td>\n",
       "      <td>7</td>\n",
       "      <td>BI</td>\n",
       "      <td>D</td>\n",
       "      <td>POINT (4.42701 51.58806)</td>\n",
       "    </tr>\n",
       "    <tr>\n",
       "      <th>29</th>\n",
       "      <td>6.990462</td>\n",
       "      <td>53.006926</td>\n",
       "      <td>20210074980</td>\n",
       "      <td>UMS</td>\n",
       "      <td>2</td>\n",
       "      <td>7</td>\n",
       "      <td>BI</td>\n",
       "      <td>D</td>\n",
       "      <td>POINT (6.99046 53.00693)</td>\n",
       "    </tr>\n",
       "    <tr>\n",
       "      <th>...</th>\n",
       "      <td>...</td>\n",
       "      <td>...</td>\n",
       "      <td>...</td>\n",
       "      <td>...</td>\n",
       "      <td>...</td>\n",
       "      <td>...</td>\n",
       "      <td>...</td>\n",
       "      <td>...</td>\n",
       "      <td>...</td>\n",
       "    </tr>\n",
       "    <tr>\n",
       "      <th>113144</th>\n",
       "      <td>5.783843</td>\n",
       "      <td>51.445289</td>\n",
       "      <td>20210027300</td>\n",
       "      <td>UMS</td>\n",
       "      <td>3</td>\n",
       "      <td>7</td>\n",
       "      <td>BU</td>\n",
       "      <td>D</td>\n",
       "      <td>POINT (5.78384 51.44529)</td>\n",
       "    </tr>\n",
       "    <tr>\n",
       "      <th>113147</th>\n",
       "      <td>6.821636</td>\n",
       "      <td>53.241292</td>\n",
       "      <td>20210027330</td>\n",
       "      <td>UMS</td>\n",
       "      <td>2</td>\n",
       "      <td>0</td>\n",
       "      <td>BI</td>\n",
       "      <td>D</td>\n",
       "      <td>POINT (6.82164 53.24129)</td>\n",
       "    </tr>\n",
       "    <tr>\n",
       "      <th>113150</th>\n",
       "      <td>4.806394</td>\n",
       "      <td>52.453405</td>\n",
       "      <td>20210027591</td>\n",
       "      <td>UMS</td>\n",
       "      <td>3</td>\n",
       "      <td>9</td>\n",
       "      <td>BI</td>\n",
       "      <td>D</td>\n",
       "      <td>POINT (4.80639 52.45340)</td>\n",
       "    </tr>\n",
       "    <tr>\n",
       "      <th>113151</th>\n",
       "      <td>4.558489</td>\n",
       "      <td>52.098595</td>\n",
       "      <td>20210027600</td>\n",
       "      <td>UMS</td>\n",
       "      <td>3</td>\n",
       "      <td>7</td>\n",
       "      <td>BI</td>\n",
       "      <td>D</td>\n",
       "      <td>POINT (4.55849 52.09860)</td>\n",
       "    </tr>\n",
       "    <tr>\n",
       "      <th>113152</th>\n",
       "      <td>4.590681</td>\n",
       "      <td>52.007347</td>\n",
       "      <td>20210027602</td>\n",
       "      <td>UMS</td>\n",
       "      <td>4</td>\n",
       "      <td>0</td>\n",
       "      <td>BU</td>\n",
       "      <td>D</td>\n",
       "      <td>POINT (4.59068 52.00735)</td>\n",
       "    </tr>\n",
       "  </tbody>\n",
       "</table>\n",
       "<p>26617 rows × 9 columns</p>\n",
       "</div>"
      ],
      "text/plain": [
       "               X          Y   VKL_NUMMER AP3_CODE  ANTL_PTJ  AOL_ID BEBKOM  \\\n",
       "8       5.698422  51.700464  20210000435      DOD         2       7     BI   \n",
       "16      5.440999  51.761055  20210000567      DOD         2       7     BU   \n",
       "17      6.486673  52.904554  20210000568      DOD         2       7     BU   \n",
       "25      4.427013  51.588056  20210072804      UMS         2       7     BI   \n",
       "29      6.990462  53.006926  20210074980      UMS         2       7     BI   \n",
       "...          ...        ...          ...      ...       ...     ...    ...   \n",
       "113144  5.783843  51.445289  20210027300      UMS         3       7     BU   \n",
       "113147  6.821636  53.241292  20210027330      UMS         2       0     BI   \n",
       "113150  4.806394  52.453405  20210027591      UMS         3       9     BI   \n",
       "113151  4.558489  52.098595  20210027600      UMS         3       7     BI   \n",
       "113152  4.590681  52.007347  20210027602      UMS         4       0     BU   \n",
       "\n",
       "       WGD_CODE_1                  geometry  \n",
       "8               D  POINT (5.69842 51.70046)  \n",
       "16              D  POINT (5.44100 51.76105)  \n",
       "17              D  POINT (6.48667 52.90455)  \n",
       "25              D  POINT (4.42701 51.58806)  \n",
       "29              D  POINT (6.99046 53.00693)  \n",
       "...           ...                       ...  \n",
       "113144          D  POINT (5.78384 51.44529)  \n",
       "113147          D  POINT (6.82164 53.24129)  \n",
       "113150          D  POINT (4.80639 52.45340)  \n",
       "113151          D  POINT (4.55849 52.09860)  \n",
       "113152          D  POINT (4.59068 52.00735)  \n",
       "\n",
       "[26617 rows x 9 columns]"
      ]
     },
     "execution_count": 4,
     "metadata": {},
     "output_type": "execute_result"
    }
   ],
   "source": [
    "trans = Transformer.from_crs(\"ETRS89\", \"EPSG:4326\", always_xy=True)\n",
    "xx, yy = trans.transform(df2[\"X\"].values, df2[\"Y\"].values)\n",
    "\n",
    "df2[\"X\"] = xx\n",
    "df2[\"Y\"] = yy\n",
    "df2[\"X\"] = (df2[\"X\"]/64000)+3\n",
    "df2[\"Y\"] = (df2[\"Y\"]/110000)+48\n",
    "# df2.drop(columns=['X_COORD_x', 'Y_COORD_x'], inplace=True)\n",
    "\n",
    "df2=df2[['X', 'Y', 'VKL_NUMMER', 'AP3_CODE', 'ANTL_PTJ', 'AOL_ID', 'BEBKOM', 'WGD_CODE_1']]\n",
    "df2.dropna()\n",
    "gdf = gpd.GeoDataFrame(\n",
    "    df2, geometry=gpd.points_from_xy(df2.X, df2.Y))\n",
    "gdf.dropna()"
   ]
  },
  {
   "cell_type": "code",
   "execution_count": 5,
   "metadata": {},
   "outputs": [],
   "source": [
    "weer = pd.merge(weer, weer_api, on='station_id')\n",
    "weer.drop(columns=['fid', 'Unnamed: 0', 'NAME'], inplace=True)\n"
   ]
  },
  {
   "cell_type": "code",
   "execution_count": 6,
   "metadata": {},
   "outputs": [],
   "source": [
    "\n",
    "weer['datetime'] = pd.to_datetime(weer['datetime'], format='%Y-%m-%d %H:%M:%S')\n",
    "\n",
    "weer['maand'] = weer['datetime'].dt.month\n",
    "weer['dag'] = weer['datetime'].dt.day\n"
   ]
  },
  {
   "cell_type": "code",
   "execution_count": 7,
   "metadata": {},
   "outputs": [],
   "source": [
    "weer['m/d/STN'] =weer['maand'].astype(str) + '/' + weer['dag'].astype(str)+ '/' + weer['STN'].astype(str)\n"
   ]
  },
  {
   "cell_type": "code",
   "execution_count": 8,
   "metadata": {},
   "outputs": [
    {
     "name": "stderr",
     "output_type": "stream",
     "text": [
      "C:\\Users\\tjibb\\AppData\\Local\\Temp\\ipykernel_22208\\216662622.py:1: FutureWarning: Indexing with multiple keys (implicitly converted to a tuple of keys) will be deprecated, use a list instead.\n",
      "  weer2=weer.groupby('m/d/STN')[\"Windsnelheid (km/h)\", 'Windrichting (Graden)', 'Luchtdruk (ps)', 'Zichtbaarheid (Decimeter ver kunnen kijken)',\n"
     ]
    }
   ],
   "source": [
    "weer2=weer.groupby('m/d/STN')[\"Windsnelheid (km/h)\", 'Windrichting (Graden)', 'Luchtdruk (ps)', 'Zichtbaarheid (Decimeter ver kunnen kijken)', \n",
    "                         'Regenval (mm/h)','Temperatuur (C)', 'Weercode', 'STN'].median()"
   ]
  },
  {
   "cell_type": "code",
   "execution_count": 9,
   "metadata": {},
   "outputs": [],
   "source": [
    "weer3 = weer[['STN', 'geometry']]\n",
    "\n",
    "weer3 = weer3.drop_duplicates()\n",
    "\n",
    "weer4 = pd.merge(weer2, weer3, on='STN')\n",
    "\n",
    "weer_omtemergen= weer4\n",
    "\n",
    "gdf = gdf.dropna()\n",
    "\n",
    "weer_omtemergen = gpd.GeoDataFrame(weer_omtemergen, geometry=(weer_omtemergen['geometry']))"
   ]
  },
  {
   "cell_type": "code",
   "execution_count": 10,
   "metadata": {},
   "outputs": [],
   "source": [
    "merged_gdf = gpd.sjoin(gdf, weer_omtemergen, predicate='within')\n"
   ]
  },
  {
   "cell_type": "code",
   "execution_count": 11,
   "metadata": {},
   "outputs": [],
   "source": [
    "# # Plot de punten\n",
    "# plt.scatter(merged_gdf['X'], merged_gdf['Y'], color='red', label='Punten')\n",
    "\n",
    "# # Toon de plot\n",
    "# plt.show()"
   ]
  },
  {
   "cell_type": "code",
   "execution_count": 27,
   "metadata": {},
   "outputs": [
    {
     "data": {
      "application/vnd.plotly.v1+json": {
       "config": {
        "plotlyServerURL": "https://plot.ly"
       },
       "data": [
        {
         "colorscale": [
          [
           0,
           "rgb(247,251,255)"
          ],
          [
           0.125,
           "rgb(222,235,247)"
          ],
          [
           0.25,
           "rgb(198,219,239)"
          ],
          [
           0.375,
           "rgb(158,202,225)"
          ],
          [
           0.5,
           "rgb(107,174,214)"
          ],
          [
           0.625,
           "rgb(66,146,198)"
          ],
          [
           0.75,
           "rgb(33,113,181)"
          ],
          [
           0.875,
           "rgb(8,81,156)"
          ],
          [
           1,
           "rgb(8,48,107)"
          ]
         ],
         "hoverongaps": true,
         "text": [
          [
           1,
           -0.038352242886422985,
           -0.021886035025582347,
           -0.02179315194828693,
           -0.02095354635934146,
           0.015575606701579085,
           0.00010057659009401218,
           -0.018331468039560594,
           0.0025431230141798383,
           -0.004642742593467718
          ],
          [
           -0.038352242886422985,
           1,
           -0.0033632090837471453,
           -0.0010359305108058785,
           0.002265577800212825,
           -0.02057280125896754,
           -0.0019105583995594757,
           0.02578380917948215,
           -0.0028636561002028426,
           0.024180196400174898
          ],
          [
           -0.021886035025582347,
           -0.0033632090837471453,
           1,
           0.7377068481890835,
           0.3552784591583139,
           -0.08752966992432895,
           0.006159980811388801,
           0.18645234119110105,
           0.04050366749961862,
           -0.23766349469863032
          ],
          [
           -0.02179315194828693,
           -0.0010359305108058785,
           0.7377068481890835,
           1,
           0.39191643022030365,
           -0.028191305345240038,
           -0.009450630001499125,
           0.29340495214446416,
           -0.0008146532484609017,
           -0.08080038145288915
          ],
          [
           -0.02095354635934146,
           0.002265577800212825,
           0.3552784591583139,
           0.39191643022030365,
           1,
           0.1809240318018601,
           0.014421912228476006,
           0.32416156916904726,
           0.017046957420523524,
           -0.11221897519344294
          ],
          [
           0.015575606701579085,
           -0.02057280125896754,
           -0.08752966992432895,
           -0.028191305345240038,
           0.1809240318018601,
           1,
           -0.0170552193095312,
           -0.185862915624581,
           0.007057721998333152,
           -0.2832389807503916
          ],
          [
           0.00010057659009401218,
           -0.0019105583995594757,
           0.006159980811388801,
           -0.009450630001499125,
           0.014421912228476006,
           -0.0170552193095312,
           1,
           -0.010465152715327592,
           0.39032629261149143,
           -0.012615784768829779
          ],
          [
           -0.018331468039560594,
           0.02578380917948215,
           0.18645234119110105,
           0.29340495214446416,
           0.32416156916904726,
           -0.185862915624581,
           -0.010465152715327592,
           1,
           -0.04761274369623633,
           0.5114505978421986
          ],
          [
           0.0025431230141798383,
           -0.0028636561002028426,
           0.04050366749961862,
           -0.0008146532484609017,
           0.017046957420523524,
           0.007057721998333152,
           0.39032629261149143,
           -0.04761274369623633,
           1,
           -0.020906811684344818
          ],
          [
           -0.004642742593467718,
           0.024180196400174898,
           -0.23766349469863032,
           -0.08080038145288915,
           -0.11221897519344294,
           -0.2832389807503916,
           -0.012615784768829779,
           0.5114505978421986,
           -0.020906811684344818,
           1
          ]
         ],
         "type": "heatmap",
         "x": [
          "ANTL_PTJ",
          "AOL_ID",
          "Windsnelheid (km/h)",
          "Windrichting (Graden)",
          "Luchtdruk (ps)",
          "Zichtbaarheid (Decimeter ver kunnen kijken)",
          "Regenval (mm/h)",
          "Temperatuur (C)",
          "Weercode",
          "STN"
         ],
         "y": [
          "ANTL_PTJ",
          "AOL_ID",
          "Windsnelheid (km/h)",
          "Windrichting (Graden)",
          "Luchtdruk (ps)",
          "Zichtbaarheid (Decimeter ver kunnen kijken)",
          "Regenval (mm/h)",
          "Temperatuur (C)",
          "Weercode",
          "STN"
         ],
         "z": [
          [
           1,
           -0.038352242886422985,
           -0.021886035025582347,
           -0.02179315194828693,
           -0.02095354635934146,
           0.015575606701579085,
           0.00010057659009401218,
           -0.018331468039560594,
           0.0025431230141798383,
           -0.004642742593467718
          ],
          [
           -0.038352242886422985,
           1,
           -0.0033632090837471453,
           -0.0010359305108058785,
           0.002265577800212825,
           -0.02057280125896754,
           -0.0019105583995594757,
           0.02578380917948215,
           -0.0028636561002028426,
           0.024180196400174898
          ],
          [
           -0.021886035025582347,
           -0.0033632090837471453,
           1,
           0.7377068481890835,
           0.3552784591583139,
           -0.08752966992432895,
           0.006159980811388801,
           0.18645234119110105,
           0.04050366749961862,
           -0.23766349469863032
          ],
          [
           -0.02179315194828693,
           -0.0010359305108058785,
           0.7377068481890835,
           1,
           0.39191643022030365,
           -0.028191305345240038,
           -0.009450630001499125,
           0.29340495214446416,
           -0.0008146532484609017,
           -0.08080038145288915
          ],
          [
           -0.02095354635934146,
           0.002265577800212825,
           0.3552784591583139,
           0.39191643022030365,
           1,
           0.1809240318018601,
           0.014421912228476006,
           0.32416156916904726,
           0.017046957420523524,
           -0.11221897519344294
          ],
          [
           0.015575606701579085,
           -0.02057280125896754,
           -0.08752966992432895,
           -0.028191305345240038,
           0.1809240318018601,
           1,
           -0.0170552193095312,
           -0.185862915624581,
           0.007057721998333152,
           -0.2832389807503916
          ],
          [
           0.00010057659009401218,
           -0.0019105583995594757,
           0.006159980811388801,
           -0.009450630001499125,
           0.014421912228476006,
           -0.0170552193095312,
           1,
           -0.010465152715327592,
           0.39032629261149143,
           -0.012615784768829779
          ],
          [
           -0.018331468039560594,
           0.02578380917948215,
           0.18645234119110105,
           0.29340495214446416,
           0.32416156916904726,
           -0.185862915624581,
           -0.010465152715327592,
           1,
           -0.04761274369623633,
           0.5114505978421986
          ],
          [
           0.0025431230141798383,
           -0.0028636561002028426,
           0.04050366749961862,
           -0.0008146532484609017,
           0.017046957420523524,
           0.007057721998333152,
           0.39032629261149143,
           -0.04761274369623633,
           1,
           -0.020906811684344818
          ],
          [
           -0.004642742593467718,
           0.024180196400174898,
           -0.23766349469863032,
           -0.08080038145288915,
           -0.11221897519344294,
           -0.2832389807503916,
           -0.012615784768829779,
           0.5114505978421986,
           -0.020906811684344818,
           1
          ]
         ],
         "zmax": 1,
         "zmin": 0
        }
       ],
       "layout": {
        "template": {
         "data": {
          "bar": [
           {
            "error_x": {
             "color": "#2a3f5f"
            },
            "error_y": {
             "color": "#2a3f5f"
            },
            "marker": {
             "line": {
              "color": "#E5ECF6",
              "width": 0.5
             },
             "pattern": {
              "fillmode": "overlay",
              "size": 10,
              "solidity": 0.2
             }
            },
            "type": "bar"
           }
          ],
          "barpolar": [
           {
            "marker": {
             "line": {
              "color": "#E5ECF6",
              "width": 0.5
             },
             "pattern": {
              "fillmode": "overlay",
              "size": 10,
              "solidity": 0.2
             }
            },
            "type": "barpolar"
           }
          ],
          "carpet": [
           {
            "aaxis": {
             "endlinecolor": "#2a3f5f",
             "gridcolor": "white",
             "linecolor": "white",
             "minorgridcolor": "white",
             "startlinecolor": "#2a3f5f"
            },
            "baxis": {
             "endlinecolor": "#2a3f5f",
             "gridcolor": "white",
             "linecolor": "white",
             "minorgridcolor": "white",
             "startlinecolor": "#2a3f5f"
            },
            "type": "carpet"
           }
          ],
          "choropleth": [
           {
            "colorbar": {
             "outlinewidth": 0,
             "ticks": ""
            },
            "type": "choropleth"
           }
          ],
          "contour": [
           {
            "colorbar": {
             "outlinewidth": 0,
             "ticks": ""
            },
            "colorscale": [
             [
              0,
              "#0d0887"
             ],
             [
              0.1111111111111111,
              "#46039f"
             ],
             [
              0.2222222222222222,
              "#7201a8"
             ],
             [
              0.3333333333333333,
              "#9c179e"
             ],
             [
              0.4444444444444444,
              "#bd3786"
             ],
             [
              0.5555555555555556,
              "#d8576b"
             ],
             [
              0.6666666666666666,
              "#ed7953"
             ],
             [
              0.7777777777777778,
              "#fb9f3a"
             ],
             [
              0.8888888888888888,
              "#fdca26"
             ],
             [
              1,
              "#f0f921"
             ]
            ],
            "type": "contour"
           }
          ],
          "contourcarpet": [
           {
            "colorbar": {
             "outlinewidth": 0,
             "ticks": ""
            },
            "type": "contourcarpet"
           }
          ],
          "heatmap": [
           {
            "colorbar": {
             "outlinewidth": 0,
             "ticks": ""
            },
            "colorscale": [
             [
              0,
              "#0d0887"
             ],
             [
              0.1111111111111111,
              "#46039f"
             ],
             [
              0.2222222222222222,
              "#7201a8"
             ],
             [
              0.3333333333333333,
              "#9c179e"
             ],
             [
              0.4444444444444444,
              "#bd3786"
             ],
             [
              0.5555555555555556,
              "#d8576b"
             ],
             [
              0.6666666666666666,
              "#ed7953"
             ],
             [
              0.7777777777777778,
              "#fb9f3a"
             ],
             [
              0.8888888888888888,
              "#fdca26"
             ],
             [
              1,
              "#f0f921"
             ]
            ],
            "type": "heatmap"
           }
          ],
          "heatmapgl": [
           {
            "colorbar": {
             "outlinewidth": 0,
             "ticks": ""
            },
            "colorscale": [
             [
              0,
              "#0d0887"
             ],
             [
              0.1111111111111111,
              "#46039f"
             ],
             [
              0.2222222222222222,
              "#7201a8"
             ],
             [
              0.3333333333333333,
              "#9c179e"
             ],
             [
              0.4444444444444444,
              "#bd3786"
             ],
             [
              0.5555555555555556,
              "#d8576b"
             ],
             [
              0.6666666666666666,
              "#ed7953"
             ],
             [
              0.7777777777777778,
              "#fb9f3a"
             ],
             [
              0.8888888888888888,
              "#fdca26"
             ],
             [
              1,
              "#f0f921"
             ]
            ],
            "type": "heatmapgl"
           }
          ],
          "histogram": [
           {
            "marker": {
             "pattern": {
              "fillmode": "overlay",
              "size": 10,
              "solidity": 0.2
             }
            },
            "type": "histogram"
           }
          ],
          "histogram2d": [
           {
            "colorbar": {
             "outlinewidth": 0,
             "ticks": ""
            },
            "colorscale": [
             [
              0,
              "#0d0887"
             ],
             [
              0.1111111111111111,
              "#46039f"
             ],
             [
              0.2222222222222222,
              "#7201a8"
             ],
             [
              0.3333333333333333,
              "#9c179e"
             ],
             [
              0.4444444444444444,
              "#bd3786"
             ],
             [
              0.5555555555555556,
              "#d8576b"
             ],
             [
              0.6666666666666666,
              "#ed7953"
             ],
             [
              0.7777777777777778,
              "#fb9f3a"
             ],
             [
              0.8888888888888888,
              "#fdca26"
             ],
             [
              1,
              "#f0f921"
             ]
            ],
            "type": "histogram2d"
           }
          ],
          "histogram2dcontour": [
           {
            "colorbar": {
             "outlinewidth": 0,
             "ticks": ""
            },
            "colorscale": [
             [
              0,
              "#0d0887"
             ],
             [
              0.1111111111111111,
              "#46039f"
             ],
             [
              0.2222222222222222,
              "#7201a8"
             ],
             [
              0.3333333333333333,
              "#9c179e"
             ],
             [
              0.4444444444444444,
              "#bd3786"
             ],
             [
              0.5555555555555556,
              "#d8576b"
             ],
             [
              0.6666666666666666,
              "#ed7953"
             ],
             [
              0.7777777777777778,
              "#fb9f3a"
             ],
             [
              0.8888888888888888,
              "#fdca26"
             ],
             [
              1,
              "#f0f921"
             ]
            ],
            "type": "histogram2dcontour"
           }
          ],
          "mesh3d": [
           {
            "colorbar": {
             "outlinewidth": 0,
             "ticks": ""
            },
            "type": "mesh3d"
           }
          ],
          "parcoords": [
           {
            "line": {
             "colorbar": {
              "outlinewidth": 0,
              "ticks": ""
             }
            },
            "type": "parcoords"
           }
          ],
          "pie": [
           {
            "automargin": true,
            "type": "pie"
           }
          ],
          "scatter": [
           {
            "fillpattern": {
             "fillmode": "overlay",
             "size": 10,
             "solidity": 0.2
            },
            "type": "scatter"
           }
          ],
          "scatter3d": [
           {
            "line": {
             "colorbar": {
              "outlinewidth": 0,
              "ticks": ""
             }
            },
            "marker": {
             "colorbar": {
              "outlinewidth": 0,
              "ticks": ""
             }
            },
            "type": "scatter3d"
           }
          ],
          "scattercarpet": [
           {
            "marker": {
             "colorbar": {
              "outlinewidth": 0,
              "ticks": ""
             }
            },
            "type": "scattercarpet"
           }
          ],
          "scattergeo": [
           {
            "marker": {
             "colorbar": {
              "outlinewidth": 0,
              "ticks": ""
             }
            },
            "type": "scattergeo"
           }
          ],
          "scattergl": [
           {
            "marker": {
             "colorbar": {
              "outlinewidth": 0,
              "ticks": ""
             }
            },
            "type": "scattergl"
           }
          ],
          "scattermapbox": [
           {
            "marker": {
             "colorbar": {
              "outlinewidth": 0,
              "ticks": ""
             }
            },
            "type": "scattermapbox"
           }
          ],
          "scatterpolar": [
           {
            "marker": {
             "colorbar": {
              "outlinewidth": 0,
              "ticks": ""
             }
            },
            "type": "scatterpolar"
           }
          ],
          "scatterpolargl": [
           {
            "marker": {
             "colorbar": {
              "outlinewidth": 0,
              "ticks": ""
             }
            },
            "type": "scatterpolargl"
           }
          ],
          "scatterternary": [
           {
            "marker": {
             "colorbar": {
              "outlinewidth": 0,
              "ticks": ""
             }
            },
            "type": "scatterternary"
           }
          ],
          "surface": [
           {
            "colorbar": {
             "outlinewidth": 0,
             "ticks": ""
            },
            "colorscale": [
             [
              0,
              "#0d0887"
             ],
             [
              0.1111111111111111,
              "#46039f"
             ],
             [
              0.2222222222222222,
              "#7201a8"
             ],
             [
              0.3333333333333333,
              "#9c179e"
             ],
             [
              0.4444444444444444,
              "#bd3786"
             ],
             [
              0.5555555555555556,
              "#d8576b"
             ],
             [
              0.6666666666666666,
              "#ed7953"
             ],
             [
              0.7777777777777778,
              "#fb9f3a"
             ],
             [
              0.8888888888888888,
              "#fdca26"
             ],
             [
              1,
              "#f0f921"
             ]
            ],
            "type": "surface"
           }
          ],
          "table": [
           {
            "cells": {
             "fill": {
              "color": "#EBF0F8"
             },
             "line": {
              "color": "white"
             }
            },
            "header": {
             "fill": {
              "color": "#C8D4E3"
             },
             "line": {
              "color": "white"
             }
            },
            "type": "table"
           }
          ]
         },
         "layout": {
          "annotationdefaults": {
           "arrowcolor": "#2a3f5f",
           "arrowhead": 0,
           "arrowwidth": 1
          },
          "autotypenumbers": "strict",
          "coloraxis": {
           "colorbar": {
            "outlinewidth": 0,
            "ticks": ""
           }
          },
          "colorscale": {
           "diverging": [
            [
             0,
             "#8e0152"
            ],
            [
             0.1,
             "#c51b7d"
            ],
            [
             0.2,
             "#de77ae"
            ],
            [
             0.3,
             "#f1b6da"
            ],
            [
             0.4,
             "#fde0ef"
            ],
            [
             0.5,
             "#f7f7f7"
            ],
            [
             0.6,
             "#e6f5d0"
            ],
            [
             0.7,
             "#b8e186"
            ],
            [
             0.8,
             "#7fbc41"
            ],
            [
             0.9,
             "#4d9221"
            ],
            [
             1,
             "#276419"
            ]
           ],
           "sequential": [
            [
             0,
             "#0d0887"
            ],
            [
             0.1111111111111111,
             "#46039f"
            ],
            [
             0.2222222222222222,
             "#7201a8"
            ],
            [
             0.3333333333333333,
             "#9c179e"
            ],
            [
             0.4444444444444444,
             "#bd3786"
            ],
            [
             0.5555555555555556,
             "#d8576b"
            ],
            [
             0.6666666666666666,
             "#ed7953"
            ],
            [
             0.7777777777777778,
             "#fb9f3a"
            ],
            [
             0.8888888888888888,
             "#fdca26"
            ],
            [
             1,
             "#f0f921"
            ]
           ],
           "sequentialminus": [
            [
             0,
             "#0d0887"
            ],
            [
             0.1111111111111111,
             "#46039f"
            ],
            [
             0.2222222222222222,
             "#7201a8"
            ],
            [
             0.3333333333333333,
             "#9c179e"
            ],
            [
             0.4444444444444444,
             "#bd3786"
            ],
            [
             0.5555555555555556,
             "#d8576b"
            ],
            [
             0.6666666666666666,
             "#ed7953"
            ],
            [
             0.7777777777777778,
             "#fb9f3a"
            ],
            [
             0.8888888888888888,
             "#fdca26"
            ],
            [
             1,
             "#f0f921"
            ]
           ]
          },
          "colorway": [
           "#636efa",
           "#EF553B",
           "#00cc96",
           "#ab63fa",
           "#FFA15A",
           "#19d3f3",
           "#FF6692",
           "#B6E880",
           "#FF97FF",
           "#FECB52"
          ],
          "font": {
           "color": "#2a3f5f"
          },
          "geo": {
           "bgcolor": "white",
           "lakecolor": "white",
           "landcolor": "#E5ECF6",
           "showlakes": true,
           "showland": true,
           "subunitcolor": "white"
          },
          "hoverlabel": {
           "align": "left"
          },
          "hovermode": "closest",
          "mapbox": {
           "style": "light"
          },
          "paper_bgcolor": "white",
          "plot_bgcolor": "#E5ECF6",
          "polar": {
           "angularaxis": {
            "gridcolor": "white",
            "linecolor": "white",
            "ticks": ""
           },
           "bgcolor": "#E5ECF6",
           "radialaxis": {
            "gridcolor": "white",
            "linecolor": "white",
            "ticks": ""
           }
          },
          "scene": {
           "xaxis": {
            "backgroundcolor": "#E5ECF6",
            "gridcolor": "white",
            "gridwidth": 2,
            "linecolor": "white",
            "showbackground": true,
            "ticks": "",
            "zerolinecolor": "white"
           },
           "yaxis": {
            "backgroundcolor": "#E5ECF6",
            "gridcolor": "white",
            "gridwidth": 2,
            "linecolor": "white",
            "showbackground": true,
            "ticks": "",
            "zerolinecolor": "white"
           },
           "zaxis": {
            "backgroundcolor": "#E5ECF6",
            "gridcolor": "white",
            "gridwidth": 2,
            "linecolor": "white",
            "showbackground": true,
            "ticks": "",
            "zerolinecolor": "white"
           }
          },
          "shapedefaults": {
           "line": {
            "color": "#2a3f5f"
           }
          },
          "ternary": {
           "aaxis": {
            "gridcolor": "white",
            "linecolor": "white",
            "ticks": ""
           },
           "baxis": {
            "gridcolor": "white",
            "linecolor": "white",
            "ticks": ""
           },
           "bgcolor": "#E5ECF6",
           "caxis": {
            "gridcolor": "white",
            "linecolor": "white",
            "ticks": ""
           }
          },
          "title": {
           "x": 0.05
          },
          "xaxis": {
           "automargin": true,
           "gridcolor": "white",
           "linecolor": "white",
           "ticks": "",
           "title": {
            "standoff": 15
           },
           "zerolinecolor": "white",
           "zerolinewidth": 2
          },
          "yaxis": {
           "automargin": true,
           "gridcolor": "white",
           "linecolor": "white",
           "ticks": "",
           "title": {
            "standoff": 15
           },
           "zerolinecolor": "white",
           "zerolinewidth": 2
          }
         }
        }
       }
      }
     },
     "metadata": {},
     "output_type": "display_data"
    }
   ],
   "source": [
    "# Selecteer de numerieke kolommen voor correlatieanalyse\n",
    "\n",
    "numerical_columns = merged_gdf[['ANTL_PTJ', 'AOL_ID', 'Windsnelheid (km/h)','Windrichting (Graden)', 'Luchtdruk (ps)',\n",
    "                     'Zichtbaarheid (Decimeter ver kunnen kijken)', 'Regenval (mm/h)','Temperatuur (C)', 'Weercode', 'STN']]\n",
    "\n",
    "\n",
    "name = ['ANTL_PTJ', 'AOL_ID', 'Windsnelheid (km/h)','Windrichting (Graden)', 'Luchtdruk (ps)',\n",
    "                     'Zichtbaarheid (Decimeter ver kunnen kijken)', 'Regenval (mm/h)','Temperatuur (C)', 'Weercode', 'STN']\n",
    "\n",
    "# Bereken de correlatiematrix\n",
    "\n",
    "correlation_matrix = numerical_columns.corr()\n",
    "\n",
    "\n",
    "fig1 = go.Figure(data=go.Heatmap(\n",
    "\n",
    "\n",
    "                   z=correlation_matrix.values,\n",
    "\n",
    "                   x=name,\n",
    "\n",
    "                   y=name,\n",
    "\n",
    "                   colorscale='Blues',\n",
    "\n",
    "                   zmin=0, zmax=1,\n",
    "                   text=correlation_matrix.values, \n",
    "                   hoverongaps=True))\n",
    "\n",
    "fig1"
   ]
  },
  {
   "cell_type": "code",
   "execution_count": 13,
   "metadata": {},
   "outputs": [
    {
     "name": "stderr",
     "output_type": "stream",
     "text": [
      "C:\\Users\\tjibb\\AppData\\Local\\Temp\\ipykernel_22208\\4101458376.py:2: SettingWithCopyWarning:\n",
      "\n",
      "\n",
      "A value is trying to be set on a copy of a slice from a DataFrame.\n",
      "Try using .loc[row_indexer,col_indexer] = value instead\n",
      "\n",
      "See the caveats in the documentation: https://pandas.pydata.org/pandas-docs/stable/user_guide/indexing.html#returning-a-view-versus-a-copy\n",
      "\n",
      "C:\\Users\\tjibb\\AppData\\Local\\Temp\\ipykernel_22208\\4101458376.py:3: SettingWithCopyWarning:\n",
      "\n",
      "\n",
      "A value is trying to be set on a copy of a slice from a DataFrame.\n",
      "Try using .loc[row_indexer,col_indexer] = value instead\n",
      "\n",
      "See the caveats in the documentation: https://pandas.pydata.org/pandas-docs/stable/user_guide/indexing.html#returning-a-view-versus-a-copy\n",
      "\n",
      "C:\\Users\\tjibb\\AppData\\Local\\Temp\\ipykernel_22208\\4101458376.py:4: SettingWithCopyWarning:\n",
      "\n",
      "\n",
      "A value is trying to be set on a copy of a slice from a DataFrame\n",
      "\n",
      "See the caveats in the documentation: https://pandas.pydata.org/pandas-docs/stable/user_guide/indexing.html#returning-a-view-versus-a-copy\n",
      "\n"
     ]
    },
    {
     "data": {
      "image/png": "[encoded data removed]",
      "text/plain": [
       "<Figure size 640x480 with 1 Axes>"
      ]
     },
     "metadata": {},
     "output_type": "display_data"
    }
   ],
   "source": [
    "df=numerical_columns[['Windsnelheid (km/h)','Luchtdruk (ps)']]\n",
    "df['y']=df['Windsnelheid (km/h)']\n",
    "df['x']=df['Luchtdruk (ps)']\n",
    "df.drop(columns=['Windsnelheid (km/h)','Luchtdruk (ps)'], inplace=True)\n",
    "df = df.replace(0, np.NaN)\n",
    "\n",
    "df= df.dropna()\n",
    "model = smf.ols(formula= 'y~x', data=df).fit()\n",
    "model.summary()\n",
    "ax = sns.scatterplot(x=df.x, y=df.y)\n",
    "sm.graphics.abline_plot(model_results=model, ax=ax, color= \"red\")\n",
    "ax.set(ylabel=\"Windsnelheid (km/h)\", xlabel=\"Luchtdruk (ps)\")\n",
    "plt.show()"
   ]
  },
  {
   "cell_type": "code",
   "execution_count": 14,
   "metadata": {},
   "outputs": [
    {
     "name": "stderr",
     "output_type": "stream",
     "text": [
      "C:\\Users\\tjibb\\AppData\\Local\\Temp\\ipykernel_22208\\3002726659.py:2: SettingWithCopyWarning:\n",
      "\n",
      "\n",
      "A value is trying to be set on a copy of a slice from a DataFrame.\n",
      "Try using .loc[row_indexer,col_indexer] = value instead\n",
      "\n",
      "See the caveats in the documentation: https://pandas.pydata.org/pandas-docs/stable/user_guide/indexing.html#returning-a-view-versus-a-copy\n",
      "\n",
      "C:\\Users\\tjibb\\AppData\\Local\\Temp\\ipykernel_22208\\3002726659.py:3: SettingWithCopyWarning:\n",
      "\n",
      "\n",
      "A value is trying to be set on a copy of a slice from a DataFrame.\n",
      "Try using .loc[row_indexer,col_indexer] = value instead\n",
      "\n",
      "See the caveats in the documentation: https://pandas.pydata.org/pandas-docs/stable/user_guide/indexing.html#returning-a-view-versus-a-copy\n",
      "\n",
      "C:\\Users\\tjibb\\AppData\\Local\\Temp\\ipykernel_22208\\3002726659.py:4: SettingWithCopyWarning:\n",
      "\n",
      "\n",
      "A value is trying to be set on a copy of a slice from a DataFrame\n",
      "\n",
      "See the caveats in the documentation: https://pandas.pydata.org/pandas-docs/stable/user_guide/indexing.html#returning-a-view-versus-a-copy\n",
      "\n"
     ]
    },
    {
     "data": {
      "text/html": [
       "<table class=\"simpletable\">\n",
       "<caption>OLS Regression Results</caption>\n",
       "<tr>\n",
       "  <th>Dep. Variable:</th>            <td>y</td>        <th>  R-squared:         </th>  <td>   0.544</td>  \n",
       "</tr>\n",
       "<tr>\n",
       "  <th>Model:</th>                   <td>OLS</td>       <th>  Adj. R-squared:    </th>  <td>   0.544</td>  \n",
       "</tr>\n",
       "<tr>\n",
       "  <th>Method:</th>             <td>Least Squares</td>  <th>  F-statistic:       </th>  <td>1.903e+06</td> \n",
       "</tr>\n",
       "<tr>\n",
       "  <th>Date:</th>             <td>Fri, 10 Nov 2023</td> <th>  Prob (F-statistic):</th>   <td>  0.00</td>   \n",
       "</tr>\n",
       "<tr>\n",
       "  <th>Time:</th>                 <td>10:32:23</td>     <th>  Log-Likelihood:    </th> <td>-3.3440e+06</td>\n",
       "</tr>\n",
       "<tr>\n",
       "  <th>No. Observations:</th>      <td>1593955</td>     <th>  AIC:               </th>  <td>6.688e+06</td> \n",
       "</tr>\n",
       "<tr>\n",
       "  <th>Df Residuals:</th>          <td>1593953</td>     <th>  BIC:               </th>  <td>6.688e+06</td> \n",
       "</tr>\n",
       "<tr>\n",
       "  <th>Df Model:</th>              <td>     1</td>      <th>                     </th>      <td> </td>     \n",
       "</tr>\n",
       "<tr>\n",
       "  <th>Covariance Type:</th>      <td>nonrobust</td>    <th>                     </th>      <td> </td>     \n",
       "</tr>\n",
       "</table>\n",
       "<table class=\"simpletable\">\n",
       "<tr>\n",
       "      <td></td>         <th>coef</th>     <th>std err</th>      <th>t</th>      <th>P>|t|</th>  <th>[0.025</th>    <th>0.975]</th>  \n",
       "</tr>\n",
       "<tr>\n",
       "  <th>Intercept</th> <td>    0.4351</td> <td>    0.002</td> <td>  234.047</td> <td> 0.000</td> <td>    0.431</td> <td>    0.439</td>\n",
       "</tr>\n",
       "<tr>\n",
       "  <th>x</th>         <td>    0.0199</td> <td> 1.44e-05</td> <td> 1379.558</td> <td> 0.000</td> <td>    0.020</td> <td>    0.020</td>\n",
       "</tr>\n",
       "</table>\n",
       "<table class=\"simpletable\">\n",
       "<tr>\n",
       "  <th>Omnibus:</th>       <td>714149.276</td> <th>  Durbin-Watson:     </th>  <td>   0.006</td>  \n",
       "</tr>\n",
       "<tr>\n",
       "  <th>Prob(Omnibus):</th>   <td> 0.000</td>   <th>  Jarque-Bera (JB):  </th> <td>4920307.823</td>\n",
       "</tr>\n",
       "<tr>\n",
       "  <th>Skew:</th>            <td> 2.040</td>   <th>  Prob(JB):          </th>  <td>    0.00</td>  \n",
       "</tr>\n",
       "<tr>\n",
       "  <th>Kurtosis:</th>        <td>10.579</td>   <th>  Cond. No.          </th>  <td>    154.</td>  \n",
       "</tr>\n",
       "</table><br/><br/>Notes:<br/>[1] Standard Errors assume that the covariance matrix of the errors is correctly specified."
      ],
      "text/latex": [
       "\\begin{center}\n",
       "\\begin{tabular}{lclc}\n",
       "\\toprule\n",
       "\\textbf{Dep. Variable:}    &        y         & \\textbf{  R-squared:         } &      0.544   \\\\\n",
       "\\textbf{Model:}            &       OLS        & \\textbf{  Adj. R-squared:    } &      0.544   \\\\\n",
       "\\textbf{Method:}           &  Least Squares   & \\textbf{  F-statistic:       } &  1.903e+06   \\\\\n",
       "\\textbf{Date:}             & Fri, 10 Nov 2023 & \\textbf{  Prob (F-statistic):} &      0.00    \\\\\n",
       "\\textbf{Time:}             &     10:32:23     & \\textbf{  Log-Likelihood:    } & -3.3440e+06  \\\\\n",
       "\\textbf{No. Observations:} &     1593955      & \\textbf{  AIC:               } &  6.688e+06   \\\\\n",
       "\\textbf{Df Residuals:}     &     1593953      & \\textbf{  BIC:               } &  6.688e+06   \\\\\n",
       "\\textbf{Df Model:}         &           1      & \\textbf{                     } &              \\\\\n",
       "\\textbf{Covariance Type:}  &    nonrobust     & \\textbf{                     } &              \\\\\n",
       "\\bottomrule\n",
       "\\end{tabular}\n",
       "\\begin{tabular}{lcccccc}\n",
       "                   & \\textbf{coef} & \\textbf{std err} & \\textbf{t} & \\textbf{P$> |$t$|$} & \\textbf{[0.025} & \\textbf{0.975]}  \\\\\n",
       "\\midrule\n",
       "\\textbf{Intercept} &       0.4351  &        0.002     &   234.047  &         0.000        &        0.431    &        0.439     \\\\\n",
       "\\textbf{x}         &       0.0199  &     1.44e-05     &  1379.558  &         0.000        &        0.020    &        0.020     \\\\\n",
       "\\bottomrule\n",
       "\\end{tabular}\n",
       "\\begin{tabular}{lclc}\n",
       "\\textbf{Omnibus:}       & 714149.276 & \\textbf{  Durbin-Watson:     } &      0.006   \\\\\n",
       "\\textbf{Prob(Omnibus):} &    0.000   & \\textbf{  Jarque-Bera (JB):  } & 4920307.823  \\\\\n",
       "\\textbf{Skew:}          &    2.040   & \\textbf{  Prob(JB):          } &       0.00   \\\\\n",
       "\\textbf{Kurtosis:}      &   10.579   & \\textbf{  Cond. No.          } &       154.   \\\\\n",
       "\\bottomrule\n",
       "\\end{tabular}\n",
       "%\\caption{OLS Regression Results}\n",
       "\\end{center}\n",
       "\n",
       "Notes: \\newline\n",
       " [1] Standard Errors assume that the covariance matrix of the errors is correctly specified."
      ],
      "text/plain": [
       "<class 'statsmodels.iolib.summary.Summary'>\n",
       "\"\"\"\n",
       "                            OLS Regression Results                            \n",
       "==============================================================================\n",
       "Dep. Variable:                      y   R-squared:                       0.544\n",
       "Model:                            OLS   Adj. R-squared:                  0.544\n",
       "Method:                 Least Squares   F-statistic:                 1.903e+06\n",
       "Date:                Fri, 10 Nov 2023   Prob (F-statistic):               0.00\n",
       "Time:                        10:32:23   Log-Likelihood:            -3.3440e+06\n",
       "No. Observations:             1593955   AIC:                         6.688e+06\n",
       "Df Residuals:                 1593953   BIC:                         6.688e+06\n",
       "Df Model:                           1                                         \n",
       "Covariance Type:            nonrobust                                         \n",
       "==============================================================================\n",
       "                 coef    std err          t      P>|t|      [0.025      0.975]\n",
       "------------------------------------------------------------------------------\n",
       "Intercept      0.4351      0.002    234.047      0.000       0.431       0.439\n",
       "x              0.0199   1.44e-05   1379.558      0.000       0.020       0.020\n",
       "==============================================================================\n",
       "Omnibus:                   714149.276   Durbin-Watson:                   0.006\n",
       "Prob(Omnibus):                  0.000   Jarque-Bera (JB):          4920307.823\n",
       "Skew:                           2.040   Prob(JB):                         0.00\n",
       "Kurtosis:                      10.579   Cond. No.                         154.\n",
       "==============================================================================\n",
       "\n",
       "Notes:\n",
       "[1] Standard Errors assume that the covariance matrix of the errors is correctly specified.\n",
       "\"\"\""
      ]
     },
     "execution_count": 14,
     "metadata": {},
     "output_type": "execute_result"
    }
   ],
   "source": [
    "df=numerical_columns[['Windsnelheid (km/h)','Windrichting (Graden)']]\n",
    "df['y']=df['Windsnelheid (km/h)']\n",
    "df['x']=df['Windrichting (Graden)']\n",
    "df.drop(columns=['Windsnelheid (km/h)','Windrichting (Graden)'], inplace=True)\n",
    "\n",
    "model = smf.ols(formula= 'y~x', data=df).fit()\n",
    "model.summary()\n",
    "\n"
   ]
  },
  {
   "cell_type": "code",
   "execution_count": 15,
   "metadata": {},
   "outputs": [
    {
     "data": {
      "text/plain": [
       "0    19.713101\n",
       "1    19.911843\n",
       "2    21.303041\n",
       "3    21.501783\n",
       "dtype: float64"
      ]
     },
     "execution_count": 15,
     "metadata": {},
     "output_type": "execute_result"
    }
   ],
   "source": [
    "model.predict(pd.DataFrame({'x': [970,980,1050,1060]}))"
   ]
  },
  {
   "cell_type": "code",
   "execution_count": 16,
   "metadata": {},
   "outputs": [
    {
     "name": "stderr",
     "output_type": "stream",
     "text": [
      "C:\\Users\\tjibb\\AppData\\Local\\Temp\\ipykernel_22208\\3039701640.py:2: SettingWithCopyWarning:\n",
      "\n",
      "\n",
      "A value is trying to be set on a copy of a slice from a DataFrame.\n",
      "Try using .loc[row_indexer,col_indexer] = value instead\n",
      "\n",
      "See the caveats in the documentation: https://pandas.pydata.org/pandas-docs/stable/user_guide/indexing.html#returning-a-view-versus-a-copy\n",
      "\n",
      "C:\\Users\\tjibb\\AppData\\Local\\Temp\\ipykernel_22208\\3039701640.py:3: SettingWithCopyWarning:\n",
      "\n",
      "\n",
      "A value is trying to be set on a copy of a slice from a DataFrame.\n",
      "Try using .loc[row_indexer,col_indexer] = value instead\n",
      "\n",
      "See the caveats in the documentation: https://pandas.pydata.org/pandas-docs/stable/user_guide/indexing.html#returning-a-view-versus-a-copy\n",
      "\n",
      "C:\\Users\\tjibb\\AppData\\Local\\Temp\\ipykernel_22208\\3039701640.py:4: SettingWithCopyWarning:\n",
      "\n",
      "\n",
      "A value is trying to be set on a copy of a slice from a DataFrame\n",
      "\n",
      "See the caveats in the documentation: https://pandas.pydata.org/pandas-docs/stable/user_guide/indexing.html#returning-a-view-versus-a-copy\n",
      "\n"
     ]
    },
    {
     "data": {
      "text/html": [
       "<table class=\"simpletable\">\n",
       "<caption>OLS Regression Results</caption>\n",
       "<tr>\n",
       "  <th>Dep. Variable:</th>            <td>y</td>        <th>  R-squared:         </th>  <td>   0.000</td>  \n",
       "</tr>\n",
       "<tr>\n",
       "  <th>Model:</th>                   <td>OLS</td>       <th>  Adj. R-squared:    </th>  <td>   0.000</td>  \n",
       "</tr>\n",
       "<tr>\n",
       "  <th>Method:</th>             <td>Least Squares</td>  <th>  F-statistic:       </th>  <td>   386.8</td>  \n",
       "</tr>\n",
       "<tr>\n",
       "  <th>Date:</th>             <td>Fri, 10 Nov 2023</td> <th>  Prob (F-statistic):</th>  <td>4.24e-86</td>  \n",
       "</tr>\n",
       "<tr>\n",
       "  <th>Time:</th>                 <td>10:32:24</td>     <th>  Log-Likelihood:    </th> <td>-1.1998e+06</td>\n",
       "</tr>\n",
       "<tr>\n",
       "  <th>No. Observations:</th>      <td>1593955</td>     <th>  AIC:               </th>  <td>2.400e+06</td> \n",
       "</tr>\n",
       "<tr>\n",
       "  <th>Df Residuals:</th>          <td>1593953</td>     <th>  BIC:               </th>  <td>2.400e+06</td> \n",
       "</tr>\n",
       "<tr>\n",
       "  <th>Df Model:</th>              <td>     1</td>      <th>                     </th>      <td> </td>     \n",
       "</tr>\n",
       "<tr>\n",
       "  <th>Covariance Type:</th>      <td>nonrobust</td>    <th>                     </th>      <td> </td>     \n",
       "</tr>\n",
       "</table>\n",
       "<table class=\"simpletable\">\n",
       "<tr>\n",
       "      <td></td>         <th>coef</th>     <th>std err</th>      <th>t</th>      <th>P>|t|</th>  <th>[0.025</th>    <th>0.975]</th>  \n",
       "</tr>\n",
       "<tr>\n",
       "  <th>Intercept</th> <td>    2.0295</td> <td>    0.001</td> <td> 3274.897</td> <td> 0.000</td> <td>    2.028</td> <td>    2.031</td>\n",
       "</tr>\n",
       "<tr>\n",
       "  <th>x</th>         <td> 5.106e-07</td> <td>  2.6e-08</td> <td>   19.667</td> <td> 0.000</td> <td>  4.6e-07</td> <td> 5.62e-07</td>\n",
       "</tr>\n",
       "</table>\n",
       "<table class=\"simpletable\">\n",
       "<tr>\n",
       "  <th>Omnibus:</th>       <td>317761.956</td> <th>  Durbin-Watson:     </th>  <td>   1.868</td>  \n",
       "</tr>\n",
       "<tr>\n",
       "  <th>Prob(Omnibus):</th>   <td> 0.000</td>   <th>  Jarque-Bera (JB):  </th> <td>4183857.952</td>\n",
       "</tr>\n",
       "<tr>\n",
       "  <th>Skew:</th>            <td> 0.585</td>   <th>  Prob(JB):          </th>  <td>    0.00</td>  \n",
       "</tr>\n",
       "<tr>\n",
       "  <th>Kurtosis:</th>        <td>10.850</td>   <th>  Cond. No.          </th>  <td>3.64e+04</td>  \n",
       "</tr>\n",
       "</table><br/><br/>Notes:<br/>[1] Standard Errors assume that the covariance matrix of the errors is correctly specified.<br/>[2] The condition number is large, 3.64e+04. This might indicate that there are<br/>strong multicollinearity or other numerical problems."
      ],
      "text/latex": [
       "\\begin{center}\n",
       "\\begin{tabular}{lclc}\n",
       "\\toprule\n",
       "\\textbf{Dep. Variable:}    &        y         & \\textbf{  R-squared:         } &      0.000   \\\\\n",
       "\\textbf{Model:}            &       OLS        & \\textbf{  Adj. R-squared:    } &      0.000   \\\\\n",
       "\\textbf{Method:}           &  Least Squares   & \\textbf{  F-statistic:       } &      386.8   \\\\\n",
       "\\textbf{Date:}             & Fri, 10 Nov 2023 & \\textbf{  Prob (F-statistic):} &   4.24e-86   \\\\\n",
       "\\textbf{Time:}             &     10:32:24     & \\textbf{  Log-Likelihood:    } & -1.1998e+06  \\\\\n",
       "\\textbf{No. Observations:} &     1593955      & \\textbf{  AIC:               } &  2.400e+06   \\\\\n",
       "\\textbf{Df Residuals:}     &     1593953      & \\textbf{  BIC:               } &  2.400e+06   \\\\\n",
       "\\textbf{Df Model:}         &           1      & \\textbf{                     } &              \\\\\n",
       "\\textbf{Covariance Type:}  &    nonrobust     & \\textbf{                     } &              \\\\\n",
       "\\bottomrule\n",
       "\\end{tabular}\n",
       "\\begin{tabular}{lcccccc}\n",
       "                   & \\textbf{coef} & \\textbf{std err} & \\textbf{t} & \\textbf{P$> |$t$|$} & \\textbf{[0.025} & \\textbf{0.975]}  \\\\\n",
       "\\midrule\n",
       "\\textbf{Intercept} &       2.0295  &        0.001     &  3274.897  &         0.000        &        2.028    &        2.031     \\\\\n",
       "\\textbf{x}         &    5.106e-07  &      2.6e-08     &    19.667  &         0.000        &      4.6e-07    &     5.62e-07     \\\\\n",
       "\\bottomrule\n",
       "\\end{tabular}\n",
       "\\begin{tabular}{lclc}\n",
       "\\textbf{Omnibus:}       & 317761.956 & \\textbf{  Durbin-Watson:     } &      1.868   \\\\\n",
       "\\textbf{Prob(Omnibus):} &    0.000   & \\textbf{  Jarque-Bera (JB):  } & 4183857.952  \\\\\n",
       "\\textbf{Skew:}          &    0.585   & \\textbf{  Prob(JB):          } &       0.00   \\\\\n",
       "\\textbf{Kurtosis:}      &   10.850   & \\textbf{  Cond. No.          } &   3.64e+04   \\\\\n",
       "\\bottomrule\n",
       "\\end{tabular}\n",
       "%\\caption{OLS Regression Results}\n",
       "\\end{center}\n",
       "\n",
       "Notes: \\newline\n",
       " [1] Standard Errors assume that the covariance matrix of the errors is correctly specified. \\newline\n",
       " [2] The condition number is large, 3.64e+04. This might indicate that there are \\newline\n",
       " strong multicollinearity or other numerical problems."
      ],
      "text/plain": [
       "<class 'statsmodels.iolib.summary.Summary'>\n",
       "\"\"\"\n",
       "                            OLS Regression Results                            \n",
       "==============================================================================\n",
       "Dep. Variable:                      y   R-squared:                       0.000\n",
       "Model:                            OLS   Adj. R-squared:                  0.000\n",
       "Method:                 Least Squares   F-statistic:                     386.8\n",
       "Date:                Fri, 10 Nov 2023   Prob (F-statistic):           4.24e-86\n",
       "Time:                        10:32:24   Log-Likelihood:            -1.1998e+06\n",
       "No. Observations:             1593955   AIC:                         2.400e+06\n",
       "Df Residuals:                 1593953   BIC:                         2.400e+06\n",
       "Df Model:                           1                                         \n",
       "Covariance Type:            nonrobust                                         \n",
       "==============================================================================\n",
       "                 coef    std err          t      P>|t|      [0.025      0.975]\n",
       "------------------------------------------------------------------------------\n",
       "Intercept      2.0295      0.001   3274.897      0.000       2.028       2.031\n",
       "x           5.106e-07    2.6e-08     19.667      0.000     4.6e-07    5.62e-07\n",
       "==============================================================================\n",
       "Omnibus:                   317761.956   Durbin-Watson:                   1.868\n",
       "Prob(Omnibus):                  0.000   Jarque-Bera (JB):          4183857.952\n",
       "Skew:                           0.585   Prob(JB):                         0.00\n",
       "Kurtosis:                      10.850   Cond. No.                     3.64e+04\n",
       "==============================================================================\n",
       "\n",
       "Notes:\n",
       "[1] Standard Errors assume that the covariance matrix of the errors is correctly specified.\n",
       "[2] The condition number is large, 3.64e+04. This might indicate that there are\n",
       "strong multicollinearity or other numerical problems.\n",
       "\"\"\""
      ]
     },
     "execution_count": 16,
     "metadata": {},
     "output_type": "execute_result"
    }
   ],
   "source": [
    "df=numerical_columns[['Zichtbaarheid (Decimeter ver kunnen kijken)','ANTL_PTJ']]\n",
    "df['y']=df['ANTL_PTJ']\n",
    "df['x']=df['Zichtbaarheid (Decimeter ver kunnen kijken)']\n",
    "df.drop(columns=['Zichtbaarheid (Decimeter ver kunnen kijken)','ANTL_PTJ'], inplace=True)\n",
    "\n",
    "model = smf.ols(formula= 'y~x', data=df).fit()\n",
    "model.summary()"
   ]
  },
  {
   "cell_type": "code",
   "execution_count": 17,
   "metadata": {},
   "outputs": [
    {
     "data": {
      "image/png": "[encoded data removed]",
      "text/plain": [
       "<Figure size 640x480 with 1 Axes>"
      ]
     },
     "metadata": {},
     "output_type": "display_data"
    }
   ],
   "source": [
    "\n",
    "ax = sns.scatterplot(x=df['x'], y=df['y'])\n",
    "ax.set(xlabel=\"Zichtbaarheid (Decimeter ver kunnen kijken)\", ylabel=\"aantal partijen\")\n",
    "\n",
    "sm.graphics.abline_plot(model_results=model, ax=ax, color=\"red\")\n",
    "plt.show()"
   ]
  },
  {
   "cell_type": "code",
   "execution_count": 23,
   "metadata": {},
   "outputs": [
    {
     "data": {
      "image/png": "[encoded data removed]",
      "text/plain": [
       "<Figure size 1000x600 with 1 Axes>"
      ]
     },
     "metadata": {},
     "output_type": "display_data"
    }
   ],
   "source": [
    "# import matplotlib.pyplot as plt\n",
    "\n",
    "# Assuming merged_gdf is your GeoDataFrame\n",
    "plt.figure(figsize=(10, 6))\n",
    "plt.hist(merged_gdf['BEBKOM'], bins=2, edgecolor='black')\n",
    "plt.xlabel('bebouwde kom')\n",
    "plt.ylabel('Frequency')\n",
    "plt.title('Histogram van aantal ongelukken binnen of buiten de bebouwde kom')\n",
    "plt.show()\n"
   ]
  }
 ],
 "metadata": {
  "kernelspec": {
   "display_name": "base",
   "language": "python",
   "name": "python3"
  },
  "language_info": {
   "codemirror_mode": {
    "name": "ipython",
    "version": 3
   },
   "file_extension": ".py",
   "mimetype": "text/x-python",
   "name": "python",
   "nbconvert_exporter": "python",
   "pygments_lexer": "ipython3",
   "version": "3.11.4"
  }
 },
 "nbformat": 4,
 "nbformat_minor": 2
}
